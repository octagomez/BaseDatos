{
  "nbformat": 4,
  "nbformat_minor": 0,
  "metadata": {
    "colab": {
      "name": "Copia de Trabajo final.ipynb",
      "provenance": [],
      "collapsed_sections": [],
      "include_colab_link": true
    },
    "kernelspec": {
      "name": "python3",
      "display_name": "Python 3"
    },
    "language_info": {
      "name": "python"
    }
  },
  "cells": [
    {
      "cell_type": "markdown",
      "metadata": {
        "id": "view-in-github",
        "colab_type": "text"
      },
      "source": [
        "<a href=\"https://colab.research.google.com/github/octagomez/BaseDatos/blob/main/Copia_de_Trabajo_final_OCTA.ipynb\" target=\"_parent\"><img src=\"https://colab.research.google.com/assets/colab-badge.svg\" alt=\"Open In Colab\"/></a>"
      ]
    },
    {
      "cell_type": "markdown",
      "source": [
        "TECNICATURA EN CIENCIA DE DATOS E INTELIGENCIA ARTIFICIAL\n",
        "\n",
        "Profesor: Ing. Narciso Pérez\n",
        "\n",
        "PROYECTO GRUPAL INCIDENTES VIALES\n",
        "\n",
        "Grupo formado por:\n",
        "\n",
        "--> Arévalo, Iván;\n",
        "\n",
        "--> Giovine, Carina;\n",
        "\n",
        "--> Gómez, Octavio;\n",
        "\n",
        "--> Herrero Rivero, Eduardo."
      ],
      "metadata": {
        "id": "Le5fKzfm-dg6"
      }
    },
    {
      "cell_type": "markdown",
      "source": [
        ""
      ],
      "metadata": {
        "id": "FaPCVF-f-ewO"
      }
    },
    {
      "cell_type": "code",
      "execution_count": 1,
      "metadata": {
        "id": "lC6nuHmuu3GH"
      },
      "outputs": [],
      "source": [
        "import io\n",
        "import matplotlib\n",
        "import matplotlib.pyplot as plt\n",
        "import numpy as np\n",
        "import pandas as pd\n",
        "import seaborn as sns \n",
        "import plotly.io as pio\n",
        "import plotly.express as px"
      ]
    },
    {
      "cell_type": "code",
      "source": [
        "from google.colab import drive\n",
        "drive.mount('/content/drive')"
      ],
      "metadata": {
        "colab": {
          "base_uri": "https://localhost:8080/"
        },
        "id": "t8LFLQNH-fhL",
        "outputId": "1722d0e9-19b4-4818-a614-0815ef06e685"
      },
      "execution_count": 2,
      "outputs": [
        {
          "output_type": "stream",
          "name": "stdout",
          "text": [
            "Mounted at /content/drive\n"
          ]
        }
      ]
    },
    {
      "cell_type": "code",
      "source": [
        "df=pd.read_csv(\"/content/drive/MyDrive/IA_TP/TP_ACCIDENTES_VIALES_MEDELLIN/victimas_inciF_medellin.csv\", sep=\";\")"
      ],
      "metadata": {
        "colab": {
          "base_uri": "https://localhost:8080/"
        },
        "id": "urK3Iq3M-fjz",
        "outputId": "49533faf-9f81-4190-fce6-e3e5776b08e0"
      },
      "execution_count": 25,
      "outputs": [
        {
          "output_type": "stream",
          "name": "stderr",
          "text": [
            "/usr/local/lib/python3.7/dist-packages/IPython/core/interactiveshell.py:2882: DtypeWarning: Columns (11,14) have mixed types.Specify dtype option on import or set low_memory=False.\n",
            "  exec(code_obj, self.user_global_ns, self.user_ns)\n"
          ]
        }
      ]
    },
    {
      "cell_type": "code",
      "source": [
        "df.shape"
      ],
      "metadata": {
        "colab": {
          "base_uri": "https://localhost:8080/"
        },
        "id": "tr0CyBas-fsU",
        "outputId": "fdc85f53-0967-4188-968a-9970e3c0fa69"
      },
      "execution_count": 6,
      "outputs": [
        {
          "output_type": "execute_result",
          "data": {
            "text/plain": [
              "(235843, 19)"
            ]
          },
          "metadata": {},
          "execution_count": 6
        }
      ]
    },
    {
      "cell_type": "code",
      "source": [
        "#Primeros elementos del dataframe\n",
        "df.head()"
      ],
      "metadata": {
        "colab": {
          "base_uri": "https://localhost:8080/",
          "height": 374
        },
        "id": "hIJU_uXX-fmm",
        "outputId": "3f9c8e76-b4a4-4318-e1b6-cbf10458f090"
      },
      "execution_count": 26,
      "outputs": [
        {
          "output_type": "execute_result",
          "data": {
            "text/plain": [
              "  Gravedad_victima Fecha_incidente Hora_incidente Clase_incidente  \\\n",
              "0          Heridos        1/1/2014       00:15:00            Otro   \n",
              "1          Heridos        1/1/2014       00:30:00       Atropello   \n",
              "2          Heridos        1/1/2014       00:30:00       Atropello   \n",
              "3          Heridos        1/1/2014       00:37:00       Atropello   \n",
              "4          Heridos        1/1/2014       00:37:00       Atropello   \n",
              "\n",
              "  Direccion_incidente Sexo Edad     Condicion  Mes   Dia  Num_dia Hora  \\\n",
              "0         CR 49 CL 72    M   17  Motociclista  Ene  MiÃ©        1    0   \n",
              "1         CR 46 CL 98    M   20  Motociclista  Ene  MiÃ©        1    0   \n",
              "2         CR 46 CL 98    F   18       PeatÃ³n  Ene  MiÃ©        1    0   \n",
              "3         CL 32 CR 84    M   19  Motociclista  Ene  MiÃ©        1    0   \n",
              "4         CL 32 CR 84    M   39       PeatÃ³n  Ene  MiÃ©        1    0   \n",
              "\n",
              "  Grupo_edad  AÃ±o Radicado      Latitud      Longitud         Comuna  \\\n",
              "0     oct-19  2014  1423940   6,26691466   -75,5590994  04 - Aranjuez   \n",
              "1    20 - 29  2014  1423921  6,289353458  -75,55329197   01 - Popular   \n",
              "2     oct-19  2014  1423921  6,289353458  -75,55329197   01 - Popular   \n",
              "3     oct-19  2014  1423849  6,234327372  -75,60761079    16 - BelÃ©n   \n",
              "4    30 - 39  2014  1423849  6,234327372  -75,60761079    16 - BelÃ©n   \n",
              "\n",
              "                   Barrio  \n",
              "0  Manrique Central No. 1  \n",
              "1            MoscÃº No. 2  \n",
              "2            MoscÃº No. 2  \n",
              "3            Las Mercedes  \n",
              "4            Las Mercedes  "
            ],
            "text/html": [
              "\n",
              "  <div id=\"df-cfec1549-4e7b-477b-a7b5-890d5cf1a11e\">\n",
              "    <div class=\"colab-df-container\">\n",
              "      <div>\n",
              "<style scoped>\n",
              "    .dataframe tbody tr th:only-of-type {\n",
              "        vertical-align: middle;\n",
              "    }\n",
              "\n",
              "    .dataframe tbody tr th {\n",
              "        vertical-align: top;\n",
              "    }\n",
              "\n",
              "    .dataframe thead th {\n",
              "        text-align: right;\n",
              "    }\n",
              "</style>\n",
              "<table border=\"1\" class=\"dataframe\">\n",
              "  <thead>\n",
              "    <tr style=\"text-align: right;\">\n",
              "      <th></th>\n",
              "      <th>Gravedad_victima</th>\n",
              "      <th>Fecha_incidente</th>\n",
              "      <th>Hora_incidente</th>\n",
              "      <th>Clase_incidente</th>\n",
              "      <th>Direccion_incidente</th>\n",
              "      <th>Sexo</th>\n",
              "      <th>Edad</th>\n",
              "      <th>Condicion</th>\n",
              "      <th>Mes</th>\n",
              "      <th>Dia</th>\n",
              "      <th>Num_dia</th>\n",
              "      <th>Hora</th>\n",
              "      <th>Grupo_edad</th>\n",
              "      <th>AÃ±o</th>\n",
              "      <th>Radicado</th>\n",
              "      <th>Latitud</th>\n",
              "      <th>Longitud</th>\n",
              "      <th>Comuna</th>\n",
              "      <th>Barrio</th>\n",
              "    </tr>\n",
              "  </thead>\n",
              "  <tbody>\n",
              "    <tr>\n",
              "      <th>0</th>\n",
              "      <td>Heridos</td>\n",
              "      <td>1/1/2014</td>\n",
              "      <td>00:15:00</td>\n",
              "      <td>Otro</td>\n",
              "      <td>CR 49 CL 72</td>\n",
              "      <td>M</td>\n",
              "      <td>17</td>\n",
              "      <td>Motociclista</td>\n",
              "      <td>Ene</td>\n",
              "      <td>MiÃ©</td>\n",
              "      <td>1</td>\n",
              "      <td>0</td>\n",
              "      <td>oct-19</td>\n",
              "      <td>2014</td>\n",
              "      <td>1423940</td>\n",
              "      <td>6,26691466</td>\n",
              "      <td>-75,5590994</td>\n",
              "      <td>04 - Aranjuez</td>\n",
              "      <td>Manrique Central No. 1</td>\n",
              "    </tr>\n",
              "    <tr>\n",
              "      <th>1</th>\n",
              "      <td>Heridos</td>\n",
              "      <td>1/1/2014</td>\n",
              "      <td>00:30:00</td>\n",
              "      <td>Atropello</td>\n",
              "      <td>CR 46 CL 98</td>\n",
              "      <td>M</td>\n",
              "      <td>20</td>\n",
              "      <td>Motociclista</td>\n",
              "      <td>Ene</td>\n",
              "      <td>MiÃ©</td>\n",
              "      <td>1</td>\n",
              "      <td>0</td>\n",
              "      <td>20 - 29</td>\n",
              "      <td>2014</td>\n",
              "      <td>1423921</td>\n",
              "      <td>6,289353458</td>\n",
              "      <td>-75,55329197</td>\n",
              "      <td>01 - Popular</td>\n",
              "      <td>MoscÃº No. 2</td>\n",
              "    </tr>\n",
              "    <tr>\n",
              "      <th>2</th>\n",
              "      <td>Heridos</td>\n",
              "      <td>1/1/2014</td>\n",
              "      <td>00:30:00</td>\n",
              "      <td>Atropello</td>\n",
              "      <td>CR 46 CL 98</td>\n",
              "      <td>F</td>\n",
              "      <td>18</td>\n",
              "      <td>PeatÃ³n</td>\n",
              "      <td>Ene</td>\n",
              "      <td>MiÃ©</td>\n",
              "      <td>1</td>\n",
              "      <td>0</td>\n",
              "      <td>oct-19</td>\n",
              "      <td>2014</td>\n",
              "      <td>1423921</td>\n",
              "      <td>6,289353458</td>\n",
              "      <td>-75,55329197</td>\n",
              "      <td>01 - Popular</td>\n",
              "      <td>MoscÃº No. 2</td>\n",
              "    </tr>\n",
              "    <tr>\n",
              "      <th>3</th>\n",
              "      <td>Heridos</td>\n",
              "      <td>1/1/2014</td>\n",
              "      <td>00:37:00</td>\n",
              "      <td>Atropello</td>\n",
              "      <td>CL 32 CR 84</td>\n",
              "      <td>M</td>\n",
              "      <td>19</td>\n",
              "      <td>Motociclista</td>\n",
              "      <td>Ene</td>\n",
              "      <td>MiÃ©</td>\n",
              "      <td>1</td>\n",
              "      <td>0</td>\n",
              "      <td>oct-19</td>\n",
              "      <td>2014</td>\n",
              "      <td>1423849</td>\n",
              "      <td>6,234327372</td>\n",
              "      <td>-75,60761079</td>\n",
              "      <td>16 - BelÃ©n</td>\n",
              "      <td>Las Mercedes</td>\n",
              "    </tr>\n",
              "    <tr>\n",
              "      <th>4</th>\n",
              "      <td>Heridos</td>\n",
              "      <td>1/1/2014</td>\n",
              "      <td>00:37:00</td>\n",
              "      <td>Atropello</td>\n",
              "      <td>CL 32 CR 84</td>\n",
              "      <td>M</td>\n",
              "      <td>39</td>\n",
              "      <td>PeatÃ³n</td>\n",
              "      <td>Ene</td>\n",
              "      <td>MiÃ©</td>\n",
              "      <td>1</td>\n",
              "      <td>0</td>\n",
              "      <td>30 - 39</td>\n",
              "      <td>2014</td>\n",
              "      <td>1423849</td>\n",
              "      <td>6,234327372</td>\n",
              "      <td>-75,60761079</td>\n",
              "      <td>16 - BelÃ©n</td>\n",
              "      <td>Las Mercedes</td>\n",
              "    </tr>\n",
              "  </tbody>\n",
              "</table>\n",
              "</div>\n",
              "      <button class=\"colab-df-convert\" onclick=\"convertToInteractive('df-cfec1549-4e7b-477b-a7b5-890d5cf1a11e')\"\n",
              "              title=\"Convert this dataframe to an interactive table.\"\n",
              "              style=\"display:none;\">\n",
              "        \n",
              "  <svg xmlns=\"http://www.w3.org/2000/svg\" height=\"24px\"viewBox=\"0 0 24 24\"\n",
              "       width=\"24px\">\n",
              "    <path d=\"M0 0h24v24H0V0z\" fill=\"none\"/>\n",
              "    <path d=\"M18.56 5.44l.94 2.06.94-2.06 2.06-.94-2.06-.94-.94-2.06-.94 2.06-2.06.94zm-11 1L8.5 8.5l.94-2.06 2.06-.94-2.06-.94L8.5 2.5l-.94 2.06-2.06.94zm10 10l.94 2.06.94-2.06 2.06-.94-2.06-.94-.94-2.06-.94 2.06-2.06.94z\"/><path d=\"M17.41 7.96l-1.37-1.37c-.4-.4-.92-.59-1.43-.59-.52 0-1.04.2-1.43.59L10.3 9.45l-7.72 7.72c-.78.78-.78 2.05 0 2.83L4 21.41c.39.39.9.59 1.41.59.51 0 1.02-.2 1.41-.59l7.78-7.78 2.81-2.81c.8-.78.8-2.07 0-2.86zM5.41 20L4 18.59l7.72-7.72 1.47 1.35L5.41 20z\"/>\n",
              "  </svg>\n",
              "      </button>\n",
              "      \n",
              "  <style>\n",
              "    .colab-df-container {\n",
              "      display:flex;\n",
              "      flex-wrap:wrap;\n",
              "      gap: 12px;\n",
              "    }\n",
              "\n",
              "    .colab-df-convert {\n",
              "      background-color: #E8F0FE;\n",
              "      border: none;\n",
              "      border-radius: 50%;\n",
              "      cursor: pointer;\n",
              "      display: none;\n",
              "      fill: #1967D2;\n",
              "      height: 32px;\n",
              "      padding: 0 0 0 0;\n",
              "      width: 32px;\n",
              "    }\n",
              "\n",
              "    .colab-df-convert:hover {\n",
              "      background-color: #E2EBFA;\n",
              "      box-shadow: 0px 1px 2px rgba(60, 64, 67, 0.3), 0px 1px 3px 1px rgba(60, 64, 67, 0.15);\n",
              "      fill: #174EA6;\n",
              "    }\n",
              "\n",
              "    [theme=dark] .colab-df-convert {\n",
              "      background-color: #3B4455;\n",
              "      fill: #D2E3FC;\n",
              "    }\n",
              "\n",
              "    [theme=dark] .colab-df-convert:hover {\n",
              "      background-color: #434B5C;\n",
              "      box-shadow: 0px 1px 3px 1px rgba(0, 0, 0, 0.15);\n",
              "      filter: drop-shadow(0px 1px 2px rgba(0, 0, 0, 0.3));\n",
              "      fill: #FFFFFF;\n",
              "    }\n",
              "  </style>\n",
              "\n",
              "      <script>\n",
              "        const buttonEl =\n",
              "          document.querySelector('#df-cfec1549-4e7b-477b-a7b5-890d5cf1a11e button.colab-df-convert');\n",
              "        buttonEl.style.display =\n",
              "          google.colab.kernel.accessAllowed ? 'block' : 'none';\n",
              "\n",
              "        async function convertToInteractive(key) {\n",
              "          const element = document.querySelector('#df-cfec1549-4e7b-477b-a7b5-890d5cf1a11e');\n",
              "          const dataTable =\n",
              "            await google.colab.kernel.invokeFunction('convertToInteractive',\n",
              "                                                     [key], {});\n",
              "          if (!dataTable) return;\n",
              "\n",
              "          const docLinkHtml = 'Like what you see? Visit the ' +\n",
              "            '<a target=\"_blank\" href=https://colab.research.google.com/notebooks/data_table.ipynb>data table notebook</a>'\n",
              "            + ' to learn more about interactive tables.';\n",
              "          element.innerHTML = '';\n",
              "          dataTable['output_type'] = 'display_data';\n",
              "          await google.colab.output.renderOutput(dataTable, element);\n",
              "          const docLink = document.createElement('div');\n",
              "          docLink.innerHTML = docLinkHtml;\n",
              "          element.appendChild(docLink);\n",
              "        }\n",
              "      </script>\n",
              "    </div>\n",
              "  </div>\n",
              "  "
            ]
          },
          "metadata": {},
          "execution_count": 26
        }
      ]
    },
    {
      "cell_type": "code",
      "source": [
        "#últimos 5 datos del dataset\n",
        "df.tail(5)"
      ],
      "metadata": {
        "colab": {
          "base_uri": "https://localhost:8080/",
          "height": 322
        },
        "id": "u2IIdCL0-fph",
        "outputId": "1f850363-f0f7-4b89-b80a-a7ee2aef8735"
      },
      "execution_count": 8,
      "outputs": [
        {
          "output_type": "execute_result",
          "data": {
            "text/plain": [
              "       Gravedad_victima Fecha_incidente Hora_incidente Clase_incidente  \\\n",
              "235838          Heridos       30/9/2021       22:00:00            Otro   \n",
              "235839          Heridos       30/9/2021       22:00:00            Otro   \n",
              "235840          Heridos       30/9/2021       22:00:00  Caida Ocupante   \n",
              "235841          Heridos       30/9/2021       23:00:00       Atropello   \n",
              "235842          Heridos       30/9/2021       23:00:00            Otro   \n",
              "\n",
              "       Direccion_incidente Sexo Edad                    Condicion  Mes  Dia  \\\n",
              "235838        CL 54 CR 9 A    M   32                 Motociclista  Sep  Jue   \n",
              "235839        CL 54 CR 9 A    F   29  AcompaÃ±ante de motocicleta  Sep  Jue   \n",
              "235840         CL 81 CR 39    M   41  AcompaÃ±ante de motocicleta  Sep  Jue   \n",
              "235841         CR 63 CL 32    F   51                      PeatÃ³n  Sep  Jue   \n",
              "235842        CR 107 CL 65    M   23                 Motociclista  Sep  Jue   \n",
              "\n",
              "        Num_dia Hora Grupo_edad  AÃ±o Radicado       Latitud    Longitud  \\\n",
              "235838       30   22    30 - 39  2021  1764135  -75,53631071  6,23426695   \n",
              "235839       30   22    20 - 29  2021  1764135  -75,53631071  6,23426695   \n",
              "235840       30   22    40 - 49  2021  1763968  -75,54867484    6,272697   \n",
              "235841       30   23    50 - 59  2021  1764133       Sin Inf     Sin Inf   \n",
              "235842       30   23    20 - 29  2021  1763946       Sin Inf     Sin Inf   \n",
              "\n",
              "                    Comuna         Barrio  \n",
              "235838  08 - Villa Hermosa  Las Estancias  \n",
              "235839  08 - Villa Hermosa  Las Estancias  \n",
              "235840       03 - Manrique    Santa InÃ©s  \n",
              "235841             Sin Inf            NaN  \n",
              "235842             Sin Inf            NaN  "
            ],
            "text/html": [
              "\n",
              "  <div id=\"df-6af00637-52c9-40fd-b7df-22e626a34dd9\">\n",
              "    <div class=\"colab-df-container\">\n",
              "      <div>\n",
              "<style scoped>\n",
              "    .dataframe tbody tr th:only-of-type {\n",
              "        vertical-align: middle;\n",
              "    }\n",
              "\n",
              "    .dataframe tbody tr th {\n",
              "        vertical-align: top;\n",
              "    }\n",
              "\n",
              "    .dataframe thead th {\n",
              "        text-align: right;\n",
              "    }\n",
              "</style>\n",
              "<table border=\"1\" class=\"dataframe\">\n",
              "  <thead>\n",
              "    <tr style=\"text-align: right;\">\n",
              "      <th></th>\n",
              "      <th>Gravedad_victima</th>\n",
              "      <th>Fecha_incidente</th>\n",
              "      <th>Hora_incidente</th>\n",
              "      <th>Clase_incidente</th>\n",
              "      <th>Direccion_incidente</th>\n",
              "      <th>Sexo</th>\n",
              "      <th>Edad</th>\n",
              "      <th>Condicion</th>\n",
              "      <th>Mes</th>\n",
              "      <th>Dia</th>\n",
              "      <th>Num_dia</th>\n",
              "      <th>Hora</th>\n",
              "      <th>Grupo_edad</th>\n",
              "      <th>AÃ±o</th>\n",
              "      <th>Radicado</th>\n",
              "      <th>Latitud</th>\n",
              "      <th>Longitud</th>\n",
              "      <th>Comuna</th>\n",
              "      <th>Barrio</th>\n",
              "    </tr>\n",
              "  </thead>\n",
              "  <tbody>\n",
              "    <tr>\n",
              "      <th>235838</th>\n",
              "      <td>Heridos</td>\n",
              "      <td>30/9/2021</td>\n",
              "      <td>22:00:00</td>\n",
              "      <td>Otro</td>\n",
              "      <td>CL 54 CR 9 A</td>\n",
              "      <td>M</td>\n",
              "      <td>32</td>\n",
              "      <td>Motociclista</td>\n",
              "      <td>Sep</td>\n",
              "      <td>Jue</td>\n",
              "      <td>30</td>\n",
              "      <td>22</td>\n",
              "      <td>30 - 39</td>\n",
              "      <td>2021</td>\n",
              "      <td>1764135</td>\n",
              "      <td>-75,53631071</td>\n",
              "      <td>6,23426695</td>\n",
              "      <td>08 - Villa Hermosa</td>\n",
              "      <td>Las Estancias</td>\n",
              "    </tr>\n",
              "    <tr>\n",
              "      <th>235839</th>\n",
              "      <td>Heridos</td>\n",
              "      <td>30/9/2021</td>\n",
              "      <td>22:00:00</td>\n",
              "      <td>Otro</td>\n",
              "      <td>CL 54 CR 9 A</td>\n",
              "      <td>F</td>\n",
              "      <td>29</td>\n",
              "      <td>AcompaÃ±ante de motocicleta</td>\n",
              "      <td>Sep</td>\n",
              "      <td>Jue</td>\n",
              "      <td>30</td>\n",
              "      <td>22</td>\n",
              "      <td>20 - 29</td>\n",
              "      <td>2021</td>\n",
              "      <td>1764135</td>\n",
              "      <td>-75,53631071</td>\n",
              "      <td>6,23426695</td>\n",
              "      <td>08 - Villa Hermosa</td>\n",
              "      <td>Las Estancias</td>\n",
              "    </tr>\n",
              "    <tr>\n",
              "      <th>235840</th>\n",
              "      <td>Heridos</td>\n",
              "      <td>30/9/2021</td>\n",
              "      <td>22:00:00</td>\n",
              "      <td>Caida Ocupante</td>\n",
              "      <td>CL 81 CR 39</td>\n",
              "      <td>M</td>\n",
              "      <td>41</td>\n",
              "      <td>AcompaÃ±ante de motocicleta</td>\n",
              "      <td>Sep</td>\n",
              "      <td>Jue</td>\n",
              "      <td>30</td>\n",
              "      <td>22</td>\n",
              "      <td>40 - 49</td>\n",
              "      <td>2021</td>\n",
              "      <td>1763968</td>\n",
              "      <td>-75,54867484</td>\n",
              "      <td>6,272697</td>\n",
              "      <td>03 - Manrique</td>\n",
              "      <td>Santa InÃ©s</td>\n",
              "    </tr>\n",
              "    <tr>\n",
              "      <th>235841</th>\n",
              "      <td>Heridos</td>\n",
              "      <td>30/9/2021</td>\n",
              "      <td>23:00:00</td>\n",
              "      <td>Atropello</td>\n",
              "      <td>CR 63 CL 32</td>\n",
              "      <td>F</td>\n",
              "      <td>51</td>\n",
              "      <td>PeatÃ³n</td>\n",
              "      <td>Sep</td>\n",
              "      <td>Jue</td>\n",
              "      <td>30</td>\n",
              "      <td>23</td>\n",
              "      <td>50 - 59</td>\n",
              "      <td>2021</td>\n",
              "      <td>1764133</td>\n",
              "      <td>Sin Inf</td>\n",
              "      <td>Sin Inf</td>\n",
              "      <td>Sin Inf</td>\n",
              "      <td>NaN</td>\n",
              "    </tr>\n",
              "    <tr>\n",
              "      <th>235842</th>\n",
              "      <td>Heridos</td>\n",
              "      <td>30/9/2021</td>\n",
              "      <td>23:00:00</td>\n",
              "      <td>Otro</td>\n",
              "      <td>CR 107 CL 65</td>\n",
              "      <td>M</td>\n",
              "      <td>23</td>\n",
              "      <td>Motociclista</td>\n",
              "      <td>Sep</td>\n",
              "      <td>Jue</td>\n",
              "      <td>30</td>\n",
              "      <td>23</td>\n",
              "      <td>20 - 29</td>\n",
              "      <td>2021</td>\n",
              "      <td>1763946</td>\n",
              "      <td>Sin Inf</td>\n",
              "      <td>Sin Inf</td>\n",
              "      <td>Sin Inf</td>\n",
              "      <td>NaN</td>\n",
              "    </tr>\n",
              "  </tbody>\n",
              "</table>\n",
              "</div>\n",
              "      <button class=\"colab-df-convert\" onclick=\"convertToInteractive('df-6af00637-52c9-40fd-b7df-22e626a34dd9')\"\n",
              "              title=\"Convert this dataframe to an interactive table.\"\n",
              "              style=\"display:none;\">\n",
              "        \n",
              "  <svg xmlns=\"http://www.w3.org/2000/svg\" height=\"24px\"viewBox=\"0 0 24 24\"\n",
              "       width=\"24px\">\n",
              "    <path d=\"M0 0h24v24H0V0z\" fill=\"none\"/>\n",
              "    <path d=\"M18.56 5.44l.94 2.06.94-2.06 2.06-.94-2.06-.94-.94-2.06-.94 2.06-2.06.94zm-11 1L8.5 8.5l.94-2.06 2.06-.94-2.06-.94L8.5 2.5l-.94 2.06-2.06.94zm10 10l.94 2.06.94-2.06 2.06-.94-2.06-.94-.94-2.06-.94 2.06-2.06.94z\"/><path d=\"M17.41 7.96l-1.37-1.37c-.4-.4-.92-.59-1.43-.59-.52 0-1.04.2-1.43.59L10.3 9.45l-7.72 7.72c-.78.78-.78 2.05 0 2.83L4 21.41c.39.39.9.59 1.41.59.51 0 1.02-.2 1.41-.59l7.78-7.78 2.81-2.81c.8-.78.8-2.07 0-2.86zM5.41 20L4 18.59l7.72-7.72 1.47 1.35L5.41 20z\"/>\n",
              "  </svg>\n",
              "      </button>\n",
              "      \n",
              "  <style>\n",
              "    .colab-df-container {\n",
              "      display:flex;\n",
              "      flex-wrap:wrap;\n",
              "      gap: 12px;\n",
              "    }\n",
              "\n",
              "    .colab-df-convert {\n",
              "      background-color: #E8F0FE;\n",
              "      border: none;\n",
              "      border-radius: 50%;\n",
              "      cursor: pointer;\n",
              "      display: none;\n",
              "      fill: #1967D2;\n",
              "      height: 32px;\n",
              "      padding: 0 0 0 0;\n",
              "      width: 32px;\n",
              "    }\n",
              "\n",
              "    .colab-df-convert:hover {\n",
              "      background-color: #E2EBFA;\n",
              "      box-shadow: 0px 1px 2px rgba(60, 64, 67, 0.3), 0px 1px 3px 1px rgba(60, 64, 67, 0.15);\n",
              "      fill: #174EA6;\n",
              "    }\n",
              "\n",
              "    [theme=dark] .colab-df-convert {\n",
              "      background-color: #3B4455;\n",
              "      fill: #D2E3FC;\n",
              "    }\n",
              "\n",
              "    [theme=dark] .colab-df-convert:hover {\n",
              "      background-color: #434B5C;\n",
              "      box-shadow: 0px 1px 3px 1px rgba(0, 0, 0, 0.15);\n",
              "      filter: drop-shadow(0px 1px 2px rgba(0, 0, 0, 0.3));\n",
              "      fill: #FFFFFF;\n",
              "    }\n",
              "  </style>\n",
              "\n",
              "      <script>\n",
              "        const buttonEl =\n",
              "          document.querySelector('#df-6af00637-52c9-40fd-b7df-22e626a34dd9 button.colab-df-convert');\n",
              "        buttonEl.style.display =\n",
              "          google.colab.kernel.accessAllowed ? 'block' : 'none';\n",
              "\n",
              "        async function convertToInteractive(key) {\n",
              "          const element = document.querySelector('#df-6af00637-52c9-40fd-b7df-22e626a34dd9');\n",
              "          const dataTable =\n",
              "            await google.colab.kernel.invokeFunction('convertToInteractive',\n",
              "                                                     [key], {});\n",
              "          if (!dataTable) return;\n",
              "\n",
              "          const docLinkHtml = 'Like what you see? Visit the ' +\n",
              "            '<a target=\"_blank\" href=https://colab.research.google.com/notebooks/data_table.ipynb>data table notebook</a>'\n",
              "            + ' to learn more about interactive tables.';\n",
              "          element.innerHTML = '';\n",
              "          dataTable['output_type'] = 'display_data';\n",
              "          await google.colab.output.renderOutput(dataTable, element);\n",
              "          const docLink = document.createElement('div');\n",
              "          docLink.innerHTML = docLinkHtml;\n",
              "          element.appendChild(docLink);\n",
              "        }\n",
              "      </script>\n",
              "    </div>\n",
              "  </div>\n",
              "  "
            ]
          },
          "metadata": {},
          "execution_count": 8
        }
      ]
    },
    {
      "cell_type": "code",
      "source": [
        "df.dtypes"
      ],
      "metadata": {
        "colab": {
          "base_uri": "https://localhost:8080/"
        },
        "id": "P-iDvLj5-_oC",
        "outputId": "93dafaa9-6838-4d67-d898-a0e9fb93a168"
      },
      "execution_count": 9,
      "outputs": [
        {
          "output_type": "execute_result",
          "data": {
            "text/plain": [
              "Gravedad_victima       object\n",
              "Fecha_incidente        object\n",
              "Hora_incidente         object\n",
              "Clase_incidente        object\n",
              "Direccion_incidente    object\n",
              "Sexo                   object\n",
              "Edad                   object\n",
              "Condicion              object\n",
              "Mes                    object\n",
              "Dia                    object\n",
              "Num_dia                 int64\n",
              "Hora                   object\n",
              "Grupo_edad             object\n",
              "AÃ±o                    int64\n",
              "Radicado               object\n",
              "Latitud                object\n",
              "Longitud               object\n",
              "Comuna                 object\n",
              "Barrio                 object\n",
              "dtype: object"
            ]
          },
          "metadata": {},
          "execution_count": 9
        }
      ]
    },
    {
      "cell_type": "code",
      "source": [
        "# Informacion general de los datos de cada cloumna\n",
        "# Indica el numero de filas del dataset\n",
        "# Muestra el numero de datos No Nulos por columna (valores validos)\n",
        "# Tipo de dato de cada columna\n",
        "# Tamaño total del dataset\n",
        "df.info\n",
        "df.rename(columns={'AÃ±o ': 'Anio'})"
      ],
      "metadata": {
        "colab": {
          "base_uri": "https://localhost:8080/",
          "height": 226
        },
        "id": "E8rblcY5-fvW",
        "outputId": "7ba3c81a-68ae-4abb-bc88-9b881e4aeff9"
      },
      "execution_count": 24,
      "outputs": [
        {
          "output_type": "error",
          "ename": "AttributeError",
          "evalue": "ignored",
          "traceback": [
            "\u001b[0;31m---------------------------------------------------------------------------\u001b[0m",
            "\u001b[0;31mAttributeError\u001b[0m                            Traceback (most recent call last)",
            "\u001b[0;32m<ipython-input-24-259fc2f8d3ab>\u001b[0m in \u001b[0;36m<module>\u001b[0;34m()\u001b[0m\n\u001b[1;32m      4\u001b[0m \u001b[0;31m# Tipo de dato de cada columna\u001b[0m\u001b[0;34m\u001b[0m\u001b[0;34m\u001b[0m\u001b[0;34m\u001b[0m\u001b[0m\n\u001b[1;32m      5\u001b[0m \u001b[0;31m# Tamaño total del dataset\u001b[0m\u001b[0;34m\u001b[0m\u001b[0;34m\u001b[0m\u001b[0;34m\u001b[0m\u001b[0m\n\u001b[0;32m----> 6\u001b[0;31m \u001b[0mdf\u001b[0m\u001b[0;34m.\u001b[0m\u001b[0minfo\u001b[0m\u001b[0;34m\u001b[0m\u001b[0;34m\u001b[0m\u001b[0m\n\u001b[0m\u001b[1;32m      7\u001b[0m \u001b[0mdf\u001b[0m\u001b[0;34m.\u001b[0m\u001b[0mrename\u001b[0m\u001b[0;34m(\u001b[0m\u001b[0mcolumns\u001b[0m\u001b[0;34m=\u001b[0m\u001b[0;34m{\u001b[0m\u001b[0;34m'AÃ±o '\u001b[0m\u001b[0;34m:\u001b[0m \u001b[0;34m'Anio'\u001b[0m\u001b[0;34m}\u001b[0m\u001b[0;34m)\u001b[0m\u001b[0;34m\u001b[0m\u001b[0;34m\u001b[0m\u001b[0m\n",
            "\u001b[0;31mAttributeError\u001b[0m: 'NoneType' object has no attribute 'info'"
          ]
        }
      ]
    },
    {
      "cell_type": "code",
      "source": [
        "df = df.rename(columns={'AÃ±o': 'Anio'}) "
      ],
      "metadata": {
        "id": "NL1k2ut7-r2W"
      },
      "execution_count": 27,
      "outputs": []
    },
    {
      "cell_type": "code",
      "source": [
        "#con count() conozco cuantos registros tengo por columna\n",
        "df.count()"
      ],
      "metadata": {
        "colab": {
          "base_uri": "https://localhost:8080/"
        },
        "id": "jWdb2edB-fyH",
        "outputId": "c692208c-1d03-40e6-9f75-905bb8d1e9bd"
      },
      "execution_count": 28,
      "outputs": [
        {
          "output_type": "execute_result",
          "data": {
            "text/plain": [
              "Gravedad_victima       235843\n",
              "Fecha_incidente        235843\n",
              "Hora_incidente         235843\n",
              "Clase_incidente        235843\n",
              "Direccion_incidente    235831\n",
              "Sexo                   235843\n",
              "Edad                   235335\n",
              "Condicion              235843\n",
              "Mes                    235843\n",
              "Dia                    235843\n",
              "Num_dia                235843\n",
              "Hora                   235843\n",
              "Grupo_edad             235843\n",
              "Anio                   235843\n",
              "Radicado               235838\n",
              "Latitud                235843\n",
              "Longitud               235843\n",
              "Comuna                 235843\n",
              "Barrio                 235225\n",
              "dtype: int64"
            ]
          },
          "metadata": {},
          "execution_count": 28
        }
      ]
    },
    {
      "cell_type": "code",
      "source": [
        "# Realizamos una exploracion de nuestro data frame verificando por cada variable \n",
        "# sus valores unicos\n",
        "print('\\n Gravedad_victima = {}'.format(df.Gravedad_victima.unique()))\n",
        "print('\\n Fecha_incidente = {}'.format(df.Fecha_incidente.unique()))\n",
        "print('\\n Hora_incidente = {}'.format(df.Hora_incidente.unique()))\n",
        "print('\\n Clase_incidente = {}'.format(df.Clase_incidente.unique()))\n",
        "print('\\n Direccion_incidente = {}'.format(df.Direccion_incidente.unique()))\n",
        "print('\\n Sexo = {}'.format(df.Sexo.unique()))\n",
        "print('\\n Edad = {}'.format(df.Edad.unique()))\n",
        "print('\\n Condicion = {}'.format(df.Condicion.unique()))\n",
        "print('\\n Mes = {}'.format(df.Mes.unique()))\n",
        "print('\\n Dia = {}'.format(df.Dia.unique()))\n",
        "print('\\n Num_dia = {}'.format(df.Num_dia.unique()))\n",
        "print('\\n Hora = {}'.format(df.Hora.unique()))\n",
        "print('\\n Grupo_edad = {}'.format(df.Grupo_edad.unique()))\n",
        "print('\\n Anio = {}'.format(df.Anio.unique()))\n",
        "print('\\n Radicado = {}'.format(df.Radicado.unique()))\n",
        "print('\\n Latitud = {}'.format(df.Latitud.unique()))\n",
        "print('\\n Longitud = {}'.format(df.Longitud.unique()))\n",
        "print('\\n Comuna = {}'.format(df.Comuna.unique()))\n",
        "print('\\n Barrio = {}'.format(df.Barrio.unique()[:10]))\n",
        "df.columns.head"
      ],
      "metadata": {
        "colab": {
          "base_uri": "https://localhost:8080/",
          "height": 1000
        },
        "id": "wrjym3zBBfik",
        "outputId": "5dcc3344-11f5-40fc-e9b4-31f6e0f5fc29"
      },
      "execution_count": 30,
      "outputs": [
        {
          "output_type": "stream",
          "name": "stdout",
          "text": [
            "\n",
            " Gravedad_victima = ['Heridos' 'Muertos']\n",
            "\n",
            " Fecha_incidente = ['1/1/2014' '2/1/2014' '3/1/2014' ... '28/9/2021' '29/9/2021' '30/9/2021']\n",
            "\n",
            " Hora_incidente = ['00:15:00' '00:30:00' '00:37:00' ... '01:18:00' '03:53:00' '02:07:00']\n",
            "\n",
            " Clase_incidente = ['Otro' 'Atropello' 'Choque' 'Caida Ocupante' 'Volcamiento' 'Incendio']\n",
            "\n",
            " Direccion_incidente = ['CR 49 CL 72' 'CR 46 CL 98' 'CL 32 CR 84' ... 'CR 49 DG 50'\n",
            " 'DG 75 B CL 76' 'CL 28 A CR 65 A']\n",
            "\n",
            " Sexo = ['M' 'F' 'Sin Inf' 'Sin inf']\n",
            "\n",
            " Edad = ['17' '20' '18' '19' '39' '44' '7' '35' '51' '30' 'Sin Inf' '34' '26' '29'\n",
            " '27' '32' '33' '24' '23' '36' '25' '28' '52' '38' '61' '58' '22' '73'\n",
            " '21' '5' '31' '4' '14' '63' '50' '49' '59' '54' '85' '6' '46' '62' '15'\n",
            " '41' '16' '2' '47' '37' '83' '55' '13' '65' '3' '72' '57' '9' '45' '12'\n",
            " '82' '43' '1' '40' '53' '56' '0' '8' '76' '71' '42' '11' '64' '67' '70'\n",
            " '66' '77' '48' '78' '68' '74' '10' '60' '79' '75' '69' '91' '81' '88'\n",
            " '89' '86' '90' '84' '80' '87' '92' '98' '95' '94' '97' '93' '96' '118'\n",
            " '106' '108' '107' '104' '105' '119' '30-35' '109' '45-50' '137' '102'\n",
            " '30 - 35' '20 - 29' '99' '110' nan '120' '100' '121' '111']\n",
            "\n",
            " Condicion = ['Motociclista' 'PeatÃ³n' 'AcompaÃ±ante de Motocicleta' 'Conductor'\n",
            " 'Ciclista' 'Pasajero' 'AcompaÃ±ante de motocicleta']\n",
            "\n",
            " Mes = ['Ene' 'Feb' 'Mar' 'Abr' 'May' 'Jun' 'Jul' 'Ago' 'Sept' 'Oct' 'Nov' 'Dic'\n",
            " 'Sep']\n",
            "\n",
            " Dia = ['MiÃ©' 'Jue' 'Vie' 'SÃ¡b' 'Dom' 'Lun' 'Mar']\n",
            "\n",
            " Num_dia = [ 1  2  3  4  5  6  7  8  9 10 11 12 13 14 15 16 17 18 19 20 21 22 23 24\n",
            " 25 26 27 28 29 30 31  0]\n",
            "\n",
            " Hora = [0 1 2 3 4 5 6 7 8 9 10 11 12 13 14 15 16 17 18 19 20 21 22 23 '9' '10'\n",
            " '11' '12' '13' '14' '15' '16' '17' '18' '19' '20' '21' '22' '0' '5' '6'\n",
            " '7' '8' '23' '3' '1' '2' '4' 'Sin Inf']\n",
            "\n",
            " Grupo_edad = ['oct-19' '20 - 29' '30 - 39' '40 - 49' '0 - 9' '50 - 59' 'Sin Inf'\n",
            " '60 - 69' '70 - 79' '80 o mÃ¡s']\n",
            "\n",
            " Anio = [2014 2015 2016 2017 2018 2019 2020 2021]\n",
            "\n",
            " Radicado = ['1423940' '1423921' '1423849' ... 1763968 1764133 1763946]\n",
            "\n",
            " Latitud = ['6,26691466' '6,289353458' '6,234327372' ... '-75,57582422'\n",
            " '-75,53631071' '-75,54867484']\n",
            "\n",
            " Longitud = ['-75,5590994' '-75,55329197' '-75,60761079' ... '6,2178952' '6,23426695'\n",
            " '6,272697']\n",
            "\n",
            " Comuna = ['04 - Aranjuez' '01 - Popular' '16 - BelÃ©n' '10 - La Candelaria'\n",
            " '03 - Manrique' '07 - Robledo' '11 - Laureles Estadio' 'Sin Inf'\n",
            " '14 - El Poblado' '15 - Guayabal' '09 - Buenos Aires'\n",
            " '06 - Doce de Octubre' '05 - Castilla' '12 - La AmÃ©rica'\n",
            " '08 - Villa Hermosa' '13 - San Javier'\n",
            " '60 - Corregimiento de San CristÃ³bal' '02 - Santa Cruz'\n",
            " '90 - Corregimiento de Santa Elena' '70 - Corregimiento de Altavista'\n",
            " '80 - Corregimiento de San Antonio de Prado'\n",
            " '50 - Corregimiento de San SebastiÃ¡n de Palmitas']\n",
            "\n",
            " Barrio = ['Manrique Central No. 1' 'MoscÃº No. 2' 'Las Mercedes' 'JesÃºs Nazareno'\n",
            " 'Manrique Oriental' 'Villa Flora' 'U.D. Atanasio Girardot' 'Sin Inf'\n",
            " 'Villa Carlota' 'Loma de los Bernal']\n"
          ]
        },
        {
          "output_type": "error",
          "ename": "AttributeError",
          "evalue": "ignored",
          "traceback": [
            "\u001b[0;31m---------------------------------------------------------------------------\u001b[0m",
            "\u001b[0;31mAttributeError\u001b[0m                            Traceback (most recent call last)",
            "\u001b[0;32m<ipython-input-30-5fbaa99649f7>\u001b[0m in \u001b[0;36m<module>\u001b[0;34m()\u001b[0m\n\u001b[1;32m     20\u001b[0m \u001b[0mprint\u001b[0m\u001b[0;34m(\u001b[0m\u001b[0;34m'\\n Comuna = {}'\u001b[0m\u001b[0;34m.\u001b[0m\u001b[0mformat\u001b[0m\u001b[0;34m(\u001b[0m\u001b[0mdf\u001b[0m\u001b[0;34m.\u001b[0m\u001b[0mComuna\u001b[0m\u001b[0;34m.\u001b[0m\u001b[0munique\u001b[0m\u001b[0;34m(\u001b[0m\u001b[0;34m)\u001b[0m\u001b[0;34m)\u001b[0m\u001b[0;34m)\u001b[0m\u001b[0;34m\u001b[0m\u001b[0;34m\u001b[0m\u001b[0m\n\u001b[1;32m     21\u001b[0m \u001b[0mprint\u001b[0m\u001b[0;34m(\u001b[0m\u001b[0;34m'\\n Barrio = {}'\u001b[0m\u001b[0;34m.\u001b[0m\u001b[0mformat\u001b[0m\u001b[0;34m(\u001b[0m\u001b[0mdf\u001b[0m\u001b[0;34m.\u001b[0m\u001b[0mBarrio\u001b[0m\u001b[0;34m.\u001b[0m\u001b[0munique\u001b[0m\u001b[0;34m(\u001b[0m\u001b[0;34m)\u001b[0m\u001b[0;34m[\u001b[0m\u001b[0;34m:\u001b[0m\u001b[0;36m10\u001b[0m\u001b[0;34m]\u001b[0m\u001b[0;34m)\u001b[0m\u001b[0;34m)\u001b[0m\u001b[0;34m\u001b[0m\u001b[0;34m\u001b[0m\u001b[0m\n\u001b[0;32m---> 22\u001b[0;31m \u001b[0mdf\u001b[0m\u001b[0;34m.\u001b[0m\u001b[0mcolumns\u001b[0m\u001b[0;34m.\u001b[0m\u001b[0mhead\u001b[0m\u001b[0;34m\u001b[0m\u001b[0;34m\u001b[0m\u001b[0m\n\u001b[0m",
            "\u001b[0;31mAttributeError\u001b[0m: 'Index' object has no attribute 'head'"
          ]
        }
      ]
    },
    {
      "cell_type": "code",
      "source": [
        "# Numero de datos faltantes por columna\n",
        "df.isnull().sum()"
      ],
      "metadata": {
        "colab": {
          "base_uri": "https://localhost:8080/"
        },
        "id": "xhDne4rx_YOq",
        "outputId": "036d8fc8-9cd5-4819-fc05-620e4887d3cd"
      },
      "execution_count": 31,
      "outputs": [
        {
          "output_type": "execute_result",
          "data": {
            "text/plain": [
              "Gravedad_victima         0\n",
              "Fecha_incidente          0\n",
              "Hora_incidente           0\n",
              "Clase_incidente          0\n",
              "Direccion_incidente     12\n",
              "Sexo                     0\n",
              "Edad                   508\n",
              "Condicion                0\n",
              "Mes                      0\n",
              "Dia                      0\n",
              "Num_dia                  0\n",
              "Hora                     0\n",
              "Grupo_edad               0\n",
              "Anio                     0\n",
              "Radicado                 5\n",
              "Latitud                  0\n",
              "Longitud                 0\n",
              "Comuna                   0\n",
              "Barrio                 618\n",
              "dtype: int64"
            ]
          },
          "metadata": {},
          "execution_count": 31
        }
      ]
    },
    {
      "cell_type": "code",
      "source": [
        "duplicate = df[df.duplicated()] \n",
        "  \n",
        "print(\"Duplicate Rows :\") \n",
        "  \n",
        "duplicate"
      ],
      "metadata": {
        "colab": {
          "base_uri": "https://localhost:8080/",
          "height": 730
        },
        "id": "xUFuf28E-_tG",
        "outputId": "4dfb1803-4041-43bc-eb05-90580f41757b"
      },
      "execution_count": null,
      "outputs": [
        {
          "output_type": "stream",
          "name": "stdout",
          "text": [
            "Duplicate Rows :\n"
          ]
        },
        {
          "output_type": "execute_result",
          "data": {
            "text/plain": [
              "       Gravedad_victima Fecha_incidente Hora_incidente Clase_incidente  \\\n",
              "16722           Heridos       14/7/2014       11:10:00          Choque   \n",
              "19076           Heridos        9/8/2014       07:45:00          Choque   \n",
              "30970           Heridos      25/12/2014       22:00:00          Choque   \n",
              "37820           Heridos       15/3/2015       02:30:00          Choque   \n",
              "42997           Heridos       12/5/2015       14:00:00       Atropello   \n",
              "...                 ...             ...            ...             ...   \n",
              "233994          Heridos       11/9/2021       09:28:00          Choque   \n",
              "234804          Heridos       19/9/2021       20:00:00       Atropello   \n",
              "235016          Heridos       21/9/2021       22:35:00          Choque   \n",
              "235038          Heridos       22/9/2021       06:40:00          Choque   \n",
              "235146          Heridos       23/9/2021       05:00:00            Otro   \n",
              "\n",
              "       Direccion_incidente Sexo     Edad     Condicion  Mes  Dia  Num_dia  \\\n",
              "16722          CR 63 CL 57    M  Sin Inf     Conductor  Jul  Lun       14   \n",
              "19076        CL 77 CR 56 A    F       33     Conductor  Ago  Sáb        9   \n",
              "30970      CL 48 D CR 48 A    M       22  Motociclista  Dic  Jue       25   \n",
              "37820          CL 18 CR 93    M       20  Motociclista  Mar  Dom       15   \n",
              "42997        CL 53 CR 54 A    M       45        Peatón  May  Mar       12   \n",
              "...                    ...  ...      ...           ...  ...  ...      ...   \n",
              "233994        CL 60 CR 144    M      121      Pasajero  Sep  Sáb       11   \n",
              "234804        CL 18 CR 103    F       10        Peatón  Sep  Dom       19   \n",
              "235016       CR 36 A CL 51    F       53      Pasajero  Sep  Mar       21   \n",
              "235038         DG 80 CL 78    F       25      Pasajero  Sep  Mié       22   \n",
              "235146       CR 65 CL 32 F    M       43      Pasajero  Sep  Jue       23   \n",
              "\n",
              "       Hora Grupo_edad   Año Radicado       Latitud      Longitud  \\\n",
              "16722    11    Sin Inf  2014  1448924   6,173157779  -75,64456948   \n",
              "19076     7    30 - 39  2014  1452440   6,275150551  -75,56812553   \n",
              "30970    22    20 - 29  2014  1469911   6,247394491  -75,56735166   \n",
              "37820     2    20 - 29  2015  1479668   6,222449537  -75,61666884   \n",
              "42997    14    40 - 49  2015  1487250   6,253487028  -75,57026176   \n",
              "...     ...        ...   ...      ...           ...           ...   \n",
              "233994    9    Sin Inf  2021  1761302       Sin Inf       Sin Inf   \n",
              "234804   20     oct-19  2021  1762776  -75,62500521    6,22331759   \n",
              "235016   22    50 - 59  2021  1762632  -75,55757587    6,24433108   \n",
              "235038    6    20 - 29  2021  1762890  -75,58625787     6,2814932   \n",
              "235146    5    40 - 49  2021  1763219  -75,58308793    6,23888935   \n",
              "\n",
              "                                            Comuna  \\\n",
              "16722   80 - Corregimiento de San Antonio de Prado   \n",
              "19076                                04 - Aranjuez   \n",
              "30970                           10 - La Candelaria   \n",
              "37820              70 - Corregimiento de Altavista   \n",
              "42997                           10 - La Candelaria   \n",
              "...                                            ...   \n",
              "233994                                     Sin Inf   \n",
              "234804             70 - Corregimiento de Altavista   \n",
              "235016                           09 - Buenos Aires   \n",
              "235038                                07 - Robledo   \n",
              "235146                                  16 - Belén   \n",
              "\n",
              "                               Barrio  \n",
              "16722   Cabecera San Antonio de Prado  \n",
              "19076                         Moravia  \n",
              "30970                   La Candelaria  \n",
              "37820        Altavista Sector Central  \n",
              "42997                  Estación Villa  \n",
              "...                               ...  \n",
              "233994                            NaN  \n",
              "234804            Suburbano Altavista  \n",
              "235016                 Barrio Caicedo  \n",
              "235038           Bosques de San Pablo  \n",
              "235146                         Fátima  \n",
              "\n",
              "[197 rows x 19 columns]"
            ],
            "text/html": [
              "\n",
              "  <div id=\"df-bf6e3b56-566a-47b7-b1f1-4c946f49a0fd\">\n",
              "    <div class=\"colab-df-container\">\n",
              "      <div>\n",
              "<style scoped>\n",
              "    .dataframe tbody tr th:only-of-type {\n",
              "        vertical-align: middle;\n",
              "    }\n",
              "\n",
              "    .dataframe tbody tr th {\n",
              "        vertical-align: top;\n",
              "    }\n",
              "\n",
              "    .dataframe thead th {\n",
              "        text-align: right;\n",
              "    }\n",
              "</style>\n",
              "<table border=\"1\" class=\"dataframe\">\n",
              "  <thead>\n",
              "    <tr style=\"text-align: right;\">\n",
              "      <th></th>\n",
              "      <th>Gravedad_victima</th>\n",
              "      <th>Fecha_incidente</th>\n",
              "      <th>Hora_incidente</th>\n",
              "      <th>Clase_incidente</th>\n",
              "      <th>Direccion_incidente</th>\n",
              "      <th>Sexo</th>\n",
              "      <th>Edad</th>\n",
              "      <th>Condicion</th>\n",
              "      <th>Mes</th>\n",
              "      <th>Dia</th>\n",
              "      <th>Num_dia</th>\n",
              "      <th>Hora</th>\n",
              "      <th>Grupo_edad</th>\n",
              "      <th>Año</th>\n",
              "      <th>Radicado</th>\n",
              "      <th>Latitud</th>\n",
              "      <th>Longitud</th>\n",
              "      <th>Comuna</th>\n",
              "      <th>Barrio</th>\n",
              "    </tr>\n",
              "  </thead>\n",
              "  <tbody>\n",
              "    <tr>\n",
              "      <th>16722</th>\n",
              "      <td>Heridos</td>\n",
              "      <td>14/7/2014</td>\n",
              "      <td>11:10:00</td>\n",
              "      <td>Choque</td>\n",
              "      <td>CR 63 CL 57</td>\n",
              "      <td>M</td>\n",
              "      <td>Sin Inf</td>\n",
              "      <td>Conductor</td>\n",
              "      <td>Jul</td>\n",
              "      <td>Lun</td>\n",
              "      <td>14</td>\n",
              "      <td>11</td>\n",
              "      <td>Sin Inf</td>\n",
              "      <td>2014</td>\n",
              "      <td>1448924</td>\n",
              "      <td>6,173157779</td>\n",
              "      <td>-75,64456948</td>\n",
              "      <td>80 - Corregimiento de San Antonio de Prado</td>\n",
              "      <td>Cabecera San Antonio de Prado</td>\n",
              "    </tr>\n",
              "    <tr>\n",
              "      <th>19076</th>\n",
              "      <td>Heridos</td>\n",
              "      <td>9/8/2014</td>\n",
              "      <td>07:45:00</td>\n",
              "      <td>Choque</td>\n",
              "      <td>CL 77 CR 56 A</td>\n",
              "      <td>F</td>\n",
              "      <td>33</td>\n",
              "      <td>Conductor</td>\n",
              "      <td>Ago</td>\n",
              "      <td>Sáb</td>\n",
              "      <td>9</td>\n",
              "      <td>7</td>\n",
              "      <td>30 - 39</td>\n",
              "      <td>2014</td>\n",
              "      <td>1452440</td>\n",
              "      <td>6,275150551</td>\n",
              "      <td>-75,56812553</td>\n",
              "      <td>04 - Aranjuez</td>\n",
              "      <td>Moravia</td>\n",
              "    </tr>\n",
              "    <tr>\n",
              "      <th>30970</th>\n",
              "      <td>Heridos</td>\n",
              "      <td>25/12/2014</td>\n",
              "      <td>22:00:00</td>\n",
              "      <td>Choque</td>\n",
              "      <td>CL 48 D CR 48 A</td>\n",
              "      <td>M</td>\n",
              "      <td>22</td>\n",
              "      <td>Motociclista</td>\n",
              "      <td>Dic</td>\n",
              "      <td>Jue</td>\n",
              "      <td>25</td>\n",
              "      <td>22</td>\n",
              "      <td>20 - 29</td>\n",
              "      <td>2014</td>\n",
              "      <td>1469911</td>\n",
              "      <td>6,247394491</td>\n",
              "      <td>-75,56735166</td>\n",
              "      <td>10 - La Candelaria</td>\n",
              "      <td>La Candelaria</td>\n",
              "    </tr>\n",
              "    <tr>\n",
              "      <th>37820</th>\n",
              "      <td>Heridos</td>\n",
              "      <td>15/3/2015</td>\n",
              "      <td>02:30:00</td>\n",
              "      <td>Choque</td>\n",
              "      <td>CL 18 CR 93</td>\n",
              "      <td>M</td>\n",
              "      <td>20</td>\n",
              "      <td>Motociclista</td>\n",
              "      <td>Mar</td>\n",
              "      <td>Dom</td>\n",
              "      <td>15</td>\n",
              "      <td>2</td>\n",
              "      <td>20 - 29</td>\n",
              "      <td>2015</td>\n",
              "      <td>1479668</td>\n",
              "      <td>6,222449537</td>\n",
              "      <td>-75,61666884</td>\n",
              "      <td>70 - Corregimiento de Altavista</td>\n",
              "      <td>Altavista Sector Central</td>\n",
              "    </tr>\n",
              "    <tr>\n",
              "      <th>42997</th>\n",
              "      <td>Heridos</td>\n",
              "      <td>12/5/2015</td>\n",
              "      <td>14:00:00</td>\n",
              "      <td>Atropello</td>\n",
              "      <td>CL 53 CR 54 A</td>\n",
              "      <td>M</td>\n",
              "      <td>45</td>\n",
              "      <td>Peatón</td>\n",
              "      <td>May</td>\n",
              "      <td>Mar</td>\n",
              "      <td>12</td>\n",
              "      <td>14</td>\n",
              "      <td>40 - 49</td>\n",
              "      <td>2015</td>\n",
              "      <td>1487250</td>\n",
              "      <td>6,253487028</td>\n",
              "      <td>-75,57026176</td>\n",
              "      <td>10 - La Candelaria</td>\n",
              "      <td>Estación Villa</td>\n",
              "    </tr>\n",
              "    <tr>\n",
              "      <th>...</th>\n",
              "      <td>...</td>\n",
              "      <td>...</td>\n",
              "      <td>...</td>\n",
              "      <td>...</td>\n",
              "      <td>...</td>\n",
              "      <td>...</td>\n",
              "      <td>...</td>\n",
              "      <td>...</td>\n",
              "      <td>...</td>\n",
              "      <td>...</td>\n",
              "      <td>...</td>\n",
              "      <td>...</td>\n",
              "      <td>...</td>\n",
              "      <td>...</td>\n",
              "      <td>...</td>\n",
              "      <td>...</td>\n",
              "      <td>...</td>\n",
              "      <td>...</td>\n",
              "      <td>...</td>\n",
              "    </tr>\n",
              "    <tr>\n",
              "      <th>233994</th>\n",
              "      <td>Heridos</td>\n",
              "      <td>11/9/2021</td>\n",
              "      <td>09:28:00</td>\n",
              "      <td>Choque</td>\n",
              "      <td>CL 60 CR 144</td>\n",
              "      <td>M</td>\n",
              "      <td>121</td>\n",
              "      <td>Pasajero</td>\n",
              "      <td>Sep</td>\n",
              "      <td>Sáb</td>\n",
              "      <td>11</td>\n",
              "      <td>9</td>\n",
              "      <td>Sin Inf</td>\n",
              "      <td>2021</td>\n",
              "      <td>1761302</td>\n",
              "      <td>Sin Inf</td>\n",
              "      <td>Sin Inf</td>\n",
              "      <td>Sin Inf</td>\n",
              "      <td>NaN</td>\n",
              "    </tr>\n",
              "    <tr>\n",
              "      <th>234804</th>\n",
              "      <td>Heridos</td>\n",
              "      <td>19/9/2021</td>\n",
              "      <td>20:00:00</td>\n",
              "      <td>Atropello</td>\n",
              "      <td>CL 18 CR 103</td>\n",
              "      <td>F</td>\n",
              "      <td>10</td>\n",
              "      <td>Peatón</td>\n",
              "      <td>Sep</td>\n",
              "      <td>Dom</td>\n",
              "      <td>19</td>\n",
              "      <td>20</td>\n",
              "      <td>oct-19</td>\n",
              "      <td>2021</td>\n",
              "      <td>1762776</td>\n",
              "      <td>-75,62500521</td>\n",
              "      <td>6,22331759</td>\n",
              "      <td>70 - Corregimiento de Altavista</td>\n",
              "      <td>Suburbano Altavista</td>\n",
              "    </tr>\n",
              "    <tr>\n",
              "      <th>235016</th>\n",
              "      <td>Heridos</td>\n",
              "      <td>21/9/2021</td>\n",
              "      <td>22:35:00</td>\n",
              "      <td>Choque</td>\n",
              "      <td>CR 36 A CL 51</td>\n",
              "      <td>F</td>\n",
              "      <td>53</td>\n",
              "      <td>Pasajero</td>\n",
              "      <td>Sep</td>\n",
              "      <td>Mar</td>\n",
              "      <td>21</td>\n",
              "      <td>22</td>\n",
              "      <td>50 - 59</td>\n",
              "      <td>2021</td>\n",
              "      <td>1762632</td>\n",
              "      <td>-75,55757587</td>\n",
              "      <td>6,24433108</td>\n",
              "      <td>09 - Buenos Aires</td>\n",
              "      <td>Barrio Caicedo</td>\n",
              "    </tr>\n",
              "    <tr>\n",
              "      <th>235038</th>\n",
              "      <td>Heridos</td>\n",
              "      <td>22/9/2021</td>\n",
              "      <td>06:40:00</td>\n",
              "      <td>Choque</td>\n",
              "      <td>DG 80 CL 78</td>\n",
              "      <td>F</td>\n",
              "      <td>25</td>\n",
              "      <td>Pasajero</td>\n",
              "      <td>Sep</td>\n",
              "      <td>Mié</td>\n",
              "      <td>22</td>\n",
              "      <td>6</td>\n",
              "      <td>20 - 29</td>\n",
              "      <td>2021</td>\n",
              "      <td>1762890</td>\n",
              "      <td>-75,58625787</td>\n",
              "      <td>6,2814932</td>\n",
              "      <td>07 - Robledo</td>\n",
              "      <td>Bosques de San Pablo</td>\n",
              "    </tr>\n",
              "    <tr>\n",
              "      <th>235146</th>\n",
              "      <td>Heridos</td>\n",
              "      <td>23/9/2021</td>\n",
              "      <td>05:00:00</td>\n",
              "      <td>Otro</td>\n",
              "      <td>CR 65 CL 32 F</td>\n",
              "      <td>M</td>\n",
              "      <td>43</td>\n",
              "      <td>Pasajero</td>\n",
              "      <td>Sep</td>\n",
              "      <td>Jue</td>\n",
              "      <td>23</td>\n",
              "      <td>5</td>\n",
              "      <td>40 - 49</td>\n",
              "      <td>2021</td>\n",
              "      <td>1763219</td>\n",
              "      <td>-75,58308793</td>\n",
              "      <td>6,23888935</td>\n",
              "      <td>16 - Belén</td>\n",
              "      <td>Fátima</td>\n",
              "    </tr>\n",
              "  </tbody>\n",
              "</table>\n",
              "<p>197 rows × 19 columns</p>\n",
              "</div>\n",
              "      <button class=\"colab-df-convert\" onclick=\"convertToInteractive('df-bf6e3b56-566a-47b7-b1f1-4c946f49a0fd')\"\n",
              "              title=\"Convert this dataframe to an interactive table.\"\n",
              "              style=\"display:none;\">\n",
              "        \n",
              "  <svg xmlns=\"http://www.w3.org/2000/svg\" height=\"24px\"viewBox=\"0 0 24 24\"\n",
              "       width=\"24px\">\n",
              "    <path d=\"M0 0h24v24H0V0z\" fill=\"none\"/>\n",
              "    <path d=\"M18.56 5.44l.94 2.06.94-2.06 2.06-.94-2.06-.94-.94-2.06-.94 2.06-2.06.94zm-11 1L8.5 8.5l.94-2.06 2.06-.94-2.06-.94L8.5 2.5l-.94 2.06-2.06.94zm10 10l.94 2.06.94-2.06 2.06-.94-2.06-.94-.94-2.06-.94 2.06-2.06.94z\"/><path d=\"M17.41 7.96l-1.37-1.37c-.4-.4-.92-.59-1.43-.59-.52 0-1.04.2-1.43.59L10.3 9.45l-7.72 7.72c-.78.78-.78 2.05 0 2.83L4 21.41c.39.39.9.59 1.41.59.51 0 1.02-.2 1.41-.59l7.78-7.78 2.81-2.81c.8-.78.8-2.07 0-2.86zM5.41 20L4 18.59l7.72-7.72 1.47 1.35L5.41 20z\"/>\n",
              "  </svg>\n",
              "      </button>\n",
              "      \n",
              "  <style>\n",
              "    .colab-df-container {\n",
              "      display:flex;\n",
              "      flex-wrap:wrap;\n",
              "      gap: 12px;\n",
              "    }\n",
              "\n",
              "    .colab-df-convert {\n",
              "      background-color: #E8F0FE;\n",
              "      border: none;\n",
              "      border-radius: 50%;\n",
              "      cursor: pointer;\n",
              "      display: none;\n",
              "      fill: #1967D2;\n",
              "      height: 32px;\n",
              "      padding: 0 0 0 0;\n",
              "      width: 32px;\n",
              "    }\n",
              "\n",
              "    .colab-df-convert:hover {\n",
              "      background-color: #E2EBFA;\n",
              "      box-shadow: 0px 1px 2px rgba(60, 64, 67, 0.3), 0px 1px 3px 1px rgba(60, 64, 67, 0.15);\n",
              "      fill: #174EA6;\n",
              "    }\n",
              "\n",
              "    [theme=dark] .colab-df-convert {\n",
              "      background-color: #3B4455;\n",
              "      fill: #D2E3FC;\n",
              "    }\n",
              "\n",
              "    [theme=dark] .colab-df-convert:hover {\n",
              "      background-color: #434B5C;\n",
              "      box-shadow: 0px 1px 3px 1px rgba(0, 0, 0, 0.15);\n",
              "      filter: drop-shadow(0px 1px 2px rgba(0, 0, 0, 0.3));\n",
              "      fill: #FFFFFF;\n",
              "    }\n",
              "  </style>\n",
              "\n",
              "      <script>\n",
              "        const buttonEl =\n",
              "          document.querySelector('#df-bf6e3b56-566a-47b7-b1f1-4c946f49a0fd button.colab-df-convert');\n",
              "        buttonEl.style.display =\n",
              "          google.colab.kernel.accessAllowed ? 'block' : 'none';\n",
              "\n",
              "        async function convertToInteractive(key) {\n",
              "          const element = document.querySelector('#df-bf6e3b56-566a-47b7-b1f1-4c946f49a0fd');\n",
              "          const dataTable =\n",
              "            await google.colab.kernel.invokeFunction('convertToInteractive',\n",
              "                                                     [key], {});\n",
              "          if (!dataTable) return;\n",
              "\n",
              "          const docLinkHtml = 'Like what you see? Visit the ' +\n",
              "            '<a target=\"_blank\" href=https://colab.research.google.com/notebooks/data_table.ipynb>data table notebook</a>'\n",
              "            + ' to learn more about interactive tables.';\n",
              "          element.innerHTML = '';\n",
              "          dataTable['output_type'] = 'display_data';\n",
              "          await google.colab.output.renderOutput(dataTable, element);\n",
              "          const docLink = document.createElement('div');\n",
              "          docLink.innerHTML = docLinkHtml;\n",
              "          element.appendChild(docLink);\n",
              "        }\n",
              "      </script>\n",
              "    </div>\n",
              "  </div>\n",
              "  "
            ]
          },
          "metadata": {},
          "execution_count": 19
        }
      ]
    },
    {
      "cell_type": "code",
      "source": [
        "# valores unicos de la columna Gravedad_victima\n",
        "df['Gravedad_victima'].unique()\n"
      ],
      "metadata": {
        "colab": {
          "base_uri": "https://localhost:8080/"
        },
        "id": "CC8Y9J2E-f0x",
        "outputId": "cb9c58e5-011f-4b0d-ce75-6e48e50f499c"
      },
      "execution_count": 32,
      "outputs": [
        {
          "output_type": "execute_result",
          "data": {
            "text/plain": [
              "array(['Heridos', 'Muertos'], dtype=object)"
            ]
          },
          "metadata": {},
          "execution_count": 32
        }
      ]
    },
    {
      "cell_type": "code",
      "source": [
        "# valores unicos de la columna Clase_incidente\n",
        "df['Clase_incidente'].unique()"
      ],
      "metadata": {
        "colab": {
          "base_uri": "https://localhost:8080/"
        },
        "id": "8qwdwcWk-f3x",
        "outputId": "6e0ff795-d80f-4468-80f3-2d35900a11c6"
      },
      "execution_count": 33,
      "outputs": [
        {
          "output_type": "execute_result",
          "data": {
            "text/plain": [
              "array(['Otro', 'Atropello', 'Choque', 'Caida Ocupante', 'Volcamiento',\n",
              "       'Incendio'], dtype=object)"
            ]
          },
          "metadata": {},
          "execution_count": 33
        }
      ]
    },
    {
      "cell_type": "code",
      "source": [
        "# valores unicos de la columna Direccion_incidente\n",
        "df['Direccion_incidente'].unique()"
      ],
      "metadata": {
        "colab": {
          "base_uri": "https://localhost:8080/"
        },
        "id": "tZyByCem-f6z",
        "outputId": "1ddd2618-9c64-4d40-a0a2-3131158a3881"
      },
      "execution_count": 34,
      "outputs": [
        {
          "output_type": "execute_result",
          "data": {
            "text/plain": [
              "array(['CR 49 CL 72', 'CR 46 CL 98', 'CL 32 CR 84', ..., 'CR 49 DG 50',\n",
              "       'DG 75 B CL 76', 'CL 28 A CR 65 A'], dtype=object)"
            ]
          },
          "metadata": {},
          "execution_count": 34
        }
      ]
    },
    {
      "cell_type": "markdown",
      "source": [
        "Podemos ver que existen muchas de las variables que no se corresponden al tipo de dato especificado:\n",
        "\n",
        "Fecha_incidente Hora_incidente\n",
        "\n",
        "Edad\n",
        "\n",
        "Latitud\n",
        "\n",
        "Longitud"
      ],
      "metadata": {
        "id": "UjitWtON_ITq"
      }
    },
    {
      "cell_type": "code",
      "source": [
        "# Convertir a tipo fecha  \n",
        "print('\\n Fecha_incidente = {}'.format(df.Fecha_incidente.unique()))\n",
        "print('\\n Hora_incidente = {}'.format(df.Hora_incidente.unique()))\n",
        "# En este caso tenemos que corregir el mes 'Sep' y pasar todos los registros a 'Sept'\n",
        "print('\\n Mes = {}'.format(df.Mes.unique()))\n",
        "print('\\n Dia = {}'.format(df.Dia.unique()))\n",
        "# En este caso tenemos que corregir el ''oct-19' y pasar todos los registros a '10-19'\n",
        "print('\\n Grupo_edad = {}'.format(df.Grupo_edad.unique()))"
      ],
      "metadata": {
        "colab": {
          "base_uri": "https://localhost:8080/"
        },
        "id": "aMuhUUeaBnIA",
        "outputId": "48d5003f-3bf9-4dd9-b928-fb4763f76287"
      },
      "execution_count": 35,
      "outputs": [
        {
          "output_type": "stream",
          "name": "stdout",
          "text": [
            "\n",
            " Fecha_incidente = ['1/1/2014' '2/1/2014' '3/1/2014' ... '28/9/2021' '29/9/2021' '30/9/2021']\n",
            "\n",
            " Hora_incidente = ['00:15:00' '00:30:00' '00:37:00' ... '01:18:00' '03:53:00' '02:07:00']\n",
            "\n",
            " Mes = ['Ene' 'Feb' 'Mar' 'Abr' 'May' 'Jun' 'Jul' 'Ago' 'Sept' 'Oct' 'Nov' 'Dic'\n",
            " 'Sep']\n",
            "\n",
            " Dia = ['MiÃ©' 'Jue' 'Vie' 'SÃ¡b' 'Dom' 'Lun' 'Mar']\n",
            "\n",
            " Grupo_edad = ['oct-19' '20 - 29' '30 - 39' '40 - 49' '0 - 9' '50 - 59' 'Sin Inf'\n",
            " '60 - 69' '70 - 79' '80 o mÃ¡s']\n"
          ]
        }
      ]
    },
    {
      "cell_type": "code",
      "source": [
        "df.dtypes"
      ],
      "metadata": {
        "colab": {
          "base_uri": "https://localhost:8080/"
        },
        "id": "anCUFH6U-_qo",
        "outputId": "8668e6fa-7f19-4f4f-dc65-f9eabd817a6e"
      },
      "execution_count": 36,
      "outputs": [
        {
          "output_type": "execute_result",
          "data": {
            "text/plain": [
              "Gravedad_victima       object\n",
              "Fecha_incidente        object\n",
              "Hora_incidente         object\n",
              "Clase_incidente        object\n",
              "Direccion_incidente    object\n",
              "Sexo                   object\n",
              "Edad                   object\n",
              "Condicion              object\n",
              "Mes                    object\n",
              "Dia                    object\n",
              "Num_dia                 int64\n",
              "Hora                   object\n",
              "Grupo_edad             object\n",
              "Anio                    int64\n",
              "Radicado               object\n",
              "Latitud                object\n",
              "Longitud               object\n",
              "Comuna                 object\n",
              "Barrio                 object\n",
              "dtype: object"
            ]
          },
          "metadata": {},
          "execution_count": 36
        }
      ]
    },
    {
      "cell_type": "markdown",
      "source": [
        "\n",
        "\n",
        "---\n",
        "\n",
        "\n",
        "En las siguientes líneas de código, copiamos el dataset a otro para realizar los cambios en una copia y no ejecutar en el dataset original."
      ],
      "metadata": {
        "id": "zvVYDHfC_xc0"
      }
    },
    {
      "cell_type": "code",
      "source": [
        "dfinal = df.copy()"
      ],
      "metadata": {
        "id": "gfIkQn-I-_v-"
      },
      "execution_count": 37,
      "outputs": []
    },
    {
      "cell_type": "code",
      "source": [
        "dfinal.head()"
      ],
      "metadata": {
        "colab": {
          "base_uri": "https://localhost:8080/",
          "height": 374
        },
        "id": "MTC95lWS-_y2",
        "outputId": "3cbba666-fb17-4d0f-900f-fc74f283782c"
      },
      "execution_count": 38,
      "outputs": [
        {
          "output_type": "execute_result",
          "data": {
            "text/plain": [
              "  Gravedad_victima Fecha_incidente Hora_incidente Clase_incidente  \\\n",
              "0          Heridos        1/1/2014       00:15:00            Otro   \n",
              "1          Heridos        1/1/2014       00:30:00       Atropello   \n",
              "2          Heridos        1/1/2014       00:30:00       Atropello   \n",
              "3          Heridos        1/1/2014       00:37:00       Atropello   \n",
              "4          Heridos        1/1/2014       00:37:00       Atropello   \n",
              "\n",
              "  Direccion_incidente Sexo Edad     Condicion  Mes   Dia  Num_dia Hora  \\\n",
              "0         CR 49 CL 72    M   17  Motociclista  Ene  MiÃ©        1    0   \n",
              "1         CR 46 CL 98    M   20  Motociclista  Ene  MiÃ©        1    0   \n",
              "2         CR 46 CL 98    F   18       PeatÃ³n  Ene  MiÃ©        1    0   \n",
              "3         CL 32 CR 84    M   19  Motociclista  Ene  MiÃ©        1    0   \n",
              "4         CL 32 CR 84    M   39       PeatÃ³n  Ene  MiÃ©        1    0   \n",
              "\n",
              "  Grupo_edad  Anio Radicado      Latitud      Longitud         Comuna  \\\n",
              "0     oct-19  2014  1423940   6,26691466   -75,5590994  04 - Aranjuez   \n",
              "1    20 - 29  2014  1423921  6,289353458  -75,55329197   01 - Popular   \n",
              "2     oct-19  2014  1423921  6,289353458  -75,55329197   01 - Popular   \n",
              "3     oct-19  2014  1423849  6,234327372  -75,60761079    16 - BelÃ©n   \n",
              "4    30 - 39  2014  1423849  6,234327372  -75,60761079    16 - BelÃ©n   \n",
              "\n",
              "                   Barrio  \n",
              "0  Manrique Central No. 1  \n",
              "1            MoscÃº No. 2  \n",
              "2            MoscÃº No. 2  \n",
              "3            Las Mercedes  \n",
              "4            Las Mercedes  "
            ],
            "text/html": [
              "\n",
              "  <div id=\"df-ab3cce25-776a-488f-a221-f36300f86b91\">\n",
              "    <div class=\"colab-df-container\">\n",
              "      <div>\n",
              "<style scoped>\n",
              "    .dataframe tbody tr th:only-of-type {\n",
              "        vertical-align: middle;\n",
              "    }\n",
              "\n",
              "    .dataframe tbody tr th {\n",
              "        vertical-align: top;\n",
              "    }\n",
              "\n",
              "    .dataframe thead th {\n",
              "        text-align: right;\n",
              "    }\n",
              "</style>\n",
              "<table border=\"1\" class=\"dataframe\">\n",
              "  <thead>\n",
              "    <tr style=\"text-align: right;\">\n",
              "      <th></th>\n",
              "      <th>Gravedad_victima</th>\n",
              "      <th>Fecha_incidente</th>\n",
              "      <th>Hora_incidente</th>\n",
              "      <th>Clase_incidente</th>\n",
              "      <th>Direccion_incidente</th>\n",
              "      <th>Sexo</th>\n",
              "      <th>Edad</th>\n",
              "      <th>Condicion</th>\n",
              "      <th>Mes</th>\n",
              "      <th>Dia</th>\n",
              "      <th>Num_dia</th>\n",
              "      <th>Hora</th>\n",
              "      <th>Grupo_edad</th>\n",
              "      <th>Anio</th>\n",
              "      <th>Radicado</th>\n",
              "      <th>Latitud</th>\n",
              "      <th>Longitud</th>\n",
              "      <th>Comuna</th>\n",
              "      <th>Barrio</th>\n",
              "    </tr>\n",
              "  </thead>\n",
              "  <tbody>\n",
              "    <tr>\n",
              "      <th>0</th>\n",
              "      <td>Heridos</td>\n",
              "      <td>1/1/2014</td>\n",
              "      <td>00:15:00</td>\n",
              "      <td>Otro</td>\n",
              "      <td>CR 49 CL 72</td>\n",
              "      <td>M</td>\n",
              "      <td>17</td>\n",
              "      <td>Motociclista</td>\n",
              "      <td>Ene</td>\n",
              "      <td>MiÃ©</td>\n",
              "      <td>1</td>\n",
              "      <td>0</td>\n",
              "      <td>oct-19</td>\n",
              "      <td>2014</td>\n",
              "      <td>1423940</td>\n",
              "      <td>6,26691466</td>\n",
              "      <td>-75,5590994</td>\n",
              "      <td>04 - Aranjuez</td>\n",
              "      <td>Manrique Central No. 1</td>\n",
              "    </tr>\n",
              "    <tr>\n",
              "      <th>1</th>\n",
              "      <td>Heridos</td>\n",
              "      <td>1/1/2014</td>\n",
              "      <td>00:30:00</td>\n",
              "      <td>Atropello</td>\n",
              "      <td>CR 46 CL 98</td>\n",
              "      <td>M</td>\n",
              "      <td>20</td>\n",
              "      <td>Motociclista</td>\n",
              "      <td>Ene</td>\n",
              "      <td>MiÃ©</td>\n",
              "      <td>1</td>\n",
              "      <td>0</td>\n",
              "      <td>20 - 29</td>\n",
              "      <td>2014</td>\n",
              "      <td>1423921</td>\n",
              "      <td>6,289353458</td>\n",
              "      <td>-75,55329197</td>\n",
              "      <td>01 - Popular</td>\n",
              "      <td>MoscÃº No. 2</td>\n",
              "    </tr>\n",
              "    <tr>\n",
              "      <th>2</th>\n",
              "      <td>Heridos</td>\n",
              "      <td>1/1/2014</td>\n",
              "      <td>00:30:00</td>\n",
              "      <td>Atropello</td>\n",
              "      <td>CR 46 CL 98</td>\n",
              "      <td>F</td>\n",
              "      <td>18</td>\n",
              "      <td>PeatÃ³n</td>\n",
              "      <td>Ene</td>\n",
              "      <td>MiÃ©</td>\n",
              "      <td>1</td>\n",
              "      <td>0</td>\n",
              "      <td>oct-19</td>\n",
              "      <td>2014</td>\n",
              "      <td>1423921</td>\n",
              "      <td>6,289353458</td>\n",
              "      <td>-75,55329197</td>\n",
              "      <td>01 - Popular</td>\n",
              "      <td>MoscÃº No. 2</td>\n",
              "    </tr>\n",
              "    <tr>\n",
              "      <th>3</th>\n",
              "      <td>Heridos</td>\n",
              "      <td>1/1/2014</td>\n",
              "      <td>00:37:00</td>\n",
              "      <td>Atropello</td>\n",
              "      <td>CL 32 CR 84</td>\n",
              "      <td>M</td>\n",
              "      <td>19</td>\n",
              "      <td>Motociclista</td>\n",
              "      <td>Ene</td>\n",
              "      <td>MiÃ©</td>\n",
              "      <td>1</td>\n",
              "      <td>0</td>\n",
              "      <td>oct-19</td>\n",
              "      <td>2014</td>\n",
              "      <td>1423849</td>\n",
              "      <td>6,234327372</td>\n",
              "      <td>-75,60761079</td>\n",
              "      <td>16 - BelÃ©n</td>\n",
              "      <td>Las Mercedes</td>\n",
              "    </tr>\n",
              "    <tr>\n",
              "      <th>4</th>\n",
              "      <td>Heridos</td>\n",
              "      <td>1/1/2014</td>\n",
              "      <td>00:37:00</td>\n",
              "      <td>Atropello</td>\n",
              "      <td>CL 32 CR 84</td>\n",
              "      <td>M</td>\n",
              "      <td>39</td>\n",
              "      <td>PeatÃ³n</td>\n",
              "      <td>Ene</td>\n",
              "      <td>MiÃ©</td>\n",
              "      <td>1</td>\n",
              "      <td>0</td>\n",
              "      <td>30 - 39</td>\n",
              "      <td>2014</td>\n",
              "      <td>1423849</td>\n",
              "      <td>6,234327372</td>\n",
              "      <td>-75,60761079</td>\n",
              "      <td>16 - BelÃ©n</td>\n",
              "      <td>Las Mercedes</td>\n",
              "    </tr>\n",
              "  </tbody>\n",
              "</table>\n",
              "</div>\n",
              "      <button class=\"colab-df-convert\" onclick=\"convertToInteractive('df-ab3cce25-776a-488f-a221-f36300f86b91')\"\n",
              "              title=\"Convert this dataframe to an interactive table.\"\n",
              "              style=\"display:none;\">\n",
              "        \n",
              "  <svg xmlns=\"http://www.w3.org/2000/svg\" height=\"24px\"viewBox=\"0 0 24 24\"\n",
              "       width=\"24px\">\n",
              "    <path d=\"M0 0h24v24H0V0z\" fill=\"none\"/>\n",
              "    <path d=\"M18.56 5.44l.94 2.06.94-2.06 2.06-.94-2.06-.94-.94-2.06-.94 2.06-2.06.94zm-11 1L8.5 8.5l.94-2.06 2.06-.94-2.06-.94L8.5 2.5l-.94 2.06-2.06.94zm10 10l.94 2.06.94-2.06 2.06-.94-2.06-.94-.94-2.06-.94 2.06-2.06.94z\"/><path d=\"M17.41 7.96l-1.37-1.37c-.4-.4-.92-.59-1.43-.59-.52 0-1.04.2-1.43.59L10.3 9.45l-7.72 7.72c-.78.78-.78 2.05 0 2.83L4 21.41c.39.39.9.59 1.41.59.51 0 1.02-.2 1.41-.59l7.78-7.78 2.81-2.81c.8-.78.8-2.07 0-2.86zM5.41 20L4 18.59l7.72-7.72 1.47 1.35L5.41 20z\"/>\n",
              "  </svg>\n",
              "      </button>\n",
              "      \n",
              "  <style>\n",
              "    .colab-df-container {\n",
              "      display:flex;\n",
              "      flex-wrap:wrap;\n",
              "      gap: 12px;\n",
              "    }\n",
              "\n",
              "    .colab-df-convert {\n",
              "      background-color: #E8F0FE;\n",
              "      border: none;\n",
              "      border-radius: 50%;\n",
              "      cursor: pointer;\n",
              "      display: none;\n",
              "      fill: #1967D2;\n",
              "      height: 32px;\n",
              "      padding: 0 0 0 0;\n",
              "      width: 32px;\n",
              "    }\n",
              "\n",
              "    .colab-df-convert:hover {\n",
              "      background-color: #E2EBFA;\n",
              "      box-shadow: 0px 1px 2px rgba(60, 64, 67, 0.3), 0px 1px 3px 1px rgba(60, 64, 67, 0.15);\n",
              "      fill: #174EA6;\n",
              "    }\n",
              "\n",
              "    [theme=dark] .colab-df-convert {\n",
              "      background-color: #3B4455;\n",
              "      fill: #D2E3FC;\n",
              "    }\n",
              "\n",
              "    [theme=dark] .colab-df-convert:hover {\n",
              "      background-color: #434B5C;\n",
              "      box-shadow: 0px 1px 3px 1px rgba(0, 0, 0, 0.15);\n",
              "      filter: drop-shadow(0px 1px 2px rgba(0, 0, 0, 0.3));\n",
              "      fill: #FFFFFF;\n",
              "    }\n",
              "  </style>\n",
              "\n",
              "      <script>\n",
              "        const buttonEl =\n",
              "          document.querySelector('#df-ab3cce25-776a-488f-a221-f36300f86b91 button.colab-df-convert');\n",
              "        buttonEl.style.display =\n",
              "          google.colab.kernel.accessAllowed ? 'block' : 'none';\n",
              "\n",
              "        async function convertToInteractive(key) {\n",
              "          const element = document.querySelector('#df-ab3cce25-776a-488f-a221-f36300f86b91');\n",
              "          const dataTable =\n",
              "            await google.colab.kernel.invokeFunction('convertToInteractive',\n",
              "                                                     [key], {});\n",
              "          if (!dataTable) return;\n",
              "\n",
              "          const docLinkHtml = 'Like what you see? Visit the ' +\n",
              "            '<a target=\"_blank\" href=https://colab.research.google.com/notebooks/data_table.ipynb>data table notebook</a>'\n",
              "            + ' to learn more about interactive tables.';\n",
              "          element.innerHTML = '';\n",
              "          dataTable['output_type'] = 'display_data';\n",
              "          await google.colab.output.renderOutput(dataTable, element);\n",
              "          const docLink = document.createElement('div');\n",
              "          docLink.innerHTML = docLinkHtml;\n",
              "          element.appendChild(docLink);\n",
              "        }\n",
              "      </script>\n",
              "    </div>\n",
              "  </div>\n",
              "  "
            ]
          },
          "metadata": {},
          "execution_count": 38
        }
      ]
    },
    {
      "cell_type": "code",
      "source": [
        "#estandarizacion de valores 'Acompañante de motocicleta'],'Acompañante de Motocicleta'\n",
        "dfinal['Condicion']= dfinal['Condicion'].replace(['PeatÃ³n'],'Peaton')"
      ],
      "metadata": {
        "id": "xaveBKNr_1Fk"
      },
      "execution_count": 50,
      "outputs": []
    },
    {
      "cell_type": "code",
      "source": [
        "# valores unicos de la columna Condicion\n",
        "dfinal['Condicion'].unique()"
      ],
      "metadata": {
        "id": "E_0cpkAj_1IT",
        "colab": {
          "base_uri": "https://localhost:8080/"
        },
        "outputId": "5b1e4191-c85d-4339-8354-607764234b6b"
      },
      "execution_count": 48,
      "outputs": [
        {
          "output_type": "execute_result",
          "data": {
            "text/plain": [
              "array(['Motociclista', 'Peaton', 'Acompanante de Motocicleta',\n",
              "       'Conductor', 'Ciclista', 'Pasajero'], dtype=object)"
            ]
          },
          "metadata": {},
          "execution_count": 48
        }
      ]
    },
    {
      "cell_type": "code",
      "source": [
        "# comparo los cambios de valores con el data set original\n",
        "df['Condicion'].unique()"
      ],
      "metadata": {
        "colab": {
          "base_uri": "https://localhost:8080/"
        },
        "id": "-3dICyDB_1K7",
        "outputId": "797a4ff7-2bda-4097-f3bd-17be0e99ed39"
      },
      "execution_count": 49,
      "outputs": [
        {
          "output_type": "execute_result",
          "data": {
            "text/plain": [
              "array(['Motociclista', 'PeatÃ³n', 'AcompaÃ±ante de Motocicleta',\n",
              "       'Conductor', 'Ciclista', 'Pasajero', 'AcompaÃ±ante de motocicleta'],\n",
              "      dtype=object)"
            ]
          },
          "metadata": {},
          "execution_count": 49
        }
      ]
    },
    {
      "cell_type": "code",
      "source": [
        "#figura en el dataset original\n",
        "plt.figure()\n",
        "sns.countplot(x=df.Condicion, color='Purple')\n",
        "plt.tick_params(labelrotation=30)"
      ],
      "metadata": {
        "colab": {
          "base_uri": "https://localhost:8080/",
          "height": 357
        },
        "id": "8b2qEu5s_1NY",
        "outputId": "7f8cd8ed-8fe1-40fe-e2a8-f71edf7a81bf"
      },
      "execution_count": 51,
      "outputs": [
        {
          "output_type": "display_data",
          "data": {
            "text/plain": [
              "<Figure size 432x288 with 1 Axes>"
            ],
            "image/png": "[encoded data removed]"
          },
          "metadata": {
            "needs_background": "light"
          }
        }
      ]
    },
    {
      "cell_type": "code",
      "source": [
        "#figura en el dataset copia con la unificacion de los valores\n",
        "plt.figure()\n",
        "sns.countplot(x=dfinal.Condicion, color='red')\n",
        "plt.tick_params(labelrotation=30)"
      ],
      "metadata": {
        "colab": {
          "base_uri": "https://localhost:8080/",
          "height": 351
        },
        "id": "SjzvxhJ9_1QL",
        "outputId": "b084d941-117c-452e-9012-efc9f770c4ed"
      },
      "execution_count": 52,
      "outputs": [
        {
          "output_type": "display_data",
          "data": {
            "text/plain": [
              "<Figure size 432x288 with 1 Axes>"
            ],
            "image/png": "[encoded data removed]"
          },
          "metadata": {
            "needs_background": "light"
          }
        }
      ]
    },
    {
      "cell_type": "code",
      "source": [
        "dfinal['Sexo'].unique()"
      ],
      "metadata": {
        "colab": {
          "base_uri": "https://localhost:8080/"
        },
        "id": "ZuzGOlea_1S8",
        "outputId": "b4551f67-bd94-40a1-dbc7-2528f3098058"
      },
      "execution_count": 55,
      "outputs": [
        {
          "output_type": "execute_result",
          "data": {
            "text/plain": [
              "array(['M', 'F', 'Sin inf'], dtype=object)"
            ]
          },
          "metadata": {},
          "execution_count": 55
        }
      ]
    },
    {
      "cell_type": "code",
      "source": [
        "dfinal['Sexo']= dfinal['Sexo'].replace(['Sin inf'],'N')"
      ],
      "metadata": {
        "id": "QUaHuvycAG64"
      },
      "execution_count": 56,
      "outputs": []
    },
    {
      "cell_type": "code",
      "source": [
        "dfinal['Sexo'].unique()"
      ],
      "metadata": {
        "colab": {
          "base_uri": "https://localhost:8080/"
        },
        "id": "dRhRkU1sAG9z",
        "outputId": "6e2a574d-44b8-4e2e-9a3c-49ddb98fb5dd"
      },
      "execution_count": 57,
      "outputs": [
        {
          "output_type": "execute_result",
          "data": {
            "text/plain": [
              "array(['M', 'F', 'N'], dtype=object)"
            ]
          },
          "metadata": {},
          "execution_count": 57
        }
      ]
    },
    {
      "cell_type": "code",
      "source": [
        "plt.figure()\n",
        "sns.countplot(x=dfinal.Sexo, color='yellow')\n",
        "plt.tick_params(labelrotation=30)"
      ],
      "metadata": {
        "colab": {
          "base_uri": "https://localhost:8080/",
          "height": 282
        },
        "id": "WkGQhhs4AHAS",
        "outputId": "7de997fb-d77e-47ed-8107-23a0479f58b9"
      },
      "execution_count": 58,
      "outputs": [
        {
          "output_type": "display_data",
          "data": {
            "text/plain": [
              "<Figure size 432x288 with 1 Axes>"
            ],
            "image/png": "[encoded data removed]"
          },
          "metadata": {
            "needs_background": "light"
          }
        }
      ]
    },
    {
      "cell_type": "code",
      "source": [
        "dfinal['Mes']= dfinal['Mes'].replace(['Sep'],'Sept')"
      ],
      "metadata": {
        "id": "aBsMM5kMAHDA"
      },
      "execution_count": 59,
      "outputs": []
    },
    {
      "cell_type": "code",
      "source": [
        "#gráfica que muestra como estaban los datos en el dataset original\n",
        "plt.figure()\n",
        "sns.countplot(x=df.Mes, color='lightgreen')\n",
        "plt.tick_params(labelrotation=30)"
      ],
      "metadata": {
        "colab": {
          "base_uri": "https://localhost:8080/",
          "height": 289
        },
        "id": "0iRGjZAmAHFq",
        "outputId": "76c3412f-4fb1-4986-d61e-582d5865a3fa"
      },
      "execution_count": 60,
      "outputs": [
        {
          "output_type": "display_data",
          "data": {
            "text/plain": [
              "<Figure size 432x288 with 1 Axes>"
            ],
            "image/png": "[encoded data removed]"
          },
          "metadata": {
            "needs_background": "light"
          }
        }
      ]
    },
    {
      "cell_type": "code",
      "source": [
        "#gráfica que muestra como quedaron lso datos luego de unificar\n",
        "plt.figure()\n",
        "sns.countplot(x=dfinal.Mes, color='darkgreen')\n",
        "plt.tick_params(labelrotation=30)"
      ],
      "metadata": {
        "colab": {
          "base_uri": "https://localhost:8080/",
          "height": 289
        },
        "id": "AL8QiwHwAHIV",
        "outputId": "5f4f687c-a6fe-4844-b0cf-f1d5deb53da3"
      },
      "execution_count": 61,
      "outputs": [
        {
          "output_type": "display_data",
          "data": {
            "text/plain": [
              "<Figure size 432x288 with 1 Axes>"
            ],
            "image/png": "[encoded data removed]"
          },
          "metadata": {
            "needs_background": "light"
          }
        }
      ]
    },
    {
      "cell_type": "code",
      "source": [
        "# Convertimos de object a datetime\n",
        "dfinal['Fecha_incidente'] = pd.to_datetime(dfinal.Fecha_incidente, dayfirst=True, format='%d/%m/%Y')"
      ],
      "metadata": {
        "id": "cT3QUXSJ-_lf"
      },
      "execution_count": 62,
      "outputs": []
    },
    {
      "cell_type": "code",
      "source": [
        "#corregir el 'oct-19' y pasar todos los registros a '10-19'\n",
        "dfinal.Grupo_edad = dfinal.Grupo_edad.replace(['oct-19'], '10 - 19')\n",
        "print('Grupo_edad = {}'.format(dfinal.Grupo_edad.unique()))"
      ],
      "metadata": {
        "colab": {
          "base_uri": "https://localhost:8080/"
        },
        "id": "KMmp-ww_ATJz",
        "outputId": "fe2f7184-93e7-4e95-d0c5-774a9d3f6f64"
      },
      "execution_count": 63,
      "outputs": [
        {
          "output_type": "stream",
          "name": "stdout",
          "text": [
            "Grupo_edad = ['10 - 19' '20 - 29' '30 - 39' '40 - 49' '0 - 9' '50 - 59' 'Sin Inf'\n",
            " '60 - 69' '70 - 79' '80 o mÃ¡s']\n"
          ]
        }
      ]
    },
    {
      "cell_type": "code",
      "source": [
        "# En este caso tenemos que corregir el 'Sin Inf' y pasar todos los registros a nan\n",
        "# para que los considere nulos.  Dejamos el 0 porque puede ser una edad antes del año \n",
        "# pero para no perder los registros que tienen un rango de edad los cambiamos a un \n",
        "# promedio entero. Convertir a numérico entero\n",
        "\n",
        "# convierte STRING a NAN\n",
        "dfinal.Edad = dfinal.Edad.replace(['Sin Inf'], np.nan)\n",
        "# convierte de STRING a 0\n",
        "# dfinal.Edad = dfinal.Edad.replace(['Sin Inf'], np.nan)\n",
        "\n",
        "dfinal.Edad = dfinal.Edad.replace(['30-35'], '33')\n",
        "dfinal.Edad = dfinal.Edad.replace(['45-50'], '44')\n",
        "dfinal.Edad = dfinal.Edad.replace(['30 - 35'], '33')\n",
        "dfinal.Edad = dfinal.Edad.replace(['20 - 29'], '25')\n",
        "\n",
        "# errors='coerce' tranforma todos los errores en NaN y evito generar las correcciones anteriores\n",
        "dfinal.Edad = pd.to_numeric(dfinal.Edad, downcast='integer')\n",
        "\n",
        "# Convierto de NAN a 0\n",
        "dfinal.Edad = dfinal.Edad.replace(np.nan, 0)\n",
        "\n",
        "# CONVIERTO A INT64 // IMPORTANTE ANTES DE CONVERTIR A INT DEBEN PASAR EL NAN A UN VALOR\n",
        "dfinal['Edad'] = dfinal['Edad'].astype(int)\n",
        "\n",
        "\n",
        "print('Edad = {}'.format(dfinal.Edad.unique()))"
      ],
      "metadata": {
        "id": "lDVaS1nVATMZ"
      },
      "execution_count": null,
      "outputs": []
    },
    {
      "cell_type": "code",
      "source": [
        "# dfinal.Edad = dfinal.Edad.replace(np.nan, 0)\n",
        "# print('Edad = {}'.format(dfinal.Edad.unique()))\n",
        "# dfinal['Edad'] = dfinal['Edad'].astype(int)\n",
        "dfinal.dtypes"
      ],
      "metadata": {
        "colab": {
          "base_uri": "https://localhost:8080/"
        },
        "id": "nNxoClQXiIkD",
        "outputId": "601d8589-53bf-4e4b-8b3b-0ecf40041388"
      },
      "execution_count": 77,
      "outputs": [
        {
          "output_type": "execute_result",
          "data": {
            "text/plain": [
              "Gravedad_victima               object\n",
              "Fecha_incidente        datetime64[ns]\n",
              "Hora_incidente                 object\n",
              "Clase_incidente                object\n",
              "Direccion_incidente            object\n",
              "Sexo                           object\n",
              "Edad                            int64\n",
              "Condicion                      object\n",
              "Mes                            object\n",
              "Dia                            object\n",
              "Num_dia                       float64\n",
              "Hora                          float64\n",
              "Grupo_edad                     object\n",
              "Anio                            int64\n",
              "Radicado                      float64\n",
              "Latitud                        object\n",
              "Longitud                       object\n",
              "Comuna                         object\n",
              "Barrio                         object\n",
              "dtype: object"
            ]
          },
          "metadata": {},
          "execution_count": 77
        }
      ]
    },
    {
      "cell_type": "code",
      "source": [
        "# El dia no puede ser 0 por lo tanto lo ponemos como valor nulo para analizarlo con las funciones\n",
        "# de pandas despues analizamos que hacemos\n",
        "dfinal.Num_dia = dfinal.Num_dia.replace([0], np.nan)\n",
        "print('Num_dia = {}'.format(dfinal.Num_dia.unique()))"
      ],
      "metadata": {
        "colab": {
          "base_uri": "https://localhost:8080/"
        },
        "id": "6YmjzTrSATPD",
        "outputId": "dcbb3ae6-922a-4f27-fd61-016f19db3ffb"
      },
      "execution_count": 66,
      "outputs": [
        {
          "output_type": "stream",
          "name": "stdout",
          "text": [
            "Num_dia = [ 1.  2.  3.  4.  5.  6.  7.  8.  9. 10. 11. 12. 13. 14. 15. 16. 17. 18.\n",
            " 19. 20. 21. 22. 23. 24. 25. 26. 27. 28. 29. 30. 31. nan]\n"
          ]
        }
      ]
    },
    {
      "cell_type": "code",
      "source": [
        "print('Hora = {}'.format(dfinal.Hora.unique()))"
      ],
      "metadata": {
        "colab": {
          "base_uri": "https://localhost:8080/"
        },
        "id": "MdOu5TMPBgHJ",
        "outputId": "ec139481-fc7e-490a-8d7a-647898a20b7d"
      },
      "execution_count": 70,
      "outputs": [
        {
          "output_type": "stream",
          "name": "stdout",
          "text": [
            "Hora = [ 0.  1.  2.  3.  4.  5.  6.  7.  8.  9. 10. 11. 12. 13. 14. 15. 16. 17.\n",
            " 18. 19. 20. 21. 22. 23. nan]\n"
          ]
        }
      ]
    },
    {
      "cell_type": "code",
      "source": [
        "# En este caso tenemos que corregir el 'Sin Inf' y pasar todos los registros a nan\n",
        "# para que los considere nulos, el 0 es un valor válido, equivale a 24hs. Convertir a numérico entero\n",
        "# dfinal.Hora = dfinal.Hora.replace(['Sin Inf'], np.nan)\n",
        "dfinal.Hora = dfinal.Hora.replace('nan', 0)\n",
        "\n",
        "dfinal.Hora = pd.to_numeric(dfinal.Hora, downcast='integer')\n",
        "# dfinal.Hora = dfinal['Hora'].astype(int)\n",
        "print('\\n Hora = {}'.format(dfinal.Hora.unique()))\n",
        "\n",
        "# CONVIERTO A INT64\n",
        "dfinal['Hora'] = dfinal['Hora'].astype(int)"
      ],
      "metadata": {
        "colab": {
          "base_uri": "https://localhost:8080/",
          "height": 415
        },
        "id": "YOVUY23WATRy",
        "outputId": "f6057c08-c4c2-4a44-bef1-86b428e5254c"
      },
      "execution_count": 75,
      "outputs": [
        {
          "output_type": "stream",
          "name": "stdout",
          "text": [
            "\n",
            " Hora = [ 0.  1.  2.  3.  4.  5.  6.  7.  8.  9. 10. 11. 12. 13. 14. 15. 16. 17.\n",
            " 18. 19. 20. 21. 22. 23. nan]\n"
          ]
        },
        {
          "output_type": "error",
          "ename": "IntCastingNaNError",
          "evalue": "ignored",
          "traceback": [
            "\u001b[0;31m---------------------------------------------------------------------------\u001b[0m",
            "\u001b[0;31mIntCastingNaNError\u001b[0m                        Traceback (most recent call last)",
            "\u001b[0;32m<ipython-input-75-4d272174f33a>\u001b[0m in \u001b[0;36m<module>\u001b[0;34m()\u001b[0m\n\u001b[1;32m      9\u001b[0m \u001b[0;34m\u001b[0m\u001b[0m\n\u001b[1;32m     10\u001b[0m \u001b[0;31m# CONVIERTO A INT64\u001b[0m\u001b[0;34m\u001b[0m\u001b[0;34m\u001b[0m\u001b[0;34m\u001b[0m\u001b[0m\n\u001b[0;32m---> 11\u001b[0;31m \u001b[0mdfinal\u001b[0m\u001b[0;34m[\u001b[0m\u001b[0;34m'Hora'\u001b[0m\u001b[0;34m]\u001b[0m \u001b[0;34m=\u001b[0m \u001b[0mdfinal\u001b[0m\u001b[0;34m[\u001b[0m\u001b[0;34m'Hora'\u001b[0m\u001b[0;34m]\u001b[0m\u001b[0;34m.\u001b[0m\u001b[0mastype\u001b[0m\u001b[0;34m(\u001b[0m\u001b[0mint\u001b[0m\u001b[0;34m)\u001b[0m\u001b[0;34m\u001b[0m\u001b[0;34m\u001b[0m\u001b[0m\n\u001b[0m",
            "\u001b[0;32m/usr/local/lib/python3.7/dist-packages/pandas/core/generic.py\u001b[0m in \u001b[0;36mastype\u001b[0;34m(self, dtype, copy, errors)\u001b[0m\n\u001b[1;32m   5813\u001b[0m         \u001b[0;32melse\u001b[0m\u001b[0;34m:\u001b[0m\u001b[0;34m\u001b[0m\u001b[0;34m\u001b[0m\u001b[0m\n\u001b[1;32m   5814\u001b[0m             \u001b[0;31m# else, only a single dtype is given\u001b[0m\u001b[0;34m\u001b[0m\u001b[0;34m\u001b[0m\u001b[0;34m\u001b[0m\u001b[0m\n\u001b[0;32m-> 5815\u001b[0;31m             \u001b[0mnew_data\u001b[0m \u001b[0;34m=\u001b[0m \u001b[0mself\u001b[0m\u001b[0;34m.\u001b[0m\u001b[0m_mgr\u001b[0m\u001b[0;34m.\u001b[0m\u001b[0mastype\u001b[0m\u001b[0;34m(\u001b[0m\u001b[0mdtype\u001b[0m\u001b[0;34m=\u001b[0m\u001b[0mdtype\u001b[0m\u001b[0;34m,\u001b[0m \u001b[0mcopy\u001b[0m\u001b[0;34m=\u001b[0m\u001b[0mcopy\u001b[0m\u001b[0;34m,\u001b[0m \u001b[0merrors\u001b[0m\u001b[0;34m=\u001b[0m\u001b[0merrors\u001b[0m\u001b[0;34m)\u001b[0m\u001b[0;34m\u001b[0m\u001b[0;34m\u001b[0m\u001b[0m\n\u001b[0m\u001b[1;32m   5816\u001b[0m             \u001b[0;32mreturn\u001b[0m \u001b[0mself\u001b[0m\u001b[0;34m.\u001b[0m\u001b[0m_constructor\u001b[0m\u001b[0;34m(\u001b[0m\u001b[0mnew_data\u001b[0m\u001b[0;34m)\u001b[0m\u001b[0;34m.\u001b[0m\u001b[0m__finalize__\u001b[0m\u001b[0;34m(\u001b[0m\u001b[0mself\u001b[0m\u001b[0;34m,\u001b[0m \u001b[0mmethod\u001b[0m\u001b[0;34m=\u001b[0m\u001b[0;34m\"astype\"\u001b[0m\u001b[0;34m)\u001b[0m\u001b[0;34m\u001b[0m\u001b[0;34m\u001b[0m\u001b[0m\n\u001b[1;32m   5817\u001b[0m \u001b[0;34m\u001b[0m\u001b[0m\n",
            "\u001b[0;32m/usr/local/lib/python3.7/dist-packages/pandas/core/internals/managers.py\u001b[0m in \u001b[0;36mastype\u001b[0;34m(self, dtype, copy, errors)\u001b[0m\n\u001b[1;32m    416\u001b[0m \u001b[0;34m\u001b[0m\u001b[0m\n\u001b[1;32m    417\u001b[0m     \u001b[0;32mdef\u001b[0m \u001b[0mastype\u001b[0m\u001b[0;34m(\u001b[0m\u001b[0mself\u001b[0m\u001b[0;34m:\u001b[0m \u001b[0mT\u001b[0m\u001b[0;34m,\u001b[0m \u001b[0mdtype\u001b[0m\u001b[0;34m,\u001b[0m \u001b[0mcopy\u001b[0m\u001b[0;34m:\u001b[0m \u001b[0mbool\u001b[0m \u001b[0;34m=\u001b[0m \u001b[0;32mFalse\u001b[0m\u001b[0;34m,\u001b[0m \u001b[0merrors\u001b[0m\u001b[0;34m:\u001b[0m \u001b[0mstr\u001b[0m \u001b[0;34m=\u001b[0m \u001b[0;34m\"raise\"\u001b[0m\u001b[0;34m)\u001b[0m \u001b[0;34m->\u001b[0m \u001b[0mT\u001b[0m\u001b[0;34m:\u001b[0m\u001b[0;34m\u001b[0m\u001b[0;34m\u001b[0m\u001b[0m\n\u001b[0;32m--> 418\u001b[0;31m         \u001b[0;32mreturn\u001b[0m \u001b[0mself\u001b[0m\u001b[0;34m.\u001b[0m\u001b[0mapply\u001b[0m\u001b[0;34m(\u001b[0m\u001b[0;34m\"astype\"\u001b[0m\u001b[0;34m,\u001b[0m \u001b[0mdtype\u001b[0m\u001b[0;34m=\u001b[0m\u001b[0mdtype\u001b[0m\u001b[0;34m,\u001b[0m \u001b[0mcopy\u001b[0m\u001b[0;34m=\u001b[0m\u001b[0mcopy\u001b[0m\u001b[0;34m,\u001b[0m \u001b[0merrors\u001b[0m\u001b[0;34m=\u001b[0m\u001b[0merrors\u001b[0m\u001b[0;34m)\u001b[0m\u001b[0;34m\u001b[0m\u001b[0;34m\u001b[0m\u001b[0m\n\u001b[0m\u001b[1;32m    419\u001b[0m \u001b[0;34m\u001b[0m\u001b[0m\n\u001b[1;32m    420\u001b[0m     def convert(\n",
            "\u001b[0;32m/usr/local/lib/python3.7/dist-packages/pandas/core/internals/managers.py\u001b[0m in \u001b[0;36mapply\u001b[0;34m(self, f, align_keys, ignore_failures, **kwargs)\u001b[0m\n\u001b[1;32m    325\u001b[0m                     \u001b[0mapplied\u001b[0m \u001b[0;34m=\u001b[0m \u001b[0mb\u001b[0m\u001b[0;34m.\u001b[0m\u001b[0mapply\u001b[0m\u001b[0;34m(\u001b[0m\u001b[0mf\u001b[0m\u001b[0;34m,\u001b[0m \u001b[0;34m**\u001b[0m\u001b[0mkwargs\u001b[0m\u001b[0;34m)\u001b[0m\u001b[0;34m\u001b[0m\u001b[0;34m\u001b[0m\u001b[0m\n\u001b[1;32m    326\u001b[0m                 \u001b[0;32melse\u001b[0m\u001b[0;34m:\u001b[0m\u001b[0;34m\u001b[0m\u001b[0;34m\u001b[0m\u001b[0m\n\u001b[0;32m--> 327\u001b[0;31m                     \u001b[0mapplied\u001b[0m \u001b[0;34m=\u001b[0m \u001b[0mgetattr\u001b[0m\u001b[0;34m(\u001b[0m\u001b[0mb\u001b[0m\u001b[0;34m,\u001b[0m \u001b[0mf\u001b[0m\u001b[0;34m)\u001b[0m\u001b[0;34m(\u001b[0m\u001b[0;34m**\u001b[0m\u001b[0mkwargs\u001b[0m\u001b[0;34m)\u001b[0m\u001b[0;34m\u001b[0m\u001b[0;34m\u001b[0m\u001b[0m\n\u001b[0m\u001b[1;32m    328\u001b[0m             \u001b[0;32mexcept\u001b[0m \u001b[0;34m(\u001b[0m\u001b[0mTypeError\u001b[0m\u001b[0;34m,\u001b[0m \u001b[0mNotImplementedError\u001b[0m\u001b[0;34m)\u001b[0m\u001b[0;34m:\u001b[0m\u001b[0;34m\u001b[0m\u001b[0;34m\u001b[0m\u001b[0m\n\u001b[1;32m    329\u001b[0m                 \u001b[0;32mif\u001b[0m \u001b[0;32mnot\u001b[0m \u001b[0mignore_failures\u001b[0m\u001b[0;34m:\u001b[0m\u001b[0;34m\u001b[0m\u001b[0;34m\u001b[0m\u001b[0m\n",
            "\u001b[0;32m/usr/local/lib/python3.7/dist-packages/pandas/core/internals/blocks.py\u001b[0m in \u001b[0;36mastype\u001b[0;34m(self, dtype, copy, errors)\u001b[0m\n\u001b[1;32m    589\u001b[0m         \u001b[0mvalues\u001b[0m \u001b[0;34m=\u001b[0m \u001b[0mself\u001b[0m\u001b[0;34m.\u001b[0m\u001b[0mvalues\u001b[0m\u001b[0;34m\u001b[0m\u001b[0;34m\u001b[0m\u001b[0m\n\u001b[1;32m    590\u001b[0m \u001b[0;34m\u001b[0m\u001b[0m\n\u001b[0;32m--> 591\u001b[0;31m         \u001b[0mnew_values\u001b[0m \u001b[0;34m=\u001b[0m \u001b[0mastype_array_safe\u001b[0m\u001b[0;34m(\u001b[0m\u001b[0mvalues\u001b[0m\u001b[0;34m,\u001b[0m \u001b[0mdtype\u001b[0m\u001b[0;34m,\u001b[0m \u001b[0mcopy\u001b[0m\u001b[0;34m=\u001b[0m\u001b[0mcopy\u001b[0m\u001b[0;34m,\u001b[0m \u001b[0merrors\u001b[0m\u001b[0;34m=\u001b[0m\u001b[0merrors\u001b[0m\u001b[0;34m)\u001b[0m\u001b[0;34m\u001b[0m\u001b[0;34m\u001b[0m\u001b[0m\n\u001b[0m\u001b[1;32m    592\u001b[0m \u001b[0;34m\u001b[0m\u001b[0m\n\u001b[1;32m    593\u001b[0m         \u001b[0mnew_values\u001b[0m \u001b[0;34m=\u001b[0m \u001b[0mmaybe_coerce_values\u001b[0m\u001b[0;34m(\u001b[0m\u001b[0mnew_values\u001b[0m\u001b[0;34m)\u001b[0m\u001b[0;34m\u001b[0m\u001b[0;34m\u001b[0m\u001b[0m\n",
            "\u001b[0;32m/usr/local/lib/python3.7/dist-packages/pandas/core/dtypes/cast.py\u001b[0m in \u001b[0;36mastype_array_safe\u001b[0;34m(values, dtype, copy, errors)\u001b[0m\n\u001b[1;32m   1307\u001b[0m \u001b[0;34m\u001b[0m\u001b[0m\n\u001b[1;32m   1308\u001b[0m     \u001b[0;32mtry\u001b[0m\u001b[0;34m:\u001b[0m\u001b[0;34m\u001b[0m\u001b[0;34m\u001b[0m\u001b[0m\n\u001b[0;32m-> 1309\u001b[0;31m         \u001b[0mnew_values\u001b[0m \u001b[0;34m=\u001b[0m \u001b[0mastype_array\u001b[0m\u001b[0;34m(\u001b[0m\u001b[0mvalues\u001b[0m\u001b[0;34m,\u001b[0m \u001b[0mdtype\u001b[0m\u001b[0;34m,\u001b[0m \u001b[0mcopy\u001b[0m\u001b[0;34m=\u001b[0m\u001b[0mcopy\u001b[0m\u001b[0;34m)\u001b[0m\u001b[0;34m\u001b[0m\u001b[0;34m\u001b[0m\u001b[0m\n\u001b[0m\u001b[1;32m   1310\u001b[0m     \u001b[0;32mexcept\u001b[0m \u001b[0;34m(\u001b[0m\u001b[0mValueError\u001b[0m\u001b[0;34m,\u001b[0m \u001b[0mTypeError\u001b[0m\u001b[0;34m)\u001b[0m\u001b[0;34m:\u001b[0m\u001b[0;34m\u001b[0m\u001b[0;34m\u001b[0m\u001b[0m\n\u001b[1;32m   1311\u001b[0m         \u001b[0;31m# e.g. astype_nansafe can fail on object-dtype of strings\u001b[0m\u001b[0;34m\u001b[0m\u001b[0;34m\u001b[0m\u001b[0;34m\u001b[0m\u001b[0m\n",
            "\u001b[0;32m/usr/local/lib/python3.7/dist-packages/pandas/core/dtypes/cast.py\u001b[0m in \u001b[0;36mastype_array\u001b[0;34m(values, dtype, copy)\u001b[0m\n\u001b[1;32m   1255\u001b[0m \u001b[0;34m\u001b[0m\u001b[0m\n\u001b[1;32m   1256\u001b[0m     \u001b[0;32melse\u001b[0m\u001b[0;34m:\u001b[0m\u001b[0;34m\u001b[0m\u001b[0;34m\u001b[0m\u001b[0m\n\u001b[0;32m-> 1257\u001b[0;31m         \u001b[0mvalues\u001b[0m \u001b[0;34m=\u001b[0m \u001b[0mastype_nansafe\u001b[0m\u001b[0;34m(\u001b[0m\u001b[0mvalues\u001b[0m\u001b[0;34m,\u001b[0m \u001b[0mdtype\u001b[0m\u001b[0;34m,\u001b[0m \u001b[0mcopy\u001b[0m\u001b[0;34m=\u001b[0m\u001b[0mcopy\u001b[0m\u001b[0;34m)\u001b[0m\u001b[0;34m\u001b[0m\u001b[0;34m\u001b[0m\u001b[0m\n\u001b[0m\u001b[1;32m   1258\u001b[0m \u001b[0;34m\u001b[0m\u001b[0m\n\u001b[1;32m   1259\u001b[0m     \u001b[0;31m# in pandas we don't store numpy str dtypes, so convert to object\u001b[0m\u001b[0;34m\u001b[0m\u001b[0;34m\u001b[0m\u001b[0;34m\u001b[0m\u001b[0m\n",
            "\u001b[0;32m/usr/local/lib/python3.7/dist-packages/pandas/core/dtypes/cast.py\u001b[0m in \u001b[0;36mastype_nansafe\u001b[0;34m(arr, dtype, copy, skipna)\u001b[0m\n\u001b[1;32m   1166\u001b[0m \u001b[0;34m\u001b[0m\u001b[0m\n\u001b[1;32m   1167\u001b[0m     \u001b[0;32melif\u001b[0m \u001b[0mnp\u001b[0m\u001b[0;34m.\u001b[0m\u001b[0missubdtype\u001b[0m\u001b[0;34m(\u001b[0m\u001b[0marr\u001b[0m\u001b[0;34m.\u001b[0m\u001b[0mdtype\u001b[0m\u001b[0;34m,\u001b[0m \u001b[0mnp\u001b[0m\u001b[0;34m.\u001b[0m\u001b[0mfloating\u001b[0m\u001b[0;34m)\u001b[0m \u001b[0;32mand\u001b[0m \u001b[0mnp\u001b[0m\u001b[0;34m.\u001b[0m\u001b[0missubdtype\u001b[0m\u001b[0;34m(\u001b[0m\u001b[0mdtype\u001b[0m\u001b[0;34m,\u001b[0m \u001b[0mnp\u001b[0m\u001b[0;34m.\u001b[0m\u001b[0minteger\u001b[0m\u001b[0;34m)\u001b[0m\u001b[0;34m:\u001b[0m\u001b[0;34m\u001b[0m\u001b[0;34m\u001b[0m\u001b[0m\n\u001b[0;32m-> 1168\u001b[0;31m         \u001b[0;32mreturn\u001b[0m \u001b[0mastype_float_to_int_nansafe\u001b[0m\u001b[0;34m(\u001b[0m\u001b[0marr\u001b[0m\u001b[0;34m,\u001b[0m \u001b[0mdtype\u001b[0m\u001b[0;34m,\u001b[0m \u001b[0mcopy\u001b[0m\u001b[0;34m)\u001b[0m\u001b[0;34m\u001b[0m\u001b[0;34m\u001b[0m\u001b[0m\n\u001b[0m\u001b[1;32m   1169\u001b[0m \u001b[0;34m\u001b[0m\u001b[0m\n\u001b[1;32m   1170\u001b[0m     \u001b[0;32melif\u001b[0m \u001b[0mis_object_dtype\u001b[0m\u001b[0;34m(\u001b[0m\u001b[0marr\u001b[0m\u001b[0;34m)\u001b[0m\u001b[0;34m:\u001b[0m\u001b[0;34m\u001b[0m\u001b[0;34m\u001b[0m\u001b[0m\n",
            "\u001b[0;32m/usr/local/lib/python3.7/dist-packages/pandas/core/dtypes/cast.py\u001b[0m in \u001b[0;36mastype_float_to_int_nansafe\u001b[0;34m(values, dtype, copy)\u001b[0m\n\u001b[1;32m   1212\u001b[0m     \u001b[0;32mif\u001b[0m \u001b[0;32mnot\u001b[0m \u001b[0mnp\u001b[0m\u001b[0;34m.\u001b[0m\u001b[0misfinite\u001b[0m\u001b[0;34m(\u001b[0m\u001b[0mvalues\u001b[0m\u001b[0;34m)\u001b[0m\u001b[0;34m.\u001b[0m\u001b[0mall\u001b[0m\u001b[0;34m(\u001b[0m\u001b[0;34m)\u001b[0m\u001b[0;34m:\u001b[0m\u001b[0;34m\u001b[0m\u001b[0;34m\u001b[0m\u001b[0m\n\u001b[1;32m   1213\u001b[0m         raise IntCastingNaNError(\n\u001b[0;32m-> 1214\u001b[0;31m             \u001b[0;34m\"Cannot convert non-finite values (NA or inf) to integer\"\u001b[0m\u001b[0;34m\u001b[0m\u001b[0;34m\u001b[0m\u001b[0m\n\u001b[0m\u001b[1;32m   1215\u001b[0m         )\n\u001b[1;32m   1216\u001b[0m     \u001b[0;32mreturn\u001b[0m \u001b[0mvalues\u001b[0m\u001b[0;34m.\u001b[0m\u001b[0mastype\u001b[0m\u001b[0;34m(\u001b[0m\u001b[0mdtype\u001b[0m\u001b[0;34m,\u001b[0m \u001b[0mcopy\u001b[0m\u001b[0;34m=\u001b[0m\u001b[0mcopy\u001b[0m\u001b[0;34m)\u001b[0m\u001b[0;34m\u001b[0m\u001b[0;34m\u001b[0m\u001b[0m\n",
            "\u001b[0;31mIntCastingNaNError\u001b[0m: Cannot convert non-finite values (NA or inf) to integer"
          ]
        }
      ]
    },
    {
      "cell_type": "code",
      "source": [
        "# Convertir a numérico entero y los errores los conviento en Nan directamente \n",
        "dfinal.Radicado = pd.to_numeric(dfinal.Radicado, downcast='integer', errors='coerce')\n",
        "\n",
        "# dfinal.Radicado = dfinal['Radicado'].astype(int) // esta linea no corre por que da error ya que uno de lso valores es '5,00E+19'\n",
        "\n",
        "print('\\n Radicado = {}'.format(dfinal.Radicado.unique()))"
      ],
      "metadata": {
        "colab": {
          "base_uri": "https://localhost:8080/"
        },
        "id": "nf2BADj4ATUm",
        "outputId": "ac89ba30-981a-48f0-a1d8-e7423f814528"
      },
      "execution_count": 78,
      "outputs": [
        {
          "output_type": "stream",
          "name": "stdout",
          "text": [
            "\n",
            " Radicado = [1423940. 1423921. 1423849. ... 1763968. 1764133. 1763946.]\n"
          ]
        }
      ]
    },
    {
      "cell_type": "code",
      "source": [
        "# En este caso tenemos que corregir el 'Sin Inf' y pasar todos los registros a '0' o nan\n",
        "# para que los considere nulos. Convertir a numerico float\n",
        "dfinal.Latitud = dfinal.Latitud.replace(['Sin Inf'], np.nan)\n",
        "\n",
        "dfinal.Latitud = dfinal.Latitud.str.replace(',','.').astype(np.float64)\n",
        "print('\\n Latitud = {}'.format(dfinal.Latitud.unique()))"
      ],
      "metadata": {
        "colab": {
          "base_uri": "https://localhost:8080/"
        },
        "id": "1bPdr2LFATXP",
        "outputId": "fb320c55-4d64-4a6d-ad5d-ceb81e92c2f1"
      },
      "execution_count": 79,
      "outputs": [
        {
          "output_type": "stream",
          "name": "stdout",
          "text": [
            "\n",
            " Latitud = [  6.26691466   6.28935346   6.23432737 ... -75.57582422 -75.53631071\n",
            " -75.54867484]\n"
          ]
        }
      ]
    },
    {
      "cell_type": "code",
      "source": [
        "# En este caso tenemos que corregir el 'Sin Inf' y pasar todos los registros a '0' o nan\n",
        "# para que los considere nulos. Convertir a numerico float\n",
        "\n",
        "dfinal.Longitud = dfinal.Longitud.replace(['Sin Inf'], np.nan)\n",
        "# dfinal.Longitud = dfinal.Longitud.replace(0, np.nan)\n",
        "\n",
        "dfinal.Longitud = dfinal.Longitud.str.replace(',','.').astype(np.float64)\n",
        "print('\\n Longitud = {}'.format(dfinal.Longitud.unique()))"
      ],
      "metadata": {
        "colab": {
          "base_uri": "https://localhost:8080/"
        },
        "id": "xMC5mpb4ATZ-",
        "outputId": "99d860b9-08b2-4008-be96-bfdb91b784ae"
      },
      "execution_count": 80,
      "outputs": [
        {
          "output_type": "stream",
          "name": "stdout",
          "text": [
            "\n",
            " Longitud = [-75.5590994  -75.55329197 -75.60761079 ...   6.2178952    6.23426695\n",
            "   6.272697  ]\n"
          ]
        }
      ]
    },
    {
      "cell_type": "code",
      "source": [
        "print('Num_dia = {}'.format(dfinal.Condicion.unique()))"
      ],
      "metadata": {
        "colab": {
          "base_uri": "https://localhost:8080/"
        },
        "id": "HTayxi17pnmD",
        "outputId": "f3d5e2e6-d151-499b-a685-52f5e70276a7"
      },
      "execution_count": 81,
      "outputs": [
        {
          "output_type": "stream",
          "name": "stdout",
          "text": [
            "Num_dia = ['Motociclista' 'Peaton' 'Acompanante de Motocicleta' 'Conductor'\n",
            " 'Ciclista' 'Pasajero']\n"
          ]
        }
      ]
    },
    {
      "cell_type": "code",
      "source": [
        "# Despues de las correciones sacamos nuevamente la informacion del data frame y\n",
        "# vemos que tenemos ahora varias columnas numericas\n",
        "\n",
        "# SE FORMATEA HORA\n",
        "dfinal['Hora'] = dfinal['Hora'].astype(int)\n",
        "# SE FORMATEA HORA\n",
        "dfinal['AÃ±o'] = dfinal['AÃ±o'].astype(int) \n",
        "dfinal.info()"
      ],
      "metadata": {
        "colab": {
          "base_uri": "https://localhost:8080/",
          "height": 396
        },
        "id": "oqY8rmqpATc4",
        "outputId": "79991ba2-7c26-4711-be52-04db506d5915"
      },
      "execution_count": 82,
      "outputs": [
        {
          "output_type": "error",
          "ename": "IntCastingNaNError",
          "evalue": "ignored",
          "traceback": [
            "\u001b[0;31m---------------------------------------------------------------------------\u001b[0m",
            "\u001b[0;31mIntCastingNaNError\u001b[0m                        Traceback (most recent call last)",
            "\u001b[0;32m<ipython-input-82-daab21e8c523>\u001b[0m in \u001b[0;36m<module>\u001b[0;34m()\u001b[0m\n\u001b[1;32m      3\u001b[0m \u001b[0;34m\u001b[0m\u001b[0m\n\u001b[1;32m      4\u001b[0m \u001b[0;31m# SE FORMATEA HORA\u001b[0m\u001b[0;34m\u001b[0m\u001b[0;34m\u001b[0m\u001b[0;34m\u001b[0m\u001b[0m\n\u001b[0;32m----> 5\u001b[0;31m \u001b[0mdfinal\u001b[0m\u001b[0;34m[\u001b[0m\u001b[0;34m'Hora'\u001b[0m\u001b[0;34m]\u001b[0m \u001b[0;34m=\u001b[0m \u001b[0mdfinal\u001b[0m\u001b[0;34m[\u001b[0m\u001b[0;34m'Hora'\u001b[0m\u001b[0;34m]\u001b[0m\u001b[0;34m.\u001b[0m\u001b[0mastype\u001b[0m\u001b[0;34m(\u001b[0m\u001b[0mint\u001b[0m\u001b[0;34m)\u001b[0m\u001b[0;34m\u001b[0m\u001b[0;34m\u001b[0m\u001b[0m\n\u001b[0m\u001b[1;32m      6\u001b[0m \u001b[0;31m# SE FORMATEA HORA\u001b[0m\u001b[0;34m\u001b[0m\u001b[0;34m\u001b[0m\u001b[0;34m\u001b[0m\u001b[0m\n\u001b[1;32m      7\u001b[0m \u001b[0mdfinal\u001b[0m\u001b[0;34m[\u001b[0m\u001b[0;34m'AÃ±o'\u001b[0m\u001b[0;34m]\u001b[0m \u001b[0;34m=\u001b[0m \u001b[0mdfinal\u001b[0m\u001b[0;34m[\u001b[0m\u001b[0;34m'AÃ±o'\u001b[0m\u001b[0;34m]\u001b[0m\u001b[0;34m.\u001b[0m\u001b[0mastype\u001b[0m\u001b[0;34m(\u001b[0m\u001b[0mint\u001b[0m\u001b[0;34m)\u001b[0m\u001b[0;34m\u001b[0m\u001b[0;34m\u001b[0m\u001b[0m\n",
            "\u001b[0;32m/usr/local/lib/python3.7/dist-packages/pandas/core/generic.py\u001b[0m in \u001b[0;36mastype\u001b[0;34m(self, dtype, copy, errors)\u001b[0m\n\u001b[1;32m   5813\u001b[0m         \u001b[0;32melse\u001b[0m\u001b[0;34m:\u001b[0m\u001b[0;34m\u001b[0m\u001b[0;34m\u001b[0m\u001b[0m\n\u001b[1;32m   5814\u001b[0m             \u001b[0;31m# else, only a single dtype is given\u001b[0m\u001b[0;34m\u001b[0m\u001b[0;34m\u001b[0m\u001b[0;34m\u001b[0m\u001b[0m\n\u001b[0;32m-> 5815\u001b[0;31m             \u001b[0mnew_data\u001b[0m \u001b[0;34m=\u001b[0m \u001b[0mself\u001b[0m\u001b[0;34m.\u001b[0m\u001b[0m_mgr\u001b[0m\u001b[0;34m.\u001b[0m\u001b[0mastype\u001b[0m\u001b[0;34m(\u001b[0m\u001b[0mdtype\u001b[0m\u001b[0;34m=\u001b[0m\u001b[0mdtype\u001b[0m\u001b[0;34m,\u001b[0m \u001b[0mcopy\u001b[0m\u001b[0;34m=\u001b[0m\u001b[0mcopy\u001b[0m\u001b[0;34m,\u001b[0m \u001b[0merrors\u001b[0m\u001b[0;34m=\u001b[0m\u001b[0merrors\u001b[0m\u001b[0;34m)\u001b[0m\u001b[0;34m\u001b[0m\u001b[0;34m\u001b[0m\u001b[0m\n\u001b[0m\u001b[1;32m   5816\u001b[0m             \u001b[0;32mreturn\u001b[0m \u001b[0mself\u001b[0m\u001b[0;34m.\u001b[0m\u001b[0m_constructor\u001b[0m\u001b[0;34m(\u001b[0m\u001b[0mnew_data\u001b[0m\u001b[0;34m)\u001b[0m\u001b[0;34m.\u001b[0m\u001b[0m__finalize__\u001b[0m\u001b[0;34m(\u001b[0m\u001b[0mself\u001b[0m\u001b[0;34m,\u001b[0m \u001b[0mmethod\u001b[0m\u001b[0;34m=\u001b[0m\u001b[0;34m\"astype\"\u001b[0m\u001b[0;34m)\u001b[0m\u001b[0;34m\u001b[0m\u001b[0;34m\u001b[0m\u001b[0m\n\u001b[1;32m   5817\u001b[0m \u001b[0;34m\u001b[0m\u001b[0m\n",
            "\u001b[0;32m/usr/local/lib/python3.7/dist-packages/pandas/core/internals/managers.py\u001b[0m in \u001b[0;36mastype\u001b[0;34m(self, dtype, copy, errors)\u001b[0m\n\u001b[1;32m    416\u001b[0m \u001b[0;34m\u001b[0m\u001b[0m\n\u001b[1;32m    417\u001b[0m     \u001b[0;32mdef\u001b[0m \u001b[0mastype\u001b[0m\u001b[0;34m(\u001b[0m\u001b[0mself\u001b[0m\u001b[0;34m:\u001b[0m \u001b[0mT\u001b[0m\u001b[0;34m,\u001b[0m \u001b[0mdtype\u001b[0m\u001b[0;34m,\u001b[0m \u001b[0mcopy\u001b[0m\u001b[0;34m:\u001b[0m \u001b[0mbool\u001b[0m \u001b[0;34m=\u001b[0m \u001b[0;32mFalse\u001b[0m\u001b[0;34m,\u001b[0m \u001b[0merrors\u001b[0m\u001b[0;34m:\u001b[0m \u001b[0mstr\u001b[0m \u001b[0;34m=\u001b[0m \u001b[0;34m\"raise\"\u001b[0m\u001b[0;34m)\u001b[0m \u001b[0;34m->\u001b[0m \u001b[0mT\u001b[0m\u001b[0;34m:\u001b[0m\u001b[0;34m\u001b[0m\u001b[0;34m\u001b[0m\u001b[0m\n\u001b[0;32m--> 418\u001b[0;31m         \u001b[0;32mreturn\u001b[0m \u001b[0mself\u001b[0m\u001b[0;34m.\u001b[0m\u001b[0mapply\u001b[0m\u001b[0;34m(\u001b[0m\u001b[0;34m\"astype\"\u001b[0m\u001b[0;34m,\u001b[0m \u001b[0mdtype\u001b[0m\u001b[0;34m=\u001b[0m\u001b[0mdtype\u001b[0m\u001b[0;34m,\u001b[0m \u001b[0mcopy\u001b[0m\u001b[0;34m=\u001b[0m\u001b[0mcopy\u001b[0m\u001b[0;34m,\u001b[0m \u001b[0merrors\u001b[0m\u001b[0;34m=\u001b[0m\u001b[0merrors\u001b[0m\u001b[0;34m)\u001b[0m\u001b[0;34m\u001b[0m\u001b[0;34m\u001b[0m\u001b[0m\n\u001b[0m\u001b[1;32m    419\u001b[0m \u001b[0;34m\u001b[0m\u001b[0m\n\u001b[1;32m    420\u001b[0m     def convert(\n",
            "\u001b[0;32m/usr/local/lib/python3.7/dist-packages/pandas/core/internals/managers.py\u001b[0m in \u001b[0;36mapply\u001b[0;34m(self, f, align_keys, ignore_failures, **kwargs)\u001b[0m\n\u001b[1;32m    325\u001b[0m                     \u001b[0mapplied\u001b[0m \u001b[0;34m=\u001b[0m \u001b[0mb\u001b[0m\u001b[0;34m.\u001b[0m\u001b[0mapply\u001b[0m\u001b[0;34m(\u001b[0m\u001b[0mf\u001b[0m\u001b[0;34m,\u001b[0m \u001b[0;34m**\u001b[0m\u001b[0mkwargs\u001b[0m\u001b[0;34m)\u001b[0m\u001b[0;34m\u001b[0m\u001b[0;34m\u001b[0m\u001b[0m\n\u001b[1;32m    326\u001b[0m                 \u001b[0;32melse\u001b[0m\u001b[0;34m:\u001b[0m\u001b[0;34m\u001b[0m\u001b[0;34m\u001b[0m\u001b[0m\n\u001b[0;32m--> 327\u001b[0;31m                     \u001b[0mapplied\u001b[0m \u001b[0;34m=\u001b[0m \u001b[0mgetattr\u001b[0m\u001b[0;34m(\u001b[0m\u001b[0mb\u001b[0m\u001b[0;34m,\u001b[0m \u001b[0mf\u001b[0m\u001b[0;34m)\u001b[0m\u001b[0;34m(\u001b[0m\u001b[0;34m**\u001b[0m\u001b[0mkwargs\u001b[0m\u001b[0;34m)\u001b[0m\u001b[0;34m\u001b[0m\u001b[0;34m\u001b[0m\u001b[0m\n\u001b[0m\u001b[1;32m    328\u001b[0m             \u001b[0;32mexcept\u001b[0m \u001b[0;34m(\u001b[0m\u001b[0mTypeError\u001b[0m\u001b[0;34m,\u001b[0m \u001b[0mNotImplementedError\u001b[0m\u001b[0;34m)\u001b[0m\u001b[0;34m:\u001b[0m\u001b[0;34m\u001b[0m\u001b[0;34m\u001b[0m\u001b[0m\n\u001b[1;32m    329\u001b[0m                 \u001b[0;32mif\u001b[0m \u001b[0;32mnot\u001b[0m \u001b[0mignore_failures\u001b[0m\u001b[0;34m:\u001b[0m\u001b[0;34m\u001b[0m\u001b[0;34m\u001b[0m\u001b[0m\n",
            "\u001b[0;32m/usr/local/lib/python3.7/dist-packages/pandas/core/internals/blocks.py\u001b[0m in \u001b[0;36mastype\u001b[0;34m(self, dtype, copy, errors)\u001b[0m\n\u001b[1;32m    589\u001b[0m         \u001b[0mvalues\u001b[0m \u001b[0;34m=\u001b[0m \u001b[0mself\u001b[0m\u001b[0;34m.\u001b[0m\u001b[0mvalues\u001b[0m\u001b[0;34m\u001b[0m\u001b[0;34m\u001b[0m\u001b[0m\n\u001b[1;32m    590\u001b[0m \u001b[0;34m\u001b[0m\u001b[0m\n\u001b[0;32m--> 591\u001b[0;31m         \u001b[0mnew_values\u001b[0m \u001b[0;34m=\u001b[0m \u001b[0mastype_array_safe\u001b[0m\u001b[0;34m(\u001b[0m\u001b[0mvalues\u001b[0m\u001b[0;34m,\u001b[0m \u001b[0mdtype\u001b[0m\u001b[0;34m,\u001b[0m \u001b[0mcopy\u001b[0m\u001b[0;34m=\u001b[0m\u001b[0mcopy\u001b[0m\u001b[0;34m,\u001b[0m \u001b[0merrors\u001b[0m\u001b[0;34m=\u001b[0m\u001b[0merrors\u001b[0m\u001b[0;34m)\u001b[0m\u001b[0;34m\u001b[0m\u001b[0;34m\u001b[0m\u001b[0m\n\u001b[0m\u001b[1;32m    592\u001b[0m \u001b[0;34m\u001b[0m\u001b[0m\n\u001b[1;32m    593\u001b[0m         \u001b[0mnew_values\u001b[0m \u001b[0;34m=\u001b[0m \u001b[0mmaybe_coerce_values\u001b[0m\u001b[0;34m(\u001b[0m\u001b[0mnew_values\u001b[0m\u001b[0;34m)\u001b[0m\u001b[0;34m\u001b[0m\u001b[0;34m\u001b[0m\u001b[0m\n",
            "\u001b[0;32m/usr/local/lib/python3.7/dist-packages/pandas/core/dtypes/cast.py\u001b[0m in \u001b[0;36mastype_array_safe\u001b[0;34m(values, dtype, copy, errors)\u001b[0m\n\u001b[1;32m   1307\u001b[0m \u001b[0;34m\u001b[0m\u001b[0m\n\u001b[1;32m   1308\u001b[0m     \u001b[0;32mtry\u001b[0m\u001b[0;34m:\u001b[0m\u001b[0;34m\u001b[0m\u001b[0;34m\u001b[0m\u001b[0m\n\u001b[0;32m-> 1309\u001b[0;31m         \u001b[0mnew_values\u001b[0m \u001b[0;34m=\u001b[0m \u001b[0mastype_array\u001b[0m\u001b[0;34m(\u001b[0m\u001b[0mvalues\u001b[0m\u001b[0;34m,\u001b[0m \u001b[0mdtype\u001b[0m\u001b[0;34m,\u001b[0m \u001b[0mcopy\u001b[0m\u001b[0;34m=\u001b[0m\u001b[0mcopy\u001b[0m\u001b[0;34m)\u001b[0m\u001b[0;34m\u001b[0m\u001b[0;34m\u001b[0m\u001b[0m\n\u001b[0m\u001b[1;32m   1310\u001b[0m     \u001b[0;32mexcept\u001b[0m \u001b[0;34m(\u001b[0m\u001b[0mValueError\u001b[0m\u001b[0;34m,\u001b[0m \u001b[0mTypeError\u001b[0m\u001b[0;34m)\u001b[0m\u001b[0;34m:\u001b[0m\u001b[0;34m\u001b[0m\u001b[0;34m\u001b[0m\u001b[0m\n\u001b[1;32m   1311\u001b[0m         \u001b[0;31m# e.g. astype_nansafe can fail on object-dtype of strings\u001b[0m\u001b[0;34m\u001b[0m\u001b[0;34m\u001b[0m\u001b[0;34m\u001b[0m\u001b[0m\n",
            "\u001b[0;32m/usr/local/lib/python3.7/dist-packages/pandas/core/dtypes/cast.py\u001b[0m in \u001b[0;36mastype_array\u001b[0;34m(values, dtype, copy)\u001b[0m\n\u001b[1;32m   1255\u001b[0m \u001b[0;34m\u001b[0m\u001b[0m\n\u001b[1;32m   1256\u001b[0m     \u001b[0;32melse\u001b[0m\u001b[0;34m:\u001b[0m\u001b[0;34m\u001b[0m\u001b[0;34m\u001b[0m\u001b[0m\n\u001b[0;32m-> 1257\u001b[0;31m         \u001b[0mvalues\u001b[0m \u001b[0;34m=\u001b[0m \u001b[0mastype_nansafe\u001b[0m\u001b[0;34m(\u001b[0m\u001b[0mvalues\u001b[0m\u001b[0;34m,\u001b[0m \u001b[0mdtype\u001b[0m\u001b[0;34m,\u001b[0m \u001b[0mcopy\u001b[0m\u001b[0;34m=\u001b[0m\u001b[0mcopy\u001b[0m\u001b[0;34m)\u001b[0m\u001b[0;34m\u001b[0m\u001b[0;34m\u001b[0m\u001b[0m\n\u001b[0m\u001b[1;32m   1258\u001b[0m \u001b[0;34m\u001b[0m\u001b[0m\n\u001b[1;32m   1259\u001b[0m     \u001b[0;31m# in pandas we don't store numpy str dtypes, so convert to object\u001b[0m\u001b[0;34m\u001b[0m\u001b[0;34m\u001b[0m\u001b[0;34m\u001b[0m\u001b[0m\n",
            "\u001b[0;32m/usr/local/lib/python3.7/dist-packages/pandas/core/dtypes/cast.py\u001b[0m in \u001b[0;36mastype_nansafe\u001b[0;34m(arr, dtype, copy, skipna)\u001b[0m\n\u001b[1;32m   1166\u001b[0m \u001b[0;34m\u001b[0m\u001b[0m\n\u001b[1;32m   1167\u001b[0m     \u001b[0;32melif\u001b[0m \u001b[0mnp\u001b[0m\u001b[0;34m.\u001b[0m\u001b[0missubdtype\u001b[0m\u001b[0;34m(\u001b[0m\u001b[0marr\u001b[0m\u001b[0;34m.\u001b[0m\u001b[0mdtype\u001b[0m\u001b[0;34m,\u001b[0m \u001b[0mnp\u001b[0m\u001b[0;34m.\u001b[0m\u001b[0mfloating\u001b[0m\u001b[0;34m)\u001b[0m \u001b[0;32mand\u001b[0m \u001b[0mnp\u001b[0m\u001b[0;34m.\u001b[0m\u001b[0missubdtype\u001b[0m\u001b[0;34m(\u001b[0m\u001b[0mdtype\u001b[0m\u001b[0;34m,\u001b[0m \u001b[0mnp\u001b[0m\u001b[0;34m.\u001b[0m\u001b[0minteger\u001b[0m\u001b[0;34m)\u001b[0m\u001b[0;34m:\u001b[0m\u001b[0;34m\u001b[0m\u001b[0;34m\u001b[0m\u001b[0m\n\u001b[0;32m-> 1168\u001b[0;31m         \u001b[0;32mreturn\u001b[0m \u001b[0mastype_float_to_int_nansafe\u001b[0m\u001b[0;34m(\u001b[0m\u001b[0marr\u001b[0m\u001b[0;34m,\u001b[0m \u001b[0mdtype\u001b[0m\u001b[0;34m,\u001b[0m \u001b[0mcopy\u001b[0m\u001b[0;34m)\u001b[0m\u001b[0;34m\u001b[0m\u001b[0;34m\u001b[0m\u001b[0m\n\u001b[0m\u001b[1;32m   1169\u001b[0m \u001b[0;34m\u001b[0m\u001b[0m\n\u001b[1;32m   1170\u001b[0m     \u001b[0;32melif\u001b[0m \u001b[0mis_object_dtype\u001b[0m\u001b[0;34m(\u001b[0m\u001b[0marr\u001b[0m\u001b[0;34m)\u001b[0m\u001b[0;34m:\u001b[0m\u001b[0;34m\u001b[0m\u001b[0;34m\u001b[0m\u001b[0m\n",
            "\u001b[0;32m/usr/local/lib/python3.7/dist-packages/pandas/core/dtypes/cast.py\u001b[0m in \u001b[0;36mastype_float_to_int_nansafe\u001b[0;34m(values, dtype, copy)\u001b[0m\n\u001b[1;32m   1212\u001b[0m     \u001b[0;32mif\u001b[0m \u001b[0;32mnot\u001b[0m \u001b[0mnp\u001b[0m\u001b[0;34m.\u001b[0m\u001b[0misfinite\u001b[0m\u001b[0;34m(\u001b[0m\u001b[0mvalues\u001b[0m\u001b[0;34m)\u001b[0m\u001b[0;34m.\u001b[0m\u001b[0mall\u001b[0m\u001b[0;34m(\u001b[0m\u001b[0;34m)\u001b[0m\u001b[0;34m:\u001b[0m\u001b[0;34m\u001b[0m\u001b[0;34m\u001b[0m\u001b[0m\n\u001b[1;32m   1213\u001b[0m         raise IntCastingNaNError(\n\u001b[0;32m-> 1214\u001b[0;31m             \u001b[0;34m\"Cannot convert non-finite values (NA or inf) to integer\"\u001b[0m\u001b[0;34m\u001b[0m\u001b[0;34m\u001b[0m\u001b[0m\n\u001b[0m\u001b[1;32m   1215\u001b[0m         )\n\u001b[1;32m   1216\u001b[0m     \u001b[0;32mreturn\u001b[0m \u001b[0mvalues\u001b[0m\u001b[0;34m.\u001b[0m\u001b[0mastype\u001b[0m\u001b[0;34m(\u001b[0m\u001b[0mdtype\u001b[0m\u001b[0;34m,\u001b[0m \u001b[0mcopy\u001b[0m\u001b[0;34m=\u001b[0m\u001b[0mcopy\u001b[0m\u001b[0;34m)\u001b[0m\u001b[0;34m\u001b[0m\u001b[0;34m\u001b[0m\u001b[0m\n",
            "\u001b[0;31mIntCastingNaNError\u001b[0m: Cannot convert non-finite values (NA or inf) to integer"
          ]
        }
      ]
    },
    {
      "cell_type": "markdown",
      "source": [
        "VER PORQUE EN LA LÍNEA DE ABAJO AL CONSULTAR LOS DATOS QUEDAN COMO FLOAT (EDAD,  HORA, RADICADO.. en el código se pasan a integer y al consultar el tipo quedan en float!) \n",
        "REVISAR"
      ],
      "metadata": {
        "id": "zCpJXyN7_TnH"
      }
    },
    {
      "cell_type": "code",
      "source": [
        "dfinal.dtypes"
      ],
      "metadata": {
        "colab": {
          "base_uri": "https://localhost:8080/"
        },
        "id": "1_A9F9Eb-HR_",
        "outputId": "13350323-72e0-435c-a050-a9c583ad8fcb"
      },
      "execution_count": 83,
      "outputs": [
        {
          "output_type": "execute_result",
          "data": {
            "text/plain": [
              "Gravedad_victima               object\n",
              "Fecha_incidente        datetime64[ns]\n",
              "Hora_incidente                 object\n",
              "Clase_incidente                object\n",
              "Direccion_incidente            object\n",
              "Sexo                           object\n",
              "Edad                            int64\n",
              "Condicion                      object\n",
              "Mes                            object\n",
              "Dia                            object\n",
              "Num_dia                       float64\n",
              "Hora                          float64\n",
              "Grupo_edad                     object\n",
              "Anio                            int64\n",
              "Radicado                      float64\n",
              "Latitud                       float64\n",
              "Longitud                      float64\n",
              "Comuna                         object\n",
              "Barrio                         object\n",
              "dtype: object"
            ]
          },
          "metadata": {},
          "execution_count": 83
        }
      ]
    },
    {
      "cell_type": "markdown",
      "source": [
        "Aálisis y Visualización"
      ],
      "metadata": {
        "id": "4TNampQ8C9V5"
      }
    },
    {
      "cell_type": "code",
      "source": [
        "# Graficamente podemos verlo de la siguiente manera\n",
        "fig = plt.figure(figsize=(25,5))\n",
        "sns.countplot(data=dfinal, x='Clase_incidente', color='BLUE')\n",
        "plt.xticks(rotation=45)"
      ],
      "metadata": {
        "colab": {
          "base_uri": "https://localhost:8080/",
          "height": 369
        },
        "id": "0--TQOiICl1Y",
        "outputId": "451cdaee-4643-4ab6-c5b4-2dc8507bfe0e"
      },
      "execution_count": 84,
      "outputs": [
        {
          "output_type": "execute_result",
          "data": {
            "text/plain": [
              "(array([0, 1, 2, 3, 4, 5]), <a list of 6 Text major ticklabel objects>)"
            ]
          },
          "metadata": {},
          "execution_count": 84
        },
        {
          "output_type": "display_data",
          "data": {
            "text/plain": [
              "<Figure size 1800x360 with 1 Axes>"
            ],
            "image/png": "[encoded data removed]"
          },
          "metadata": {
            "needs_background": "light"
          }
        }
      ]
    },
    {
      "cell_type": "markdown",
      "source": [
        "Analicemos la frecuencia de incidentes viales por dia, mes y por año."
      ],
      "metadata": {
        "id": "4ONj6bttDFRM"
      }
    },
    {
      "cell_type": "code",
      "source": [
        "# Como referencia saco los templates de plotly.io que puedo usar considerando que llamamos a la libreria como pio\n",
        "pio.templates\n"
      ],
      "metadata": {
        "colab": {
          "base_uri": "https://localhost:8080/"
        },
        "id": "KJ2TBKPCCl38",
        "outputId": "9b3259e2-7254-41bd-9991-80df30c1a404"
      },
      "execution_count": 85,
      "outputs": [
        {
          "output_type": "execute_result",
          "data": {
            "text/plain": [
              "Templates configuration\n",
              "-----------------------\n",
              "    Default template: 'plotly'\n",
              "    Available templates:\n",
              "        ['ggplot2', 'seaborn', 'simple_white', 'plotly',\n",
              "         'plotly_white', 'plotly_dark', 'presentation', 'xgridoff',\n",
              "         'ygridoff', 'gridon', 'none']"
            ]
          },
          "metadata": {},
          "execution_count": 85
        }
      ]
    },
    {
      "cell_type": "code",
      "source": [
        "#FRECUENCIA POR DIA\n",
        "agr_df_dia = dfinal.groupby(['Dia'])['Clase_incidente'].count(). reset_index()\n",
        "agr_df_dia = agr_df_dia.rename(columns={'Clase_incidente':'Cantidad_Incidentes'})\n",
        "agr_df_dia"
      ],
      "metadata": {
        "colab": {
          "base_uri": "https://localhost:8080/",
          "height": 269
        },
        "id": "L8tdMn8UCl6j",
        "outputId": "4e98309e-691e-453f-9be4-991a3b0885b9"
      },
      "execution_count": 86,
      "outputs": [
        {
          "output_type": "execute_result",
          "data": {
            "text/plain": [
              "    Dia  Cantidad_Incidentes\n",
              "0   Dom                28570\n",
              "1   Jue                34568\n",
              "2   Lun                34078\n",
              "3   Mar                34750\n",
              "4  MiÃ©                34914\n",
              "5  SÃ¡b                34107\n",
              "6   Vie                34856"
            ],
            "text/html": [
              "\n",
              "  <div id=\"df-9f65c9db-5f2f-40f5-9092-012032c46b22\">\n",
              "    <div class=\"colab-df-container\">\n",
              "      <div>\n",
              "<style scoped>\n",
              "    .dataframe tbody tr th:only-of-type {\n",
              "        vertical-align: middle;\n",
              "    }\n",
              "\n",
              "    .dataframe tbody tr th {\n",
              "        vertical-align: top;\n",
              "    }\n",
              "\n",
              "    .dataframe thead th {\n",
              "        text-align: right;\n",
              "    }\n",
              "</style>\n",
              "<table border=\"1\" class=\"dataframe\">\n",
              "  <thead>\n",
              "    <tr style=\"text-align: right;\">\n",
              "      <th></th>\n",
              "      <th>Dia</th>\n",
              "      <th>Cantidad_Incidentes</th>\n",
              "    </tr>\n",
              "  </thead>\n",
              "  <tbody>\n",
              "    <tr>\n",
              "      <th>0</th>\n",
              "      <td>Dom</td>\n",
              "      <td>28570</td>\n",
              "    </tr>\n",
              "    <tr>\n",
              "      <th>1</th>\n",
              "      <td>Jue</td>\n",
              "      <td>34568</td>\n",
              "    </tr>\n",
              "    <tr>\n",
              "      <th>2</th>\n",
              "      <td>Lun</td>\n",
              "      <td>34078</td>\n",
              "    </tr>\n",
              "    <tr>\n",
              "      <th>3</th>\n",
              "      <td>Mar</td>\n",
              "      <td>34750</td>\n",
              "    </tr>\n",
              "    <tr>\n",
              "      <th>4</th>\n",
              "      <td>MiÃ©</td>\n",
              "      <td>34914</td>\n",
              "    </tr>\n",
              "    <tr>\n",
              "      <th>5</th>\n",
              "      <td>SÃ¡b</td>\n",
              "      <td>34107</td>\n",
              "    </tr>\n",
              "    <tr>\n",
              "      <th>6</th>\n",
              "      <td>Vie</td>\n",
              "      <td>34856</td>\n",
              "    </tr>\n",
              "  </tbody>\n",
              "</table>\n",
              "</div>\n",
              "      <button class=\"colab-df-convert\" onclick=\"convertToInteractive('df-9f65c9db-5f2f-40f5-9092-012032c46b22')\"\n",
              "              title=\"Convert this dataframe to an interactive table.\"\n",
              "              style=\"display:none;\">\n",
              "        \n",
              "  <svg xmlns=\"http://www.w3.org/2000/svg\" height=\"24px\"viewBox=\"0 0 24 24\"\n",
              "       width=\"24px\">\n",
              "    <path d=\"M0 0h24v24H0V0z\" fill=\"none\"/>\n",
              "    <path d=\"M18.56 5.44l.94 2.06.94-2.06 2.06-.94-2.06-.94-.94-2.06-.94 2.06-2.06.94zm-11 1L8.5 8.5l.94-2.06 2.06-.94-2.06-.94L8.5 2.5l-.94 2.06-2.06.94zm10 10l.94 2.06.94-2.06 2.06-.94-2.06-.94-.94-2.06-.94 2.06-2.06.94z\"/><path d=\"M17.41 7.96l-1.37-1.37c-.4-.4-.92-.59-1.43-.59-.52 0-1.04.2-1.43.59L10.3 9.45l-7.72 7.72c-.78.78-.78 2.05 0 2.83L4 21.41c.39.39.9.59 1.41.59.51 0 1.02-.2 1.41-.59l7.78-7.78 2.81-2.81c.8-.78.8-2.07 0-2.86zM5.41 20L4 18.59l7.72-7.72 1.47 1.35L5.41 20z\"/>\n",
              "  </svg>\n",
              "      </button>\n",
              "      \n",
              "  <style>\n",
              "    .colab-df-container {\n",
              "      display:flex;\n",
              "      flex-wrap:wrap;\n",
              "      gap: 12px;\n",
              "    }\n",
              "\n",
              "    .colab-df-convert {\n",
              "      background-color: #E8F0FE;\n",
              "      border: none;\n",
              "      border-radius: 50%;\n",
              "      cursor: pointer;\n",
              "      display: none;\n",
              "      fill: #1967D2;\n",
              "      height: 32px;\n",
              "      padding: 0 0 0 0;\n",
              "      width: 32px;\n",
              "    }\n",
              "\n",
              "    .colab-df-convert:hover {\n",
              "      background-color: #E2EBFA;\n",
              "      box-shadow: 0px 1px 2px rgba(60, 64, 67, 0.3), 0px 1px 3px 1px rgba(60, 64, 67, 0.15);\n",
              "      fill: #174EA6;\n",
              "    }\n",
              "\n",
              "    [theme=dark] .colab-df-convert {\n",
              "      background-color: #3B4455;\n",
              "      fill: #D2E3FC;\n",
              "    }\n",
              "\n",
              "    [theme=dark] .colab-df-convert:hover {\n",
              "      background-color: #434B5C;\n",
              "      box-shadow: 0px 1px 3px 1px rgba(0, 0, 0, 0.15);\n",
              "      filter: drop-shadow(0px 1px 2px rgba(0, 0, 0, 0.3));\n",
              "      fill: #FFFFFF;\n",
              "    }\n",
              "  </style>\n",
              "\n",
              "      <script>\n",
              "        const buttonEl =\n",
              "          document.querySelector('#df-9f65c9db-5f2f-40f5-9092-012032c46b22 button.colab-df-convert');\n",
              "        buttonEl.style.display =\n",
              "          google.colab.kernel.accessAllowed ? 'block' : 'none';\n",
              "\n",
              "        async function convertToInteractive(key) {\n",
              "          const element = document.querySelector('#df-9f65c9db-5f2f-40f5-9092-012032c46b22');\n",
              "          const dataTable =\n",
              "            await google.colab.kernel.invokeFunction('convertToInteractive',\n",
              "                                                     [key], {});\n",
              "          if (!dataTable) return;\n",
              "\n",
              "          const docLinkHtml = 'Like what you see? Visit the ' +\n",
              "            '<a target=\"_blank\" href=https://colab.research.google.com/notebooks/data_table.ipynb>data table notebook</a>'\n",
              "            + ' to learn more about interactive tables.';\n",
              "          element.innerHTML = '';\n",
              "          dataTable['output_type'] = 'display_data';\n",
              "          await google.colab.output.renderOutput(dataTable, element);\n",
              "          const docLink = document.createElement('div');\n",
              "          docLink.innerHTML = docLinkHtml;\n",
              "          element.appendChild(docLink);\n",
              "        }\n",
              "      </script>\n",
              "    </div>\n",
              "  </div>\n",
              "  "
            ]
          },
          "metadata": {},
          "execution_count": 86
        }
      ]
    },
    {
      "cell_type": "code",
      "source": [
        "fig = px.bar(agr_df_dia, x='Dia', y='Cantidad_Incidentes',\n",
        "             color='Cantidad_Incidentes',\n",
        "             template='ggplot2',\n",
        "             labels={'Cantidad_Incidentes':'Cantidad de Incidentes', 'Dia':'Dia de la Semana'},\n",
        "             title='Cantidad de Accidentes registrado por Dia de la Semana',\n",
        "             height=400)\n",
        "fig.show()"
      ],
      "metadata": {
        "colab": {
          "base_uri": "https://localhost:8080/",
          "height": 417
        },
        "id": "KoXCwGIDCl9q",
        "outputId": "d3382045-bd44-4414-9fee-482b29672a63"
      },
      "execution_count": 87,
      "outputs": [
        {
          "output_type": "display_data",
          "data": {
            "text/html": [
              "<html>\n",
              "<head><meta charset=\"utf-8\" /></head>\n",
              "<body>\n",
              "    <div>            <script src=\"https://cdnjs.cloudflare.com/ajax/libs/mathjax/2.7.5/MathJax.js?config=TeX-AMS-MML_SVG\"></script><script type=\"text/javascript\">if (window.MathJax) {MathJax.Hub.Config({SVG: {font: \"STIX-Web\"}});}</script>                <script type=\"text/javascript\">window.PlotlyConfig = {MathJaxConfig: 'local'};</script>\n",
              "        <script src=\"https://cdn.plot.ly/plotly-2.8.3.min.js\"></script>                <div id=\"d479825d-1fe9-49fe-be58-ffa97cdb7eeb\" class=\"plotly-graph-div\" style=\"height:400px; width:100%;\"></div>            <script type=\"text/javascript\">                                    window.PLOTLYENV=window.PLOTLYENV || {};                                    if (document.getElementById(\"d479825d-1fe9-49fe-be58-ffa97cdb7eeb\")) {                    Plotly.newPlot(                        \"d479825d-1fe9-49fe-be58-ffa97cdb7eeb\",                        [{\"alignmentgroup\":\"True\",\"hovertemplate\":\"Dia de la Semana=%{x}<br>Cantidad de Incidentes=%{marker.color}<extra></extra>\",\"legendgroup\":\"\",\"marker\":{\"color\":[28570,34568,34078,34750,34914,34107,34856],\"coloraxis\":\"coloraxis\",\"pattern\":{\"shape\":\"\"}},\"name\":\"\",\"offsetgroup\":\"\",\"orientation\":\"v\",\"showlegend\":false,\"textposition\":\"auto\",\"x\":[\"Dom\",\"Jue\",\"Lun\",\"Mar\",\"Mi\\u00c3\\u00a9\",\"S\\u00c3\\u00a1b\",\"Vie\"],\"xaxis\":\"x\",\"y\":[28570,34568,34078,34750,34914,34107,34856],\"yaxis\":\"y\",\"type\":\"bar\"}],                        {\"template\":{\"data\":{\"barpolar\":[{\"marker\":{\"line\":{\"color\":\"rgb(237,237,237)\",\"width\":0.5},\"pattern\":{\"fillmode\":\"overlay\",\"size\":10,\"solidity\":0.2}},\"type\":\"barpolar\"}],\"bar\":[{\"error_x\":{\"color\":\"rgb(51,51,51)\"},\"error_y\":{\"color\":\"rgb(51,51,51)\"},\"marker\":{\"line\":{\"color\":\"rgb(237,237,237)\",\"width\":0.5},\"pattern\":{\"fillmode\":\"overlay\",\"size\":10,\"solidity\":0.2}},\"type\":\"bar\"}],\"carpet\":[{\"aaxis\":{\"endlinecolor\":\"rgb(51,51,51)\",\"gridcolor\":\"white\",\"linecolor\":\"white\",\"minorgridcolor\":\"white\",\"startlinecolor\":\"rgb(51,51,51)\"},\"baxis\":{\"endlinecolor\":\"rgb(51,51,51)\",\"gridcolor\":\"white\",\"linecolor\":\"white\",\"minorgridcolor\":\"white\",\"startlinecolor\":\"rgb(51,51,51)\"},\"type\":\"carpet\"}],\"choropleth\":[{\"colorbar\":{\"outlinewidth\":0,\"tickcolor\":\"rgb(237,237,237)\",\"ticklen\":6,\"ticks\":\"inside\"},\"type\":\"choropleth\"}],\"contourcarpet\":[{\"colorbar\":{\"outlinewidth\":0,\"tickcolor\":\"rgb(237,237,237)\",\"ticklen\":6,\"ticks\":\"inside\"},\"type\":\"contourcarpet\"}],\"contour\":[{\"colorbar\":{\"outlinewidth\":0,\"tickcolor\":\"rgb(237,237,237)\",\"ticklen\":6,\"ticks\":\"inside\"},\"colorscale\":[[0,\"rgb(20,44,66)\"],[1,\"rgb(90,179,244)\"]],\"type\":\"contour\"}],\"heatmapgl\":[{\"colorbar\":{\"outlinewidth\":0,\"tickcolor\":\"rgb(237,237,237)\",\"ticklen\":6,\"ticks\":\"inside\"},\"colorscale\":[[0,\"rgb(20,44,66)\"],[1,\"rgb(90,179,244)\"]],\"type\":\"heatmapgl\"}],\"heatmap\":[{\"colorbar\":{\"outlinewidth\":0,\"tickcolor\":\"rgb(237,237,237)\",\"ticklen\":6,\"ticks\":\"inside\"},\"colorscale\":[[0,\"rgb(20,44,66)\"],[1,\"rgb(90,179,244)\"]],\"type\":\"heatmap\"}],\"histogram2dcontour\":[{\"colorbar\":{\"outlinewidth\":0,\"tickcolor\":\"rgb(237,237,237)\",\"ticklen\":6,\"ticks\":\"inside\"},\"colorscale\":[[0,\"rgb(20,44,66)\"],[1,\"rgb(90,179,244)\"]],\"type\":\"histogram2dcontour\"}],\"histogram2d\":[{\"colorbar\":{\"outlinewidth\":0,\"tickcolor\":\"rgb(237,237,237)\",\"ticklen\":6,\"ticks\":\"inside\"},\"colorscale\":[[0,\"rgb(20,44,66)\"],[1,\"rgb(90,179,244)\"]],\"type\":\"histogram2d\"}],\"histogram\":[{\"marker\":{\"pattern\":{\"fillmode\":\"overlay\",\"size\":10,\"solidity\":0.2}},\"type\":\"histogram\"}],\"mesh3d\":[{\"colorbar\":{\"outlinewidth\":0,\"tickcolor\":\"rgb(237,237,237)\",\"ticklen\":6,\"ticks\":\"inside\"},\"type\":\"mesh3d\"}],\"parcoords\":[{\"line\":{\"colorbar\":{\"outlinewidth\":0,\"tickcolor\":\"rgb(237,237,237)\",\"ticklen\":6,\"ticks\":\"inside\"}},\"type\":\"parcoords\"}],\"pie\":[{\"automargin\":true,\"type\":\"pie\"}],\"scatter3d\":[{\"line\":{\"colorbar\":{\"outlinewidth\":0,\"tickcolor\":\"rgb(237,237,237)\",\"ticklen\":6,\"ticks\":\"inside\"}},\"marker\":{\"colorbar\":{\"outlinewidth\":0,\"tickcolor\":\"rgb(237,237,237)\",\"ticklen\":6,\"ticks\":\"inside\"}},\"type\":\"scatter3d\"}],\"scattercarpet\":[{\"marker\":{\"colorbar\":{\"outlinewidth\":0,\"tickcolor\":\"rgb(237,237,237)\",\"ticklen\":6,\"ticks\":\"inside\"}},\"type\":\"scattercarpet\"}],\"scattergeo\":[{\"marker\":{\"colorbar\":{\"outlinewidth\":0,\"tickcolor\":\"rgb(237,237,237)\",\"ticklen\":6,\"ticks\":\"inside\"}},\"type\":\"scattergeo\"}],\"scattergl\":[{\"marker\":{\"colorbar\":{\"outlinewidth\":0,\"tickcolor\":\"rgb(237,237,237)\",\"ticklen\":6,\"ticks\":\"inside\"}},\"type\":\"scattergl\"}],\"scattermapbox\":[{\"marker\":{\"colorbar\":{\"outlinewidth\":0,\"tickcolor\":\"rgb(237,237,237)\",\"ticklen\":6,\"ticks\":\"inside\"}},\"type\":\"scattermapbox\"}],\"scatterpolargl\":[{\"marker\":{\"colorbar\":{\"outlinewidth\":0,\"tickcolor\":\"rgb(237,237,237)\",\"ticklen\":6,\"ticks\":\"inside\"}},\"type\":\"scatterpolargl\"}],\"scatterpolar\":[{\"marker\":{\"colorbar\":{\"outlinewidth\":0,\"tickcolor\":\"rgb(237,237,237)\",\"ticklen\":6,\"ticks\":\"inside\"}},\"type\":\"scatterpolar\"}],\"scatter\":[{\"marker\":{\"colorbar\":{\"outlinewidth\":0,\"tickcolor\":\"rgb(237,237,237)\",\"ticklen\":6,\"ticks\":\"inside\"}},\"type\":\"scatter\"}],\"scatterternary\":[{\"marker\":{\"colorbar\":{\"outlinewidth\":0,\"tickcolor\":\"rgb(237,237,237)\",\"ticklen\":6,\"ticks\":\"inside\"}},\"type\":\"scatterternary\"}],\"surface\":[{\"colorbar\":{\"outlinewidth\":0,\"tickcolor\":\"rgb(237,237,237)\",\"ticklen\":6,\"ticks\":\"inside\"},\"colorscale\":[[0,\"rgb(20,44,66)\"],[1,\"rgb(90,179,244)\"]],\"type\":\"surface\"}],\"table\":[{\"cells\":{\"fill\":{\"color\":\"rgb(237,237,237)\"},\"line\":{\"color\":\"white\"}},\"header\":{\"fill\":{\"color\":\"rgb(217,217,217)\"},\"line\":{\"color\":\"white\"}},\"type\":\"table\"}]},\"layout\":{\"annotationdefaults\":{\"arrowhead\":0,\"arrowwidth\":1},\"autotypenumbers\":\"strict\",\"coloraxis\":{\"colorbar\":{\"outlinewidth\":0,\"tickcolor\":\"rgb(237,237,237)\",\"ticklen\":6,\"ticks\":\"inside\"}},\"colorscale\":{\"sequential\":[[0,\"rgb(20,44,66)\"],[1,\"rgb(90,179,244)\"]],\"sequentialminus\":[[0,\"rgb(20,44,66)\"],[1,\"rgb(90,179,244)\"]]},\"colorway\":[\"#F8766D\",\"#A3A500\",\"#00BF7D\",\"#00B0F6\",\"#E76BF3\"],\"font\":{\"color\":\"rgb(51,51,51)\"},\"geo\":{\"bgcolor\":\"white\",\"lakecolor\":\"white\",\"landcolor\":\"rgb(237,237,237)\",\"showlakes\":true,\"showland\":true,\"subunitcolor\":\"white\"},\"hoverlabel\":{\"align\":\"left\"},\"hovermode\":\"closest\",\"paper_bgcolor\":\"white\",\"plot_bgcolor\":\"rgb(237,237,237)\",\"polar\":{\"angularaxis\":{\"gridcolor\":\"white\",\"linecolor\":\"white\",\"showgrid\":true,\"tickcolor\":\"rgb(51,51,51)\",\"ticks\":\"outside\"},\"bgcolor\":\"rgb(237,237,237)\",\"radialaxis\":{\"gridcolor\":\"white\",\"linecolor\":\"white\",\"showgrid\":true,\"tickcolor\":\"rgb(51,51,51)\",\"ticks\":\"outside\"}},\"scene\":{\"xaxis\":{\"backgroundcolor\":\"rgb(237,237,237)\",\"gridcolor\":\"white\",\"gridwidth\":2,\"linecolor\":\"white\",\"showbackground\":true,\"showgrid\":true,\"tickcolor\":\"rgb(51,51,51)\",\"ticks\":\"outside\",\"zerolinecolor\":\"white\"},\"yaxis\":{\"backgroundcolor\":\"rgb(237,237,237)\",\"gridcolor\":\"white\",\"gridwidth\":2,\"linecolor\":\"white\",\"showbackground\":true,\"showgrid\":true,\"tickcolor\":\"rgb(51,51,51)\",\"ticks\":\"outside\",\"zerolinecolor\":\"white\"},\"zaxis\":{\"backgroundcolor\":\"rgb(237,237,237)\",\"gridcolor\":\"white\",\"gridwidth\":2,\"linecolor\":\"white\",\"showbackground\":true,\"showgrid\":true,\"tickcolor\":\"rgb(51,51,51)\",\"ticks\":\"outside\",\"zerolinecolor\":\"white\"}},\"shapedefaults\":{\"fillcolor\":\"black\",\"line\":{\"width\":0},\"opacity\":0.3},\"ternary\":{\"aaxis\":{\"gridcolor\":\"white\",\"linecolor\":\"white\",\"showgrid\":true,\"tickcolor\":\"rgb(51,51,51)\",\"ticks\":\"outside\"},\"baxis\":{\"gridcolor\":\"white\",\"linecolor\":\"white\",\"showgrid\":true,\"tickcolor\":\"rgb(51,51,51)\",\"ticks\":\"outside\"},\"bgcolor\":\"rgb(237,237,237)\",\"caxis\":{\"gridcolor\":\"white\",\"linecolor\":\"white\",\"showgrid\":true,\"tickcolor\":\"rgb(51,51,51)\",\"ticks\":\"outside\"}},\"xaxis\":{\"automargin\":true,\"gridcolor\":\"white\",\"linecolor\":\"white\",\"showgrid\":true,\"tickcolor\":\"rgb(51,51,51)\",\"ticks\":\"outside\",\"title\":{\"standoff\":15},\"zerolinecolor\":\"white\"},\"yaxis\":{\"automargin\":true,\"gridcolor\":\"white\",\"linecolor\":\"white\",\"showgrid\":true,\"tickcolor\":\"rgb(51,51,51)\",\"ticks\":\"outside\",\"title\":{\"standoff\":15},\"zerolinecolor\":\"white\"}}},\"xaxis\":{\"anchor\":\"y\",\"domain\":[0.0,1.0],\"title\":{\"text\":\"Dia de la Semana\"}},\"yaxis\":{\"anchor\":\"x\",\"domain\":[0.0,1.0],\"title\":{\"text\":\"Cantidad de Incidentes\"}},\"coloraxis\":{\"colorbar\":{\"title\":{\"text\":\"Cantidad de Incidentes\"}},\"colorscale\":[[0.0,\"rgb(20,44,66)\"],[1.0,\"rgb(90,179,244)\"]]},\"legend\":{\"tracegroupgap\":0},\"title\":{\"text\":\"Cantidad de Accidentes registrado por Dia de la Semana\"},\"barmode\":\"relative\",\"height\":400},                        {\"responsive\": true}                    ).then(function(){\n",
              "                            \n",
              "var gd = document.getElementById('d479825d-1fe9-49fe-be58-ffa97cdb7eeb');\n",
              "var x = new MutationObserver(function (mutations, observer) {{\n",
              "        var display = window.getComputedStyle(gd).display;\n",
              "        if (!display || display === 'none') {{\n",
              "            console.log([gd, 'removed!']);\n",
              "            Plotly.purge(gd);\n",
              "            observer.disconnect();\n",
              "        }}\n",
              "}});\n",
              "\n",
              "// Listen for the removal of the full notebook cells\n",
              "var notebookContainer = gd.closest('#notebook-container');\n",
              "if (notebookContainer) {{\n",
              "    x.observe(notebookContainer, {childList: true});\n",
              "}}\n",
              "\n",
              "// Listen for the clearing of the current output cell\n",
              "var outputEl = gd.closest('.output');\n",
              "if (outputEl) {{\n",
              "    x.observe(outputEl, {childList: true});\n",
              "}}\n",
              "\n",
              "                        })                };                            </script>        </div>\n",
              "</body>\n",
              "</html>"
            ]
          },
          "metadata": {}
        }
      ]
    },
    {
      "cell_type": "code",
      "source": [
        "# Analisis Detallado\n",
        "# genera una tabla de doble entrada \n",
        "df_mask1 = pd.crosstab(index = dfinal['Clase_incidente'],\n",
        "            columns=dfinal['Dia'], margins=True)\n",
        "df_mask1"
      ],
      "metadata": {
        "colab": {
          "base_uri": "https://localhost:8080/",
          "height": 300
        },
        "id": "ctbT7pHDDTn5",
        "outputId": "b8a1f3fd-83ca-4c8f-e286-83707bcfd0e4"
      },
      "execution_count": 88,
      "outputs": [
        {
          "output_type": "execute_result",
          "data": {
            "text/plain": [
              "Dia                Dom    Jue    Lun    Mar   MiÃ©   SÃ¡b    Vie     All\n",
              "Clase_incidente                                                         \n",
              "Atropello         5109   5625   5259   5622   5686   6311   5843   39455\n",
              "Caida Ocupante    4287   5274   5429   5228   5008   4726   5146   35098\n",
              "Choque           12308  14845  14820  15186  15523  15265  15436  103383\n",
              "Incendio             3      5      8      2      2      1      3      24\n",
              "Otro              4913   6347   6093   6195   6171   5414   6029   41162\n",
              "Volcamiento       1950   2472   2469   2517   2524   2390   2399   16721\n",
              "All              28570  34568  34078  34750  34914  34107  34856  235843"
            ],
            "text/html": [
              "\n",
              "  <div id=\"df-9176aa6c-2c45-4dcb-9bb6-0797837a8018\">\n",
              "    <div class=\"colab-df-container\">\n",
              "      <div>\n",
              "<style scoped>\n",
              "    .dataframe tbody tr th:only-of-type {\n",
              "        vertical-align: middle;\n",
              "    }\n",
              "\n",
              "    .dataframe tbody tr th {\n",
              "        vertical-align: top;\n",
              "    }\n",
              "\n",
              "    .dataframe thead th {\n",
              "        text-align: right;\n",
              "    }\n",
              "</style>\n",
              "<table border=\"1\" class=\"dataframe\">\n",
              "  <thead>\n",
              "    <tr style=\"text-align: right;\">\n",
              "      <th>Dia</th>\n",
              "      <th>Dom</th>\n",
              "      <th>Jue</th>\n",
              "      <th>Lun</th>\n",
              "      <th>Mar</th>\n",
              "      <th>MiÃ©</th>\n",
              "      <th>SÃ¡b</th>\n",
              "      <th>Vie</th>\n",
              "      <th>All</th>\n",
              "    </tr>\n",
              "    <tr>\n",
              "      <th>Clase_incidente</th>\n",
              "      <th></th>\n",
              "      <th></th>\n",
              "      <th></th>\n",
              "      <th></th>\n",
              "      <th></th>\n",
              "      <th></th>\n",
              "      <th></th>\n",
              "      <th></th>\n",
              "    </tr>\n",
              "  </thead>\n",
              "  <tbody>\n",
              "    <tr>\n",
              "      <th>Atropello</th>\n",
              "      <td>5109</td>\n",
              "      <td>5625</td>\n",
              "      <td>5259</td>\n",
              "      <td>5622</td>\n",
              "      <td>5686</td>\n",
              "      <td>6311</td>\n",
              "      <td>5843</td>\n",
              "      <td>39455</td>\n",
              "    </tr>\n",
              "    <tr>\n",
              "      <th>Caida Ocupante</th>\n",
              "      <td>4287</td>\n",
              "      <td>5274</td>\n",
              "      <td>5429</td>\n",
              "      <td>5228</td>\n",
              "      <td>5008</td>\n",
              "      <td>4726</td>\n",
              "      <td>5146</td>\n",
              "      <td>35098</td>\n",
              "    </tr>\n",
              "    <tr>\n",
              "      <th>Choque</th>\n",
              "      <td>12308</td>\n",
              "      <td>14845</td>\n",
              "      <td>14820</td>\n",
              "      <td>15186</td>\n",
              "      <td>15523</td>\n",
              "      <td>15265</td>\n",
              "      <td>15436</td>\n",
              "      <td>103383</td>\n",
              "    </tr>\n",
              "    <tr>\n",
              "      <th>Incendio</th>\n",
              "      <td>3</td>\n",
              "      <td>5</td>\n",
              "      <td>8</td>\n",
              "      <td>2</td>\n",
              "      <td>2</td>\n",
              "      <td>1</td>\n",
              "      <td>3</td>\n",
              "      <td>24</td>\n",
              "    </tr>\n",
              "    <tr>\n",
              "      <th>Otro</th>\n",
              "      <td>4913</td>\n",
              "      <td>6347</td>\n",
              "      <td>6093</td>\n",
              "      <td>6195</td>\n",
              "      <td>6171</td>\n",
              "      <td>5414</td>\n",
              "      <td>6029</td>\n",
              "      <td>41162</td>\n",
              "    </tr>\n",
              "    <tr>\n",
              "      <th>Volcamiento</th>\n",
              "      <td>1950</td>\n",
              "      <td>2472</td>\n",
              "      <td>2469</td>\n",
              "      <td>2517</td>\n",
              "      <td>2524</td>\n",
              "      <td>2390</td>\n",
              "      <td>2399</td>\n",
              "      <td>16721</td>\n",
              "    </tr>\n",
              "    <tr>\n",
              "      <th>All</th>\n",
              "      <td>28570</td>\n",
              "      <td>34568</td>\n",
              "      <td>34078</td>\n",
              "      <td>34750</td>\n",
              "      <td>34914</td>\n",
              "      <td>34107</td>\n",
              "      <td>34856</td>\n",
              "      <td>235843</td>\n",
              "    </tr>\n",
              "  </tbody>\n",
              "</table>\n",
              "</div>\n",
              "      <button class=\"colab-df-convert\" onclick=\"convertToInteractive('df-9176aa6c-2c45-4dcb-9bb6-0797837a8018')\"\n",
              "              title=\"Convert this dataframe to an interactive table.\"\n",
              "              style=\"display:none;\">\n",
              "        \n",
              "  <svg xmlns=\"http://www.w3.org/2000/svg\" height=\"24px\"viewBox=\"0 0 24 24\"\n",
              "       width=\"24px\">\n",
              "    <path d=\"M0 0h24v24H0V0z\" fill=\"none\"/>\n",
              "    <path d=\"M18.56 5.44l.94 2.06.94-2.06 2.06-.94-2.06-.94-.94-2.06-.94 2.06-2.06.94zm-11 1L8.5 8.5l.94-2.06 2.06-.94-2.06-.94L8.5 2.5l-.94 2.06-2.06.94zm10 10l.94 2.06.94-2.06 2.06-.94-2.06-.94-.94-2.06-.94 2.06-2.06.94z\"/><path d=\"M17.41 7.96l-1.37-1.37c-.4-.4-.92-.59-1.43-.59-.52 0-1.04.2-1.43.59L10.3 9.45l-7.72 7.72c-.78.78-.78 2.05 0 2.83L4 21.41c.39.39.9.59 1.41.59.51 0 1.02-.2 1.41-.59l7.78-7.78 2.81-2.81c.8-.78.8-2.07 0-2.86zM5.41 20L4 18.59l7.72-7.72 1.47 1.35L5.41 20z\"/>\n",
              "  </svg>\n",
              "      </button>\n",
              "      \n",
              "  <style>\n",
              "    .colab-df-container {\n",
              "      display:flex;\n",
              "      flex-wrap:wrap;\n",
              "      gap: 12px;\n",
              "    }\n",
              "\n",
              "    .colab-df-convert {\n",
              "      background-color: #E8F0FE;\n",
              "      border: none;\n",
              "      border-radius: 50%;\n",
              "      cursor: pointer;\n",
              "      display: none;\n",
              "      fill: #1967D2;\n",
              "      height: 32px;\n",
              "      padding: 0 0 0 0;\n",
              "      width: 32px;\n",
              "    }\n",
              "\n",
              "    .colab-df-convert:hover {\n",
              "      background-color: #E2EBFA;\n",
              "      box-shadow: 0px 1px 2px rgba(60, 64, 67, 0.3), 0px 1px 3px 1px rgba(60, 64, 67, 0.15);\n",
              "      fill: #174EA6;\n",
              "    }\n",
              "\n",
              "    [theme=dark] .colab-df-convert {\n",
              "      background-color: #3B4455;\n",
              "      fill: #D2E3FC;\n",
              "    }\n",
              "\n",
              "    [theme=dark] .colab-df-convert:hover {\n",
              "      background-color: #434B5C;\n",
              "      box-shadow: 0px 1px 3px 1px rgba(0, 0, 0, 0.15);\n",
              "      filter: drop-shadow(0px 1px 2px rgba(0, 0, 0, 0.3));\n",
              "      fill: #FFFFFF;\n",
              "    }\n",
              "  </style>\n",
              "\n",
              "      <script>\n",
              "        const buttonEl =\n",
              "          document.querySelector('#df-9176aa6c-2c45-4dcb-9bb6-0797837a8018 button.colab-df-convert');\n",
              "        buttonEl.style.display =\n",
              "          google.colab.kernel.accessAllowed ? 'block' : 'none';\n",
              "\n",
              "        async function convertToInteractive(key) {\n",
              "          const element = document.querySelector('#df-9176aa6c-2c45-4dcb-9bb6-0797837a8018');\n",
              "          const dataTable =\n",
              "            await google.colab.kernel.invokeFunction('convertToInteractive',\n",
              "                                                     [key], {});\n",
              "          if (!dataTable) return;\n",
              "\n",
              "          const docLinkHtml = 'Like what you see? Visit the ' +\n",
              "            '<a target=\"_blank\" href=https://colab.research.google.com/notebooks/data_table.ipynb>data table notebook</a>'\n",
              "            + ' to learn more about interactive tables.';\n",
              "          element.innerHTML = '';\n",
              "          dataTable['output_type'] = 'display_data';\n",
              "          await google.colab.output.renderOutput(dataTable, element);\n",
              "          const docLink = document.createElement('div');\n",
              "          docLink.innerHTML = docLinkHtml;\n",
              "          element.appendChild(docLink);\n",
              "        }\n",
              "      </script>\n",
              "    </div>\n",
              "  </div>\n",
              "  "
            ]
          },
          "metadata": {},
          "execution_count": 88
        }
      ]
    },
    {
      "cell_type": "code",
      "source": [
        "fig = plt.figure(figsize=(20,6))\n",
        "sns.countplot(dfinal.Clase_incidente,  hue=dfinal.Dia)\n",
        "plt.xticks(rotation=30)"
      ],
      "metadata": {
        "colab": {
          "base_uri": "https://localhost:8080/",
          "height": 539
        },
        "id": "BW54x6JODTqr",
        "outputId": "7717d292-1b85-46ae-f175-48f389846854"
      },
      "execution_count": 89,
      "outputs": [
        {
          "output_type": "stream",
          "name": "stderr",
          "text": [
            "/usr/local/lib/python3.7/dist-packages/seaborn/_decorators.py:43: FutureWarning:\n",
            "\n",
            "Pass the following variable as a keyword arg: x. From version 0.12, the only valid positional argument will be `data`, and passing other arguments without an explicit keyword will result in an error or misinterpretation.\n",
            "\n"
          ]
        },
        {
          "output_type": "execute_result",
          "data": {
            "text/plain": [
              "(array([0, 1, 2, 3, 4, 5]), <a list of 6 Text major ticklabel objects>)"
            ]
          },
          "metadata": {},
          "execution_count": 89
        },
        {
          "output_type": "display_data",
          "data": {
            "text/plain": [
              "<Figure size 1440x432 with 1 Axes>"
            ],
            "image/png": "[encoded data removed]"
          },
          "metadata": {
            "needs_background": "light"
          }
        }
      ]
    },
    {
      "cell_type": "markdown",
      "source": [
        "FRECUENCIA POR MES"
      ],
      "metadata": {
        "id": "NCdO5B9lDfhQ"
      }
    },
    {
      "cell_type": "code",
      "source": [
        "# Analisis General\n",
        "agr_df_mes = dfinal.groupby(['Mes'])['Clase_incidente'].count(). reset_index()#.sort_values(by='Clase_incidente', ascending=False)\n",
        "agr_df_mes = agr_df_mes.rename(columns={'Clase_incidente':'Cantidad_Incidentes'})\n",
        "agr_df_mes"
      ],
      "metadata": {
        "colab": {
          "base_uri": "https://localhost:8080/",
          "height": 425
        },
        "id": "gM43f5neDTtR",
        "outputId": "958bd753-4bfe-42e9-a22a-9c41628b556a"
      },
      "execution_count": 90,
      "outputs": [
        {
          "output_type": "execute_result",
          "data": {
            "text/plain": [
              "     Mes  Cantidad_Incidentes\n",
              "0    Abr                17713\n",
              "1    Ago                21893\n",
              "2    Dic                18115\n",
              "3    Ene                18981\n",
              "4    Feb                20513\n",
              "5    Jul                20951\n",
              "6    Jun                19612\n",
              "7    Mar                20560\n",
              "8    May                19649\n",
              "9    Nov                17519\n",
              "10   Oct                18515\n",
              "11  Sept                21822"
            ],
            "text/html": [
              "\n",
              "  <div id=\"df-50a162c4-d6e6-424c-b8c5-4ef225cc0cb1\">\n",
              "    <div class=\"colab-df-container\">\n",
              "      <div>\n",
              "<style scoped>\n",
              "    .dataframe tbody tr th:only-of-type {\n",
              "        vertical-align: middle;\n",
              "    }\n",
              "\n",
              "    .dataframe tbody tr th {\n",
              "        vertical-align: top;\n",
              "    }\n",
              "\n",
              "    .dataframe thead th {\n",
              "        text-align: right;\n",
              "    }\n",
              "</style>\n",
              "<table border=\"1\" class=\"dataframe\">\n",
              "  <thead>\n",
              "    <tr style=\"text-align: right;\">\n",
              "      <th></th>\n",
              "      <th>Mes</th>\n",
              "      <th>Cantidad_Incidentes</th>\n",
              "    </tr>\n",
              "  </thead>\n",
              "  <tbody>\n",
              "    <tr>\n",
              "      <th>0</th>\n",
              "      <td>Abr</td>\n",
              "      <td>17713</td>\n",
              "    </tr>\n",
              "    <tr>\n",
              "      <th>1</th>\n",
              "      <td>Ago</td>\n",
              "      <td>21893</td>\n",
              "    </tr>\n",
              "    <tr>\n",
              "      <th>2</th>\n",
              "      <td>Dic</td>\n",
              "      <td>18115</td>\n",
              "    </tr>\n",
              "    <tr>\n",
              "      <th>3</th>\n",
              "      <td>Ene</td>\n",
              "      <td>18981</td>\n",
              "    </tr>\n",
              "    <tr>\n",
              "      <th>4</th>\n",
              "      <td>Feb</td>\n",
              "      <td>20513</td>\n",
              "    </tr>\n",
              "    <tr>\n",
              "      <th>5</th>\n",
              "      <td>Jul</td>\n",
              "      <td>20951</td>\n",
              "    </tr>\n",
              "    <tr>\n",
              "      <th>6</th>\n",
              "      <td>Jun</td>\n",
              "      <td>19612</td>\n",
              "    </tr>\n",
              "    <tr>\n",
              "      <th>7</th>\n",
              "      <td>Mar</td>\n",
              "      <td>20560</td>\n",
              "    </tr>\n",
              "    <tr>\n",
              "      <th>8</th>\n",
              "      <td>May</td>\n",
              "      <td>19649</td>\n",
              "    </tr>\n",
              "    <tr>\n",
              "      <th>9</th>\n",
              "      <td>Nov</td>\n",
              "      <td>17519</td>\n",
              "    </tr>\n",
              "    <tr>\n",
              "      <th>10</th>\n",
              "      <td>Oct</td>\n",
              "      <td>18515</td>\n",
              "    </tr>\n",
              "    <tr>\n",
              "      <th>11</th>\n",
              "      <td>Sept</td>\n",
              "      <td>21822</td>\n",
              "    </tr>\n",
              "  </tbody>\n",
              "</table>\n",
              "</div>\n",
              "      <button class=\"colab-df-convert\" onclick=\"convertToInteractive('df-50a162c4-d6e6-424c-b8c5-4ef225cc0cb1')\"\n",
              "              title=\"Convert this dataframe to an interactive table.\"\n",
              "              style=\"display:none;\">\n",
              "        \n",
              "  <svg xmlns=\"http://www.w3.org/2000/svg\" height=\"24px\"viewBox=\"0 0 24 24\"\n",
              "       width=\"24px\">\n",
              "    <path d=\"M0 0h24v24H0V0z\" fill=\"none\"/>\n",
              "    <path d=\"M18.56 5.44l.94 2.06.94-2.06 2.06-.94-2.06-.94-.94-2.06-.94 2.06-2.06.94zm-11 1L8.5 8.5l.94-2.06 2.06-.94-2.06-.94L8.5 2.5l-.94 2.06-2.06.94zm10 10l.94 2.06.94-2.06 2.06-.94-2.06-.94-.94-2.06-.94 2.06-2.06.94z\"/><path d=\"M17.41 7.96l-1.37-1.37c-.4-.4-.92-.59-1.43-.59-.52 0-1.04.2-1.43.59L10.3 9.45l-7.72 7.72c-.78.78-.78 2.05 0 2.83L4 21.41c.39.39.9.59 1.41.59.51 0 1.02-.2 1.41-.59l7.78-7.78 2.81-2.81c.8-.78.8-2.07 0-2.86zM5.41 20L4 18.59l7.72-7.72 1.47 1.35L5.41 20z\"/>\n",
              "  </svg>\n",
              "      </button>\n",
              "      \n",
              "  <style>\n",
              "    .colab-df-container {\n",
              "      display:flex;\n",
              "      flex-wrap:wrap;\n",
              "      gap: 12px;\n",
              "    }\n",
              "\n",
              "    .colab-df-convert {\n",
              "      background-color: #E8F0FE;\n",
              "      border: none;\n",
              "      border-radius: 50%;\n",
              "      cursor: pointer;\n",
              "      display: none;\n",
              "      fill: #1967D2;\n",
              "      height: 32px;\n",
              "      padding: 0 0 0 0;\n",
              "      width: 32px;\n",
              "    }\n",
              "\n",
              "    .colab-df-convert:hover {\n",
              "      background-color: #E2EBFA;\n",
              "      box-shadow: 0px 1px 2px rgba(60, 64, 67, 0.3), 0px 1px 3px 1px rgba(60, 64, 67, 0.15);\n",
              "      fill: #174EA6;\n",
              "    }\n",
              "\n",
              "    [theme=dark] .colab-df-convert {\n",
              "      background-color: #3B4455;\n",
              "      fill: #D2E3FC;\n",
              "    }\n",
              "\n",
              "    [theme=dark] .colab-df-convert:hover {\n",
              "      background-color: #434B5C;\n",
              "      box-shadow: 0px 1px 3px 1px rgba(0, 0, 0, 0.15);\n",
              "      filter: drop-shadow(0px 1px 2px rgba(0, 0, 0, 0.3));\n",
              "      fill: #FFFFFF;\n",
              "    }\n",
              "  </style>\n",
              "\n",
              "      <script>\n",
              "        const buttonEl =\n",
              "          document.querySelector('#df-50a162c4-d6e6-424c-b8c5-4ef225cc0cb1 button.colab-df-convert');\n",
              "        buttonEl.style.display =\n",
              "          google.colab.kernel.accessAllowed ? 'block' : 'none';\n",
              "\n",
              "        async function convertToInteractive(key) {\n",
              "          const element = document.querySelector('#df-50a162c4-d6e6-424c-b8c5-4ef225cc0cb1');\n",
              "          const dataTable =\n",
              "            await google.colab.kernel.invokeFunction('convertToInteractive',\n",
              "                                                     [key], {});\n",
              "          if (!dataTable) return;\n",
              "\n",
              "          const docLinkHtml = 'Like what you see? Visit the ' +\n",
              "            '<a target=\"_blank\" href=https://colab.research.google.com/notebooks/data_table.ipynb>data table notebook</a>'\n",
              "            + ' to learn more about interactive tables.';\n",
              "          element.innerHTML = '';\n",
              "          dataTable['output_type'] = 'display_data';\n",
              "          await google.colab.output.renderOutput(dataTable, element);\n",
              "          const docLink = document.createElement('div');\n",
              "          docLink.innerHTML = docLinkHtml;\n",
              "          element.appendChild(docLink);\n",
              "        }\n",
              "      </script>\n",
              "    </div>\n",
              "  </div>\n",
              "  "
            ]
          },
          "metadata": {},
          "execution_count": 90
        }
      ]
    },
    {
      "cell_type": "code",
      "source": [
        "fig = px.bar(agr_df_mes, x='Mes', y='Cantidad_Incidentes',\n",
        "             color='Cantidad_Incidentes',\n",
        "             template='ggplot2',\n",
        "             labels={'Cantidad_Incidentes':'Cantidad de Incidentes', 'Mes':'Mes del Año'},\n",
        "             title='Cantidad de Accidentes registrado por Mes del Año',\n",
        "             height=400)\n",
        "fig.show()"
      ],
      "metadata": {
        "colab": {
          "base_uri": "https://localhost:8080/",
          "height": 417
        },
        "id": "PV1zkpoSDTv8",
        "outputId": "ce405fce-a4b2-4807-af58-6c831e72d0d9"
      },
      "execution_count": 91,
      "outputs": [
        {
          "output_type": "display_data",
          "data": {
            "text/html": [
              "<html>\n",
              "<head><meta charset=\"utf-8\" /></head>\n",
              "<body>\n",
              "    <div>            <script src=\"https://cdnjs.cloudflare.com/ajax/libs/mathjax/2.7.5/MathJax.js?config=TeX-AMS-MML_SVG\"></script><script type=\"text/javascript\">if (window.MathJax) {MathJax.Hub.Config({SVG: {font: \"STIX-Web\"}});}</script>                <script type=\"text/javascript\">window.PlotlyConfig = {MathJaxConfig: 'local'};</script>\n",
              "        <script src=\"https://cdn.plot.ly/plotly-2.8.3.min.js\"></script>                <div id=\"359d56a5-2de6-4339-bc95-8182de51d430\" class=\"plotly-graph-div\" style=\"height:400px; width:100%;\"></div>            <script type=\"text/javascript\">                                    window.PLOTLYENV=window.PLOTLYENV || {};                                    if (document.getElementById(\"359d56a5-2de6-4339-bc95-8182de51d430\")) {                    Plotly.newPlot(                        \"359d56a5-2de6-4339-bc95-8182de51d430\",                        [{\"alignmentgroup\":\"True\",\"hovertemplate\":\"Mes del A\\u00f1o=%{x}<br>Cantidad de Incidentes=%{marker.color}<extra></extra>\",\"legendgroup\":\"\",\"marker\":{\"color\":[17713,21893,18115,18981,20513,20951,19612,20560,19649,17519,18515,21822],\"coloraxis\":\"coloraxis\",\"pattern\":{\"shape\":\"\"}},\"name\":\"\",\"offsetgroup\":\"\",\"orientation\":\"v\",\"showlegend\":false,\"textposition\":\"auto\",\"x\":[\"Abr\",\"Ago\",\"Dic\",\"Ene\",\"Feb\",\"Jul\",\"Jun\",\"Mar\",\"May\",\"Nov\",\"Oct\",\"Sept\"],\"xaxis\":\"x\",\"y\":[17713,21893,18115,18981,20513,20951,19612,20560,19649,17519,18515,21822],\"yaxis\":\"y\",\"type\":\"bar\"}],                        {\"template\":{\"data\":{\"barpolar\":[{\"marker\":{\"line\":{\"color\":\"rgb(237,237,237)\",\"width\":0.5},\"pattern\":{\"fillmode\":\"overlay\",\"size\":10,\"solidity\":0.2}},\"type\":\"barpolar\"}],\"bar\":[{\"error_x\":{\"color\":\"rgb(51,51,51)\"},\"error_y\":{\"color\":\"rgb(51,51,51)\"},\"marker\":{\"line\":{\"color\":\"rgb(237,237,237)\",\"width\":0.5},\"pattern\":{\"fillmode\":\"overlay\",\"size\":10,\"solidity\":0.2}},\"type\":\"bar\"}],\"carpet\":[{\"aaxis\":{\"endlinecolor\":\"rgb(51,51,51)\",\"gridcolor\":\"white\",\"linecolor\":\"white\",\"minorgridcolor\":\"white\",\"startlinecolor\":\"rgb(51,51,51)\"},\"baxis\":{\"endlinecolor\":\"rgb(51,51,51)\",\"gridcolor\":\"white\",\"linecolor\":\"white\",\"minorgridcolor\":\"white\",\"startlinecolor\":\"rgb(51,51,51)\"},\"type\":\"carpet\"}],\"choropleth\":[{\"colorbar\":{\"outlinewidth\":0,\"tickcolor\":\"rgb(237,237,237)\",\"ticklen\":6,\"ticks\":\"inside\"},\"type\":\"choropleth\"}],\"contourcarpet\":[{\"colorbar\":{\"outlinewidth\":0,\"tickcolor\":\"rgb(237,237,237)\",\"ticklen\":6,\"ticks\":\"inside\"},\"type\":\"contourcarpet\"}],\"contour\":[{\"colorbar\":{\"outlinewidth\":0,\"tickcolor\":\"rgb(237,237,237)\",\"ticklen\":6,\"ticks\":\"inside\"},\"colorscale\":[[0,\"rgb(20,44,66)\"],[1,\"rgb(90,179,244)\"]],\"type\":\"contour\"}],\"heatmapgl\":[{\"colorbar\":{\"outlinewidth\":0,\"tickcolor\":\"rgb(237,237,237)\",\"ticklen\":6,\"ticks\":\"inside\"},\"colorscale\":[[0,\"rgb(20,44,66)\"],[1,\"rgb(90,179,244)\"]],\"type\":\"heatmapgl\"}],\"heatmap\":[{\"colorbar\":{\"outlinewidth\":0,\"tickcolor\":\"rgb(237,237,237)\",\"ticklen\":6,\"ticks\":\"inside\"},\"colorscale\":[[0,\"rgb(20,44,66)\"],[1,\"rgb(90,179,244)\"]],\"type\":\"heatmap\"}],\"histogram2dcontour\":[{\"colorbar\":{\"outlinewidth\":0,\"tickcolor\":\"rgb(237,237,237)\",\"ticklen\":6,\"ticks\":\"inside\"},\"colorscale\":[[0,\"rgb(20,44,66)\"],[1,\"rgb(90,179,244)\"]],\"type\":\"histogram2dcontour\"}],\"histogram2d\":[{\"colorbar\":{\"outlinewidth\":0,\"tickcolor\":\"rgb(237,237,237)\",\"ticklen\":6,\"ticks\":\"inside\"},\"colorscale\":[[0,\"rgb(20,44,66)\"],[1,\"rgb(90,179,244)\"]],\"type\":\"histogram2d\"}],\"histogram\":[{\"marker\":{\"pattern\":{\"fillmode\":\"overlay\",\"size\":10,\"solidity\":0.2}},\"type\":\"histogram\"}],\"mesh3d\":[{\"colorbar\":{\"outlinewidth\":0,\"tickcolor\":\"rgb(237,237,237)\",\"ticklen\":6,\"ticks\":\"inside\"},\"type\":\"mesh3d\"}],\"parcoords\":[{\"line\":{\"colorbar\":{\"outlinewidth\":0,\"tickcolor\":\"rgb(237,237,237)\",\"ticklen\":6,\"ticks\":\"inside\"}},\"type\":\"parcoords\"}],\"pie\":[{\"automargin\":true,\"type\":\"pie\"}],\"scatter3d\":[{\"line\":{\"colorbar\":{\"outlinewidth\":0,\"tickcolor\":\"rgb(237,237,237)\",\"ticklen\":6,\"ticks\":\"inside\"}},\"marker\":{\"colorbar\":{\"outlinewidth\":0,\"tickcolor\":\"rgb(237,237,237)\",\"ticklen\":6,\"ticks\":\"inside\"}},\"type\":\"scatter3d\"}],\"scattercarpet\":[{\"marker\":{\"colorbar\":{\"outlinewidth\":0,\"tickcolor\":\"rgb(237,237,237)\",\"ticklen\":6,\"ticks\":\"inside\"}},\"type\":\"scattercarpet\"}],\"scattergeo\":[{\"marker\":{\"colorbar\":{\"outlinewidth\":0,\"tickcolor\":\"rgb(237,237,237)\",\"ticklen\":6,\"ticks\":\"inside\"}},\"type\":\"scattergeo\"}],\"scattergl\":[{\"marker\":{\"colorbar\":{\"outlinewidth\":0,\"tickcolor\":\"rgb(237,237,237)\",\"ticklen\":6,\"ticks\":\"inside\"}},\"type\":\"scattergl\"}],\"scattermapbox\":[{\"marker\":{\"colorbar\":{\"outlinewidth\":0,\"tickcolor\":\"rgb(237,237,237)\",\"ticklen\":6,\"ticks\":\"inside\"}},\"type\":\"scattermapbox\"}],\"scatterpolargl\":[{\"marker\":{\"colorbar\":{\"outlinewidth\":0,\"tickcolor\":\"rgb(237,237,237)\",\"ticklen\":6,\"ticks\":\"inside\"}},\"type\":\"scatterpolargl\"}],\"scatterpolar\":[{\"marker\":{\"colorbar\":{\"outlinewidth\":0,\"tickcolor\":\"rgb(237,237,237)\",\"ticklen\":6,\"ticks\":\"inside\"}},\"type\":\"scatterpolar\"}],\"scatter\":[{\"marker\":{\"colorbar\":{\"outlinewidth\":0,\"tickcolor\":\"rgb(237,237,237)\",\"ticklen\":6,\"ticks\":\"inside\"}},\"type\":\"scatter\"}],\"scatterternary\":[{\"marker\":{\"colorbar\":{\"outlinewidth\":0,\"tickcolor\":\"rgb(237,237,237)\",\"ticklen\":6,\"ticks\":\"inside\"}},\"type\":\"scatterternary\"}],\"surface\":[{\"colorbar\":{\"outlinewidth\":0,\"tickcolor\":\"rgb(237,237,237)\",\"ticklen\":6,\"ticks\":\"inside\"},\"colorscale\":[[0,\"rgb(20,44,66)\"],[1,\"rgb(90,179,244)\"]],\"type\":\"surface\"}],\"table\":[{\"cells\":{\"fill\":{\"color\":\"rgb(237,237,237)\"},\"line\":{\"color\":\"white\"}},\"header\":{\"fill\":{\"color\":\"rgb(217,217,217)\"},\"line\":{\"color\":\"white\"}},\"type\":\"table\"}]},\"layout\":{\"annotationdefaults\":{\"arrowhead\":0,\"arrowwidth\":1},\"autotypenumbers\":\"strict\",\"coloraxis\":{\"colorbar\":{\"outlinewidth\":0,\"tickcolor\":\"rgb(237,237,237)\",\"ticklen\":6,\"ticks\":\"inside\"}},\"colorscale\":{\"sequential\":[[0,\"rgb(20,44,66)\"],[1,\"rgb(90,179,244)\"]],\"sequentialminus\":[[0,\"rgb(20,44,66)\"],[1,\"rgb(90,179,244)\"]]},\"colorway\":[\"#F8766D\",\"#A3A500\",\"#00BF7D\",\"#00B0F6\",\"#E76BF3\"],\"font\":{\"color\":\"rgb(51,51,51)\"},\"geo\":{\"bgcolor\":\"white\",\"lakecolor\":\"white\",\"landcolor\":\"rgb(237,237,237)\",\"showlakes\":true,\"showland\":true,\"subunitcolor\":\"white\"},\"hoverlabel\":{\"align\":\"left\"},\"hovermode\":\"closest\",\"paper_bgcolor\":\"white\",\"plot_bgcolor\":\"rgb(237,237,237)\",\"polar\":{\"angularaxis\":{\"gridcolor\":\"white\",\"linecolor\":\"white\",\"showgrid\":true,\"tickcolor\":\"rgb(51,51,51)\",\"ticks\":\"outside\"},\"bgcolor\":\"rgb(237,237,237)\",\"radialaxis\":{\"gridcolor\":\"white\",\"linecolor\":\"white\",\"showgrid\":true,\"tickcolor\":\"rgb(51,51,51)\",\"ticks\":\"outside\"}},\"scene\":{\"xaxis\":{\"backgroundcolor\":\"rgb(237,237,237)\",\"gridcolor\":\"white\",\"gridwidth\":2,\"linecolor\":\"white\",\"showbackground\":true,\"showgrid\":true,\"tickcolor\":\"rgb(51,51,51)\",\"ticks\":\"outside\",\"zerolinecolor\":\"white\"},\"yaxis\":{\"backgroundcolor\":\"rgb(237,237,237)\",\"gridcolor\":\"white\",\"gridwidth\":2,\"linecolor\":\"white\",\"showbackground\":true,\"showgrid\":true,\"tickcolor\":\"rgb(51,51,51)\",\"ticks\":\"outside\",\"zerolinecolor\":\"white\"},\"zaxis\":{\"backgroundcolor\":\"rgb(237,237,237)\",\"gridcolor\":\"white\",\"gridwidth\":2,\"linecolor\":\"white\",\"showbackground\":true,\"showgrid\":true,\"tickcolor\":\"rgb(51,51,51)\",\"ticks\":\"outside\",\"zerolinecolor\":\"white\"}},\"shapedefaults\":{\"fillcolor\":\"black\",\"line\":{\"width\":0},\"opacity\":0.3},\"ternary\":{\"aaxis\":{\"gridcolor\":\"white\",\"linecolor\":\"white\",\"showgrid\":true,\"tickcolor\":\"rgb(51,51,51)\",\"ticks\":\"outside\"},\"baxis\":{\"gridcolor\":\"white\",\"linecolor\":\"white\",\"showgrid\":true,\"tickcolor\":\"rgb(51,51,51)\",\"ticks\":\"outside\"},\"bgcolor\":\"rgb(237,237,237)\",\"caxis\":{\"gridcolor\":\"white\",\"linecolor\":\"white\",\"showgrid\":true,\"tickcolor\":\"rgb(51,51,51)\",\"ticks\":\"outside\"}},\"xaxis\":{\"automargin\":true,\"gridcolor\":\"white\",\"linecolor\":\"white\",\"showgrid\":true,\"tickcolor\":\"rgb(51,51,51)\",\"ticks\":\"outside\",\"title\":{\"standoff\":15},\"zerolinecolor\":\"white\"},\"yaxis\":{\"automargin\":true,\"gridcolor\":\"white\",\"linecolor\":\"white\",\"showgrid\":true,\"tickcolor\":\"rgb(51,51,51)\",\"ticks\":\"outside\",\"title\":{\"standoff\":15},\"zerolinecolor\":\"white\"}}},\"xaxis\":{\"anchor\":\"y\",\"domain\":[0.0,1.0],\"title\":{\"text\":\"Mes del A\\u00f1o\"}},\"yaxis\":{\"anchor\":\"x\",\"domain\":[0.0,1.0],\"title\":{\"text\":\"Cantidad de Incidentes\"}},\"coloraxis\":{\"colorbar\":{\"title\":{\"text\":\"Cantidad de Incidentes\"}},\"colorscale\":[[0.0,\"rgb(20,44,66)\"],[1.0,\"rgb(90,179,244)\"]]},\"legend\":{\"tracegroupgap\":0},\"title\":{\"text\":\"Cantidad de Accidentes registrado por Mes del A\\u00f1o\"},\"barmode\":\"relative\",\"height\":400},                        {\"responsive\": true}                    ).then(function(){\n",
              "                            \n",
              "var gd = document.getElementById('359d56a5-2de6-4339-bc95-8182de51d430');\n",
              "var x = new MutationObserver(function (mutations, observer) {{\n",
              "        var display = window.getComputedStyle(gd).display;\n",
              "        if (!display || display === 'none') {{\n",
              "            console.log([gd, 'removed!']);\n",
              "            Plotly.purge(gd);\n",
              "            observer.disconnect();\n",
              "        }}\n",
              "}});\n",
              "\n",
              "// Listen for the removal of the full notebook cells\n",
              "var notebookContainer = gd.closest('#notebook-container');\n",
              "if (notebookContainer) {{\n",
              "    x.observe(notebookContainer, {childList: true});\n",
              "}}\n",
              "\n",
              "// Listen for the clearing of the current output cell\n",
              "var outputEl = gd.closest('.output');\n",
              "if (outputEl) {{\n",
              "    x.observe(outputEl, {childList: true});\n",
              "}}\n",
              "\n",
              "                        })                };                            </script>        </div>\n",
              "</body>\n",
              "</html>"
            ]
          },
          "metadata": {}
        }
      ]
    },
    {
      "cell_type": "markdown",
      "source": [
        "FRECUENCIA POR AÑO"
      ],
      "metadata": {
        "id": "92_eYBvJDt_b"
      }
    },
    {
      "cell_type": "code",
      "source": [
        "# Analisis General\n",
        "agr_df_año = dfinal.groupby(['Anio'])['Clase_incidente'].count(). reset_index()\n",
        "agr_df_año = agr_df_año.rename(columns={'Clase_incidente':'Cantidad_Incidentes'})\n",
        "agr_df_año"
      ],
      "metadata": {
        "colab": {
          "base_uri": "https://localhost:8080/",
          "height": 300
        },
        "id": "dF5sXf8ZDTyq",
        "outputId": "9d0fd965-d7e6-4d1b-a1ac-2b9768e327dc"
      },
      "execution_count": 93,
      "outputs": [
        {
          "output_type": "execute_result",
          "data": {
            "text/plain": [
              "   Anio  Cantidad_Incidentes\n",
              "0  2014                31411\n",
              "1  2015                32622\n",
              "2  2016                33791\n",
              "3  2017                31658\n",
              "4  2018                29082\n",
              "5  2019                31876\n",
              "6  2020                23676\n",
              "7  2021                21727"
            ],
            "text/html": [
              "\n",
              "  <div id=\"df-41b73015-a369-40a9-a3d1-0ec95bed1d1b\">\n",
              "    <div class=\"colab-df-container\">\n",
              "      <div>\n",
              "<style scoped>\n",
              "    .dataframe tbody tr th:only-of-type {\n",
              "        vertical-align: middle;\n",
              "    }\n",
              "\n",
              "    .dataframe tbody tr th {\n",
              "        vertical-align: top;\n",
              "    }\n",
              "\n",
              "    .dataframe thead th {\n",
              "        text-align: right;\n",
              "    }\n",
              "</style>\n",
              "<table border=\"1\" class=\"dataframe\">\n",
              "  <thead>\n",
              "    <tr style=\"text-align: right;\">\n",
              "      <th></th>\n",
              "      <th>Anio</th>\n",
              "      <th>Cantidad_Incidentes</th>\n",
              "    </tr>\n",
              "  </thead>\n",
              "  <tbody>\n",
              "    <tr>\n",
              "      <th>0</th>\n",
              "      <td>2014</td>\n",
              "      <td>31411</td>\n",
              "    </tr>\n",
              "    <tr>\n",
              "      <th>1</th>\n",
              "      <td>2015</td>\n",
              "      <td>32622</td>\n",
              "    </tr>\n",
              "    <tr>\n",
              "      <th>2</th>\n",
              "      <td>2016</td>\n",
              "      <td>33791</td>\n",
              "    </tr>\n",
              "    <tr>\n",
              "      <th>3</th>\n",
              "      <td>2017</td>\n",
              "      <td>31658</td>\n",
              "    </tr>\n",
              "    <tr>\n",
              "      <th>4</th>\n",
              "      <td>2018</td>\n",
              "      <td>29082</td>\n",
              "    </tr>\n",
              "    <tr>\n",
              "      <th>5</th>\n",
              "      <td>2019</td>\n",
              "      <td>31876</td>\n",
              "    </tr>\n",
              "    <tr>\n",
              "      <th>6</th>\n",
              "      <td>2020</td>\n",
              "      <td>23676</td>\n",
              "    </tr>\n",
              "    <tr>\n",
              "      <th>7</th>\n",
              "      <td>2021</td>\n",
              "      <td>21727</td>\n",
              "    </tr>\n",
              "  </tbody>\n",
              "</table>\n",
              "</div>\n",
              "      <button class=\"colab-df-convert\" onclick=\"convertToInteractive('df-41b73015-a369-40a9-a3d1-0ec95bed1d1b')\"\n",
              "              title=\"Convert this dataframe to an interactive table.\"\n",
              "              style=\"display:none;\">\n",
              "        \n",
              "  <svg xmlns=\"http://www.w3.org/2000/svg\" height=\"24px\"viewBox=\"0 0 24 24\"\n",
              "       width=\"24px\">\n",
              "    <path d=\"M0 0h24v24H0V0z\" fill=\"none\"/>\n",
              "    <path d=\"M18.56 5.44l.94 2.06.94-2.06 2.06-.94-2.06-.94-.94-2.06-.94 2.06-2.06.94zm-11 1L8.5 8.5l.94-2.06 2.06-.94-2.06-.94L8.5 2.5l-.94 2.06-2.06.94zm10 10l.94 2.06.94-2.06 2.06-.94-2.06-.94-.94-2.06-.94 2.06-2.06.94z\"/><path d=\"M17.41 7.96l-1.37-1.37c-.4-.4-.92-.59-1.43-.59-.52 0-1.04.2-1.43.59L10.3 9.45l-7.72 7.72c-.78.78-.78 2.05 0 2.83L4 21.41c.39.39.9.59 1.41.59.51 0 1.02-.2 1.41-.59l7.78-7.78 2.81-2.81c.8-.78.8-2.07 0-2.86zM5.41 20L4 18.59l7.72-7.72 1.47 1.35L5.41 20z\"/>\n",
              "  </svg>\n",
              "      </button>\n",
              "      \n",
              "  <style>\n",
              "    .colab-df-container {\n",
              "      display:flex;\n",
              "      flex-wrap:wrap;\n",
              "      gap: 12px;\n",
              "    }\n",
              "\n",
              "    .colab-df-convert {\n",
              "      background-color: #E8F0FE;\n",
              "      border: none;\n",
              "      border-radius: 50%;\n",
              "      cursor: pointer;\n",
              "      display: none;\n",
              "      fill: #1967D2;\n",
              "      height: 32px;\n",
              "      padding: 0 0 0 0;\n",
              "      width: 32px;\n",
              "    }\n",
              "\n",
              "    .colab-df-convert:hover {\n",
              "      background-color: #E2EBFA;\n",
              "      box-shadow: 0px 1px 2px rgba(60, 64, 67, 0.3), 0px 1px 3px 1px rgba(60, 64, 67, 0.15);\n",
              "      fill: #174EA6;\n",
              "    }\n",
              "\n",
              "    [theme=dark] .colab-df-convert {\n",
              "      background-color: #3B4455;\n",
              "      fill: #D2E3FC;\n",
              "    }\n",
              "\n",
              "    [theme=dark] .colab-df-convert:hover {\n",
              "      background-color: #434B5C;\n",
              "      box-shadow: 0px 1px 3px 1px rgba(0, 0, 0, 0.15);\n",
              "      filter: drop-shadow(0px 1px 2px rgba(0, 0, 0, 0.3));\n",
              "      fill: #FFFFFF;\n",
              "    }\n",
              "  </style>\n",
              "\n",
              "      <script>\n",
              "        const buttonEl =\n",
              "          document.querySelector('#df-41b73015-a369-40a9-a3d1-0ec95bed1d1b button.colab-df-convert');\n",
              "        buttonEl.style.display =\n",
              "          google.colab.kernel.accessAllowed ? 'block' : 'none';\n",
              "\n",
              "        async function convertToInteractive(key) {\n",
              "          const element = document.querySelector('#df-41b73015-a369-40a9-a3d1-0ec95bed1d1b');\n",
              "          const dataTable =\n",
              "            await google.colab.kernel.invokeFunction('convertToInteractive',\n",
              "                                                     [key], {});\n",
              "          if (!dataTable) return;\n",
              "\n",
              "          const docLinkHtml = 'Like what you see? Visit the ' +\n",
              "            '<a target=\"_blank\" href=https://colab.research.google.com/notebooks/data_table.ipynb>data table notebook</a>'\n",
              "            + ' to learn more about interactive tables.';\n",
              "          element.innerHTML = '';\n",
              "          dataTable['output_type'] = 'display_data';\n",
              "          await google.colab.output.renderOutput(dataTable, element);\n",
              "          const docLink = document.createElement('div');\n",
              "          docLink.innerHTML = docLinkHtml;\n",
              "          element.appendChild(docLink);\n",
              "        }\n",
              "      </script>\n",
              "    </div>\n",
              "  </div>\n",
              "  "
            ]
          },
          "metadata": {},
          "execution_count": 93
        }
      ]
    },
    {
      "cell_type": "code",
      "source": [
        "fig = px.bar(agr_df_año, x='Anio', y='Cantidad_Incidentes',\n",
        "             color='Cantidad_Incidentes',\n",
        "             template='ggplot2',\n",
        "             labels={'Cantidad_Incidentes':'Cantidad de Incidentes', 'AÃ±o':'Año'},\n",
        "             title='Cantidad de Accidentes registrado por Año',\n",
        "             height=400)\n",
        "fig.show()"
      ],
      "metadata": {
        "colab": {
          "base_uri": "https://localhost:8080/",
          "height": 417
        },
        "id": "thdaTP4wDT1t",
        "outputId": "ea608433-3d9a-4a3a-cd0e-32703f693421"
      },
      "execution_count": 94,
      "outputs": [
        {
          "output_type": "display_data",
          "data": {
            "text/html": [
              "<html>\n",
              "<head><meta charset=\"utf-8\" /></head>\n",
              "<body>\n",
              "    <div>            <script src=\"https://cdnjs.cloudflare.com/ajax/libs/mathjax/2.7.5/MathJax.js?config=TeX-AMS-MML_SVG\"></script><script type=\"text/javascript\">if (window.MathJax) {MathJax.Hub.Config({SVG: {font: \"STIX-Web\"}});}</script>                <script type=\"text/javascript\">window.PlotlyConfig = {MathJaxConfig: 'local'};</script>\n",
              "        <script src=\"https://cdn.plot.ly/plotly-2.8.3.min.js\"></script>                <div id=\"be8f9469-10ce-4e40-bfdd-05b882dc493f\" class=\"plotly-graph-div\" style=\"height:400px; width:100%;\"></div>            <script type=\"text/javascript\">                                    window.PLOTLYENV=window.PLOTLYENV || {};                                    if (document.getElementById(\"be8f9469-10ce-4e40-bfdd-05b882dc493f\")) {                    Plotly.newPlot(                        \"be8f9469-10ce-4e40-bfdd-05b882dc493f\",                        [{\"alignmentgroup\":\"True\",\"hovertemplate\":\"Anio=%{x}<br>Cantidad de Incidentes=%{marker.color}<extra></extra>\",\"legendgroup\":\"\",\"marker\":{\"color\":[31411,32622,33791,31658,29082,31876,23676,21727],\"coloraxis\":\"coloraxis\",\"pattern\":{\"shape\":\"\"}},\"name\":\"\",\"offsetgroup\":\"\",\"orientation\":\"v\",\"showlegend\":false,\"textposition\":\"auto\",\"x\":[2014,2015,2016,2017,2018,2019,2020,2021],\"xaxis\":\"x\",\"y\":[31411,32622,33791,31658,29082,31876,23676,21727],\"yaxis\":\"y\",\"type\":\"bar\"}],                        {\"template\":{\"data\":{\"barpolar\":[{\"marker\":{\"line\":{\"color\":\"rgb(237,237,237)\",\"width\":0.5},\"pattern\":{\"fillmode\":\"overlay\",\"size\":10,\"solidity\":0.2}},\"type\":\"barpolar\"}],\"bar\":[{\"error_x\":{\"color\":\"rgb(51,51,51)\"},\"error_y\":{\"color\":\"rgb(51,51,51)\"},\"marker\":{\"line\":{\"color\":\"rgb(237,237,237)\",\"width\":0.5},\"pattern\":{\"fillmode\":\"overlay\",\"size\":10,\"solidity\":0.2}},\"type\":\"bar\"}],\"carpet\":[{\"aaxis\":{\"endlinecolor\":\"rgb(51,51,51)\",\"gridcolor\":\"white\",\"linecolor\":\"white\",\"minorgridcolor\":\"white\",\"startlinecolor\":\"rgb(51,51,51)\"},\"baxis\":{\"endlinecolor\":\"rgb(51,51,51)\",\"gridcolor\":\"white\",\"linecolor\":\"white\",\"minorgridcolor\":\"white\",\"startlinecolor\":\"rgb(51,51,51)\"},\"type\":\"carpet\"}],\"choropleth\":[{\"colorbar\":{\"outlinewidth\":0,\"tickcolor\":\"rgb(237,237,237)\",\"ticklen\":6,\"ticks\":\"inside\"},\"type\":\"choropleth\"}],\"contourcarpet\":[{\"colorbar\":{\"outlinewidth\":0,\"tickcolor\":\"rgb(237,237,237)\",\"ticklen\":6,\"ticks\":\"inside\"},\"type\":\"contourcarpet\"}],\"contour\":[{\"colorbar\":{\"outlinewidth\":0,\"tickcolor\":\"rgb(237,237,237)\",\"ticklen\":6,\"ticks\":\"inside\"},\"colorscale\":[[0,\"rgb(20,44,66)\"],[1,\"rgb(90,179,244)\"]],\"type\":\"contour\"}],\"heatmapgl\":[{\"colorbar\":{\"outlinewidth\":0,\"tickcolor\":\"rgb(237,237,237)\",\"ticklen\":6,\"ticks\":\"inside\"},\"colorscale\":[[0,\"rgb(20,44,66)\"],[1,\"rgb(90,179,244)\"]],\"type\":\"heatmapgl\"}],\"heatmap\":[{\"colorbar\":{\"outlinewidth\":0,\"tickcolor\":\"rgb(237,237,237)\",\"ticklen\":6,\"ticks\":\"inside\"},\"colorscale\":[[0,\"rgb(20,44,66)\"],[1,\"rgb(90,179,244)\"]],\"type\":\"heatmap\"}],\"histogram2dcontour\":[{\"colorbar\":{\"outlinewidth\":0,\"tickcolor\":\"rgb(237,237,237)\",\"ticklen\":6,\"ticks\":\"inside\"},\"colorscale\":[[0,\"rgb(20,44,66)\"],[1,\"rgb(90,179,244)\"]],\"type\":\"histogram2dcontour\"}],\"histogram2d\":[{\"colorbar\":{\"outlinewidth\":0,\"tickcolor\":\"rgb(237,237,237)\",\"ticklen\":6,\"ticks\":\"inside\"},\"colorscale\":[[0,\"rgb(20,44,66)\"],[1,\"rgb(90,179,244)\"]],\"type\":\"histogram2d\"}],\"histogram\":[{\"marker\":{\"pattern\":{\"fillmode\":\"overlay\",\"size\":10,\"solidity\":0.2}},\"type\":\"histogram\"}],\"mesh3d\":[{\"colorbar\":{\"outlinewidth\":0,\"tickcolor\":\"rgb(237,237,237)\",\"ticklen\":6,\"ticks\":\"inside\"},\"type\":\"mesh3d\"}],\"parcoords\":[{\"line\":{\"colorbar\":{\"outlinewidth\":0,\"tickcolor\":\"rgb(237,237,237)\",\"ticklen\":6,\"ticks\":\"inside\"}},\"type\":\"parcoords\"}],\"pie\":[{\"automargin\":true,\"type\":\"pie\"}],\"scatter3d\":[{\"line\":{\"colorbar\":{\"outlinewidth\":0,\"tickcolor\":\"rgb(237,237,237)\",\"ticklen\":6,\"ticks\":\"inside\"}},\"marker\":{\"colorbar\":{\"outlinewidth\":0,\"tickcolor\":\"rgb(237,237,237)\",\"ticklen\":6,\"ticks\":\"inside\"}},\"type\":\"scatter3d\"}],\"scattercarpet\":[{\"marker\":{\"colorbar\":{\"outlinewidth\":0,\"tickcolor\":\"rgb(237,237,237)\",\"ticklen\":6,\"ticks\":\"inside\"}},\"type\":\"scattercarpet\"}],\"scattergeo\":[{\"marker\":{\"colorbar\":{\"outlinewidth\":0,\"tickcolor\":\"rgb(237,237,237)\",\"ticklen\":6,\"ticks\":\"inside\"}},\"type\":\"scattergeo\"}],\"scattergl\":[{\"marker\":{\"colorbar\":{\"outlinewidth\":0,\"tickcolor\":\"rgb(237,237,237)\",\"ticklen\":6,\"ticks\":\"inside\"}},\"type\":\"scattergl\"}],\"scattermapbox\":[{\"marker\":{\"colorbar\":{\"outlinewidth\":0,\"tickcolor\":\"rgb(237,237,237)\",\"ticklen\":6,\"ticks\":\"inside\"}},\"type\":\"scattermapbox\"}],\"scatterpolargl\":[{\"marker\":{\"colorbar\":{\"outlinewidth\":0,\"tickcolor\":\"rgb(237,237,237)\",\"ticklen\":6,\"ticks\":\"inside\"}},\"type\":\"scatterpolargl\"}],\"scatterpolar\":[{\"marker\":{\"colorbar\":{\"outlinewidth\":0,\"tickcolor\":\"rgb(237,237,237)\",\"ticklen\":6,\"ticks\":\"inside\"}},\"type\":\"scatterpolar\"}],\"scatter\":[{\"marker\":{\"colorbar\":{\"outlinewidth\":0,\"tickcolor\":\"rgb(237,237,237)\",\"ticklen\":6,\"ticks\":\"inside\"}},\"type\":\"scatter\"}],\"scatterternary\":[{\"marker\":{\"colorbar\":{\"outlinewidth\":0,\"tickcolor\":\"rgb(237,237,237)\",\"ticklen\":6,\"ticks\":\"inside\"}},\"type\":\"scatterternary\"}],\"surface\":[{\"colorbar\":{\"outlinewidth\":0,\"tickcolor\":\"rgb(237,237,237)\",\"ticklen\":6,\"ticks\":\"inside\"},\"colorscale\":[[0,\"rgb(20,44,66)\"],[1,\"rgb(90,179,244)\"]],\"type\":\"surface\"}],\"table\":[{\"cells\":{\"fill\":{\"color\":\"rgb(237,237,237)\"},\"line\":{\"color\":\"white\"}},\"header\":{\"fill\":{\"color\":\"rgb(217,217,217)\"},\"line\":{\"color\":\"white\"}},\"type\":\"table\"}]},\"layout\":{\"annotationdefaults\":{\"arrowhead\":0,\"arrowwidth\":1},\"autotypenumbers\":\"strict\",\"coloraxis\":{\"colorbar\":{\"outlinewidth\":0,\"tickcolor\":\"rgb(237,237,237)\",\"ticklen\":6,\"ticks\":\"inside\"}},\"colorscale\":{\"sequential\":[[0,\"rgb(20,44,66)\"],[1,\"rgb(90,179,244)\"]],\"sequentialminus\":[[0,\"rgb(20,44,66)\"],[1,\"rgb(90,179,244)\"]]},\"colorway\":[\"#F8766D\",\"#A3A500\",\"#00BF7D\",\"#00B0F6\",\"#E76BF3\"],\"font\":{\"color\":\"rgb(51,51,51)\"},\"geo\":{\"bgcolor\":\"white\",\"lakecolor\":\"white\",\"landcolor\":\"rgb(237,237,237)\",\"showlakes\":true,\"showland\":true,\"subunitcolor\":\"white\"},\"hoverlabel\":{\"align\":\"left\"},\"hovermode\":\"closest\",\"paper_bgcolor\":\"white\",\"plot_bgcolor\":\"rgb(237,237,237)\",\"polar\":{\"angularaxis\":{\"gridcolor\":\"white\",\"linecolor\":\"white\",\"showgrid\":true,\"tickcolor\":\"rgb(51,51,51)\",\"ticks\":\"outside\"},\"bgcolor\":\"rgb(237,237,237)\",\"radialaxis\":{\"gridcolor\":\"white\",\"linecolor\":\"white\",\"showgrid\":true,\"tickcolor\":\"rgb(51,51,51)\",\"ticks\":\"outside\"}},\"scene\":{\"xaxis\":{\"backgroundcolor\":\"rgb(237,237,237)\",\"gridcolor\":\"white\",\"gridwidth\":2,\"linecolor\":\"white\",\"showbackground\":true,\"showgrid\":true,\"tickcolor\":\"rgb(51,51,51)\",\"ticks\":\"outside\",\"zerolinecolor\":\"white\"},\"yaxis\":{\"backgroundcolor\":\"rgb(237,237,237)\",\"gridcolor\":\"white\",\"gridwidth\":2,\"linecolor\":\"white\",\"showbackground\":true,\"showgrid\":true,\"tickcolor\":\"rgb(51,51,51)\",\"ticks\":\"outside\",\"zerolinecolor\":\"white\"},\"zaxis\":{\"backgroundcolor\":\"rgb(237,237,237)\",\"gridcolor\":\"white\",\"gridwidth\":2,\"linecolor\":\"white\",\"showbackground\":true,\"showgrid\":true,\"tickcolor\":\"rgb(51,51,51)\",\"ticks\":\"outside\",\"zerolinecolor\":\"white\"}},\"shapedefaults\":{\"fillcolor\":\"black\",\"line\":{\"width\":0},\"opacity\":0.3},\"ternary\":{\"aaxis\":{\"gridcolor\":\"white\",\"linecolor\":\"white\",\"showgrid\":true,\"tickcolor\":\"rgb(51,51,51)\",\"ticks\":\"outside\"},\"baxis\":{\"gridcolor\":\"white\",\"linecolor\":\"white\",\"showgrid\":true,\"tickcolor\":\"rgb(51,51,51)\",\"ticks\":\"outside\"},\"bgcolor\":\"rgb(237,237,237)\",\"caxis\":{\"gridcolor\":\"white\",\"linecolor\":\"white\",\"showgrid\":true,\"tickcolor\":\"rgb(51,51,51)\",\"ticks\":\"outside\"}},\"xaxis\":{\"automargin\":true,\"gridcolor\":\"white\",\"linecolor\":\"white\",\"showgrid\":true,\"tickcolor\":\"rgb(51,51,51)\",\"ticks\":\"outside\",\"title\":{\"standoff\":15},\"zerolinecolor\":\"white\"},\"yaxis\":{\"automargin\":true,\"gridcolor\":\"white\",\"linecolor\":\"white\",\"showgrid\":true,\"tickcolor\":\"rgb(51,51,51)\",\"ticks\":\"outside\",\"title\":{\"standoff\":15},\"zerolinecolor\":\"white\"}}},\"xaxis\":{\"anchor\":\"y\",\"domain\":[0.0,1.0],\"title\":{\"text\":\"Anio\"}},\"yaxis\":{\"anchor\":\"x\",\"domain\":[0.0,1.0],\"title\":{\"text\":\"Cantidad de Incidentes\"}},\"coloraxis\":{\"colorbar\":{\"title\":{\"text\":\"Cantidad de Incidentes\"}},\"colorscale\":[[0.0,\"rgb(20,44,66)\"],[1.0,\"rgb(90,179,244)\"]]},\"legend\":{\"tracegroupgap\":0},\"title\":{\"text\":\"Cantidad de Accidentes registrado por A\\u00f1o\"},\"barmode\":\"relative\",\"height\":400},                        {\"responsive\": true}                    ).then(function(){\n",
              "                            \n",
              "var gd = document.getElementById('be8f9469-10ce-4e40-bfdd-05b882dc493f');\n",
              "var x = new MutationObserver(function (mutations, observer) {{\n",
              "        var display = window.getComputedStyle(gd).display;\n",
              "        if (!display || display === 'none') {{\n",
              "            console.log([gd, 'removed!']);\n",
              "            Plotly.purge(gd);\n",
              "            observer.disconnect();\n",
              "        }}\n",
              "}});\n",
              "\n",
              "// Listen for the removal of the full notebook cells\n",
              "var notebookContainer = gd.closest('#notebook-container');\n",
              "if (notebookContainer) {{\n",
              "    x.observe(notebookContainer, {childList: true});\n",
              "}}\n",
              "\n",
              "// Listen for the clearing of the current output cell\n",
              "var outputEl = gd.closest('.output');\n",
              "if (outputEl) {{\n",
              "    x.observe(outputEl, {childList: true});\n",
              "}}\n",
              "\n",
              "                        })                };                            </script>        </div>\n",
              "</body>\n",
              "</html>"
            ]
          },
          "metadata": {}
        }
      ]
    },
    {
      "cell_type": "markdown",
      "source": [
        "Aquí tenemos en cuanta que el dataset tiene datos hasta el 30 de septiembre de 2021. Por eso vale aclarar que el año 2021 tiene faltante de datos para la comparación de años."
      ],
      "metadata": {
        "id": "RbBXCFLhBLYJ"
      }
    },
    {
      "cell_type": "markdown",
      "source": [
        "Se analizan los incidentes por Comuna"
      ],
      "metadata": {
        "id": "ZldvowyJEAie"
      }
    },
    {
      "cell_type": "code",
      "source": [
        "# Como las comunas son 22 podemos hacer un analisis general de toda la poblacion\n",
        "agr_df_comuna = pd.crosstab(index = dfinal['Comuna'],\n",
        "                columns=dfinal['Clase_incidente'], margins=True)\n",
        "agr_df_comuna"
      ],
      "metadata": {
        "colab": {
          "base_uri": "https://localhost:8080/",
          "height": 801
        },
        "id": "oHCHih__DzAq",
        "outputId": "e6d131f9-cac7-430b-d187-25727cc3d4a0"
      },
      "execution_count": 95,
      "outputs": [
        {
          "output_type": "execute_result",
          "data": {
            "text/plain": [
              "Clase_incidente                                   Atropello  Caida Ocupante  \\\n",
              "Comuna                                                                        \n",
              "01 - Popular                                           1520             747   \n",
              "02 - Santa Cruz                                        1191             544   \n",
              "03 - Manrique                                          2390            1419   \n",
              "04 - Aranjuez                                          2852            2052   \n",
              "05 - Castilla                                          2850            3551   \n",
              "06 - Doce de Octubre                                   1921            1787   \n",
              "07 - Robledo                                           2158            3291   \n",
              "08 - Villa Hermosa                                     1647            1248   \n",
              "09 - Buenos Aires                                      1514            1351   \n",
              "10 - La Candelaria                                     7744            4434   \n",
              "11 - Laureles Estadio                                  2588            2540   \n",
              "12 - La AmÃ©rica                                        974             946   \n",
              "13 - San Javier                                        1131             872   \n",
              "14 - El Poblado                                        1152            1381   \n",
              "15 - Guayabal                                          1782            1715   \n",
              "16 - BelÃ©n                                            1848            1817   \n",
              "50 - Corregimiento de San SebastiÃ¡n de Palmitas          4               0   \n",
              "60 - Corregimiento de San CristÃ³bal                    530             613   \n",
              "70 - Corregimiento de Altavista                         149             119   \n",
              "80 - Corregimiento de San Antonio de Prado              833             442   \n",
              "90 - Corregimiento de Santa Elena                        90             116   \n",
              "Sin Inf                                                2587            4113   \n",
              "All                                                   39455           35098   \n",
              "\n",
              "Clase_incidente                                   Choque  Incendio   Otro  \\\n",
              "Comuna                                                                      \n",
              "01 - Popular                                        1045         1    770   \n",
              "02 - Santa Cruz                                     1157         0    585   \n",
              "03 - Manrique                                       3342         1   1545   \n",
              "04 - Aranjuez                                       6398         2   2326   \n",
              "05 - Castilla                                      10761         0   4173   \n",
              "06 - Doce de Octubre                                2504         0   1499   \n",
              "07 - Robledo                                        6696         0   3445   \n",
              "08 - Villa Hermosa                                  2892         1   1295   \n",
              "09 - Buenos Aires                                   3921         0   1837   \n",
              "10 - La Candelaria                                 17472         3   5176   \n",
              "11 - Laureles Estadio                              10186         2   3398   \n",
              "12 - La AmÃ©rica                                    3433         1   1081   \n",
              "13 - San Javier                                     1741         0    840   \n",
              "14 - El Poblado                                     6803         1   2017   \n",
              "15 - Guayabal                                       7480         8   2347   \n",
              "16 - BelÃ©n                                         6692         2   2292   \n",
              "50 - Corregimiento de San SebastiÃ¡n de Palmitas      15         0      2   \n",
              "60 - Corregimiento de San CristÃ³bal                1048         0    628   \n",
              "70 - Corregimiento de Altavista                      237         0    147   \n",
              "80 - Corregimiento de San Antonio de Prado          1568         0    535   \n",
              "90 - Corregimiento de Santa Elena                    184         0    125   \n",
              "Sin Inf                                             7808         2   5099   \n",
              "All                                               103383        24  41162   \n",
              "\n",
              "Clase_incidente                                   Volcamiento     All  \n",
              "Comuna                                                                 \n",
              "01 - Popular                                              365    4448  \n",
              "02 - Santa Cruz                                           273    3750  \n",
              "03 - Manrique                                             724    9421  \n",
              "04 - Aranjuez                                             904   14534  \n",
              "05 - Castilla                                            1548   22883  \n",
              "06 - Doce de Octubre                                      478    8189  \n",
              "07 - Robledo                                             1103   16693  \n",
              "08 - Villa Hermosa                                        630    7713  \n",
              "09 - Buenos Aires                                         809    9432  \n",
              "10 - La Candelaria                                       2156   36985  \n",
              "11 - Laureles Estadio                                    1208   19922  \n",
              "12 - La AmÃ©rica                                          365    6800  \n",
              "13 - San Javier                                           430    5014  \n",
              "14 - El Poblado                                           891   12245  \n",
              "15 - Guayabal                                            1059   14391  \n",
              "16 - BelÃ©n                                               992   13643  \n",
              "50 - Corregimiento de San SebastiÃ¡n de Palmitas            6      27  \n",
              "60 - Corregimiento de San CristÃ³bal                      275    3094  \n",
              "70 - Corregimiento de Altavista                            65     717  \n",
              "80 - Corregimiento de San Antonio de Prado                224    3602  \n",
              "90 - Corregimiento de Santa Elena                          99     614  \n",
              "Sin Inf                                                  2117   21726  \n",
              "All                                                     16721  235843  "
            ],
            "text/html": [
              "\n",
              "  <div id=\"df-d8fda6b3-7b79-493b-a771-f2339306a9fa\">\n",
              "    <div class=\"colab-df-container\">\n",
              "      <div>\n",
              "<style scoped>\n",
              "    .dataframe tbody tr th:only-of-type {\n",
              "        vertical-align: middle;\n",
              "    }\n",
              "\n",
              "    .dataframe tbody tr th {\n",
              "        vertical-align: top;\n",
              "    }\n",
              "\n",
              "    .dataframe thead th {\n",
              "        text-align: right;\n",
              "    }\n",
              "</style>\n",
              "<table border=\"1\" class=\"dataframe\">\n",
              "  <thead>\n",
              "    <tr style=\"text-align: right;\">\n",
              "      <th>Clase_incidente</th>\n",
              "      <th>Atropello</th>\n",
              "      <th>Caida Ocupante</th>\n",
              "      <th>Choque</th>\n",
              "      <th>Incendio</th>\n",
              "      <th>Otro</th>\n",
              "      <th>Volcamiento</th>\n",
              "      <th>All</th>\n",
              "    </tr>\n",
              "    <tr>\n",
              "      <th>Comuna</th>\n",
              "      <th></th>\n",
              "      <th></th>\n",
              "      <th></th>\n",
              "      <th></th>\n",
              "      <th></th>\n",
              "      <th></th>\n",
              "      <th></th>\n",
              "    </tr>\n",
              "  </thead>\n",
              "  <tbody>\n",
              "    <tr>\n",
              "      <th>01 - Popular</th>\n",
              "      <td>1520</td>\n",
              "      <td>747</td>\n",
              "      <td>1045</td>\n",
              "      <td>1</td>\n",
              "      <td>770</td>\n",
              "      <td>365</td>\n",
              "      <td>4448</td>\n",
              "    </tr>\n",
              "    <tr>\n",
              "      <th>02 - Santa Cruz</th>\n",
              "      <td>1191</td>\n",
              "      <td>544</td>\n",
              "      <td>1157</td>\n",
              "      <td>0</td>\n",
              "      <td>585</td>\n",
              "      <td>273</td>\n",
              "      <td>3750</td>\n",
              "    </tr>\n",
              "    <tr>\n",
              "      <th>03 - Manrique</th>\n",
              "      <td>2390</td>\n",
              "      <td>1419</td>\n",
              "      <td>3342</td>\n",
              "      <td>1</td>\n",
              "      <td>1545</td>\n",
              "      <td>724</td>\n",
              "      <td>9421</td>\n",
              "    </tr>\n",
              "    <tr>\n",
              "      <th>04 - Aranjuez</th>\n",
              "      <td>2852</td>\n",
              "      <td>2052</td>\n",
              "      <td>6398</td>\n",
              "      <td>2</td>\n",
              "      <td>2326</td>\n",
              "      <td>904</td>\n",
              "      <td>14534</td>\n",
              "    </tr>\n",
              "    <tr>\n",
              "      <th>05 - Castilla</th>\n",
              "      <td>2850</td>\n",
              "      <td>3551</td>\n",
              "      <td>10761</td>\n",
              "      <td>0</td>\n",
              "      <td>4173</td>\n",
              "      <td>1548</td>\n",
              "      <td>22883</td>\n",
              "    </tr>\n",
              "    <tr>\n",
              "      <th>06 - Doce de Octubre</th>\n",
              "      <td>1921</td>\n",
              "      <td>1787</td>\n",
              "      <td>2504</td>\n",
              "      <td>0</td>\n",
              "      <td>1499</td>\n",
              "      <td>478</td>\n",
              "      <td>8189</td>\n",
              "    </tr>\n",
              "    <tr>\n",
              "      <th>07 - Robledo</th>\n",
              "      <td>2158</td>\n",
              "      <td>3291</td>\n",
              "      <td>6696</td>\n",
              "      <td>0</td>\n",
              "      <td>3445</td>\n",
              "      <td>1103</td>\n",
              "      <td>16693</td>\n",
              "    </tr>\n",
              "    <tr>\n",
              "      <th>08 - Villa Hermosa</th>\n",
              "      <td>1647</td>\n",
              "      <td>1248</td>\n",
              "      <td>2892</td>\n",
              "      <td>1</td>\n",
              "      <td>1295</td>\n",
              "      <td>630</td>\n",
              "      <td>7713</td>\n",
              "    </tr>\n",
              "    <tr>\n",
              "      <th>09 - Buenos Aires</th>\n",
              "      <td>1514</td>\n",
              "      <td>1351</td>\n",
              "      <td>3921</td>\n",
              "      <td>0</td>\n",
              "      <td>1837</td>\n",
              "      <td>809</td>\n",
              "      <td>9432</td>\n",
              "    </tr>\n",
              "    <tr>\n",
              "      <th>10 - La Candelaria</th>\n",
              "      <td>7744</td>\n",
              "      <td>4434</td>\n",
              "      <td>17472</td>\n",
              "      <td>3</td>\n",
              "      <td>5176</td>\n",
              "      <td>2156</td>\n",
              "      <td>36985</td>\n",
              "    </tr>\n",
              "    <tr>\n",
              "      <th>11 - Laureles Estadio</th>\n",
              "      <td>2588</td>\n",
              "      <td>2540</td>\n",
              "      <td>10186</td>\n",
              "      <td>2</td>\n",
              "      <td>3398</td>\n",
              "      <td>1208</td>\n",
              "      <td>19922</td>\n",
              "    </tr>\n",
              "    <tr>\n",
              "      <th>12 - La AmÃ©rica</th>\n",
              "      <td>974</td>\n",
              "      <td>946</td>\n",
              "      <td>3433</td>\n",
              "      <td>1</td>\n",
              "      <td>1081</td>\n",
              "      <td>365</td>\n",
              "      <td>6800</td>\n",
              "    </tr>\n",
              "    <tr>\n",
              "      <th>13 - San Javier</th>\n",
              "      <td>1131</td>\n",
              "      <td>872</td>\n",
              "      <td>1741</td>\n",
              "      <td>0</td>\n",
              "      <td>840</td>\n",
              "      <td>430</td>\n",
              "      <td>5014</td>\n",
              "    </tr>\n",
              "    <tr>\n",
              "      <th>14 - El Poblado</th>\n",
              "      <td>1152</td>\n",
              "      <td>1381</td>\n",
              "      <td>6803</td>\n",
              "      <td>1</td>\n",
              "      <td>2017</td>\n",
              "      <td>891</td>\n",
              "      <td>12245</td>\n",
              "    </tr>\n",
              "    <tr>\n",
              "      <th>15 - Guayabal</th>\n",
              "      <td>1782</td>\n",
              "      <td>1715</td>\n",
              "      <td>7480</td>\n",
              "      <td>8</td>\n",
              "      <td>2347</td>\n",
              "      <td>1059</td>\n",
              "      <td>14391</td>\n",
              "    </tr>\n",
              "    <tr>\n",
              "      <th>16 - BelÃ©n</th>\n",
              "      <td>1848</td>\n",
              "      <td>1817</td>\n",
              "      <td>6692</td>\n",
              "      <td>2</td>\n",
              "      <td>2292</td>\n",
              "      <td>992</td>\n",
              "      <td>13643</td>\n",
              "    </tr>\n",
              "    <tr>\n",
              "      <th>50 - Corregimiento de San SebastiÃ¡n de Palmitas</th>\n",
              "      <td>4</td>\n",
              "      <td>0</td>\n",
              "      <td>15</td>\n",
              "      <td>0</td>\n",
              "      <td>2</td>\n",
              "      <td>6</td>\n",
              "      <td>27</td>\n",
              "    </tr>\n",
              "    <tr>\n",
              "      <th>60 - Corregimiento de San CristÃ³bal</th>\n",
              "      <td>530</td>\n",
              "      <td>613</td>\n",
              "      <td>1048</td>\n",
              "      <td>0</td>\n",
              "      <td>628</td>\n",
              "      <td>275</td>\n",
              "      <td>3094</td>\n",
              "    </tr>\n",
              "    <tr>\n",
              "      <th>70 - Corregimiento de Altavista</th>\n",
              "      <td>149</td>\n",
              "      <td>119</td>\n",
              "      <td>237</td>\n",
              "      <td>0</td>\n",
              "      <td>147</td>\n",
              "      <td>65</td>\n",
              "      <td>717</td>\n",
              "    </tr>\n",
              "    <tr>\n",
              "      <th>80 - Corregimiento de San Antonio de Prado</th>\n",
              "      <td>833</td>\n",
              "      <td>442</td>\n",
              "      <td>1568</td>\n",
              "      <td>0</td>\n",
              "      <td>535</td>\n",
              "      <td>224</td>\n",
              "      <td>3602</td>\n",
              "    </tr>\n",
              "    <tr>\n",
              "      <th>90 - Corregimiento de Santa Elena</th>\n",
              "      <td>90</td>\n",
              "      <td>116</td>\n",
              "      <td>184</td>\n",
              "      <td>0</td>\n",
              "      <td>125</td>\n",
              "      <td>99</td>\n",
              "      <td>614</td>\n",
              "    </tr>\n",
              "    <tr>\n",
              "      <th>Sin Inf</th>\n",
              "      <td>2587</td>\n",
              "      <td>4113</td>\n",
              "      <td>7808</td>\n",
              "      <td>2</td>\n",
              "      <td>5099</td>\n",
              "      <td>2117</td>\n",
              "      <td>21726</td>\n",
              "    </tr>\n",
              "    <tr>\n",
              "      <th>All</th>\n",
              "      <td>39455</td>\n",
              "      <td>35098</td>\n",
              "      <td>103383</td>\n",
              "      <td>24</td>\n",
              "      <td>41162</td>\n",
              "      <td>16721</td>\n",
              "      <td>235843</td>\n",
              "    </tr>\n",
              "  </tbody>\n",
              "</table>\n",
              "</div>\n",
              "      <button class=\"colab-df-convert\" onclick=\"convertToInteractive('df-d8fda6b3-7b79-493b-a771-f2339306a9fa')\"\n",
              "              title=\"Convert this dataframe to an interactive table.\"\n",
              "              style=\"display:none;\">\n",
              "        \n",
              "  <svg xmlns=\"http://www.w3.org/2000/svg\" height=\"24px\"viewBox=\"0 0 24 24\"\n",
              "       width=\"24px\">\n",
              "    <path d=\"M0 0h24v24H0V0z\" fill=\"none\"/>\n",
              "    <path d=\"M18.56 5.44l.94 2.06.94-2.06 2.06-.94-2.06-.94-.94-2.06-.94 2.06-2.06.94zm-11 1L8.5 8.5l.94-2.06 2.06-.94-2.06-.94L8.5 2.5l-.94 2.06-2.06.94zm10 10l.94 2.06.94-2.06 2.06-.94-2.06-.94-.94-2.06-.94 2.06-2.06.94z\"/><path d=\"M17.41 7.96l-1.37-1.37c-.4-.4-.92-.59-1.43-.59-.52 0-1.04.2-1.43.59L10.3 9.45l-7.72 7.72c-.78.78-.78 2.05 0 2.83L4 21.41c.39.39.9.59 1.41.59.51 0 1.02-.2 1.41-.59l7.78-7.78 2.81-2.81c.8-.78.8-2.07 0-2.86zM5.41 20L4 18.59l7.72-7.72 1.47 1.35L5.41 20z\"/>\n",
              "  </svg>\n",
              "      </button>\n",
              "      \n",
              "  <style>\n",
              "    .colab-df-container {\n",
              "      display:flex;\n",
              "      flex-wrap:wrap;\n",
              "      gap: 12px;\n",
              "    }\n",
              "\n",
              "    .colab-df-convert {\n",
              "      background-color: #E8F0FE;\n",
              "      border: none;\n",
              "      border-radius: 50%;\n",
              "      cursor: pointer;\n",
              "      display: none;\n",
              "      fill: #1967D2;\n",
              "      height: 32px;\n",
              "      padding: 0 0 0 0;\n",
              "      width: 32px;\n",
              "    }\n",
              "\n",
              "    .colab-df-convert:hover {\n",
              "      background-color: #E2EBFA;\n",
              "      box-shadow: 0px 1px 2px rgba(60, 64, 67, 0.3), 0px 1px 3px 1px rgba(60, 64, 67, 0.15);\n",
              "      fill: #174EA6;\n",
              "    }\n",
              "\n",
              "    [theme=dark] .colab-df-convert {\n",
              "      background-color: #3B4455;\n",
              "      fill: #D2E3FC;\n",
              "    }\n",
              "\n",
              "    [theme=dark] .colab-df-convert:hover {\n",
              "      background-color: #434B5C;\n",
              "      box-shadow: 0px 1px 3px 1px rgba(0, 0, 0, 0.15);\n",
              "      filter: drop-shadow(0px 1px 2px rgba(0, 0, 0, 0.3));\n",
              "      fill: #FFFFFF;\n",
              "    }\n",
              "  </style>\n",
              "\n",
              "      <script>\n",
              "        const buttonEl =\n",
              "          document.querySelector('#df-d8fda6b3-7b79-493b-a771-f2339306a9fa button.colab-df-convert');\n",
              "        buttonEl.style.display =\n",
              "          google.colab.kernel.accessAllowed ? 'block' : 'none';\n",
              "\n",
              "        async function convertToInteractive(key) {\n",
              "          const element = document.querySelector('#df-d8fda6b3-7b79-493b-a771-f2339306a9fa');\n",
              "          const dataTable =\n",
              "            await google.colab.kernel.invokeFunction('convertToInteractive',\n",
              "                                                     [key], {});\n",
              "          if (!dataTable) return;\n",
              "\n",
              "          const docLinkHtml = 'Like what you see? Visit the ' +\n",
              "            '<a target=\"_blank\" href=https://colab.research.google.com/notebooks/data_table.ipynb>data table notebook</a>'\n",
              "            + ' to learn more about interactive tables.';\n",
              "          element.innerHTML = '';\n",
              "          dataTable['output_type'] = 'display_data';\n",
              "          await google.colab.output.renderOutput(dataTable, element);\n",
              "          const docLink = document.createElement('div');\n",
              "          docLink.innerHTML = docLinkHtml;\n",
              "          element.appendChild(docLink);\n",
              "        }\n",
              "      </script>\n",
              "    </div>\n",
              "  </div>\n",
              "  "
            ]
          },
          "metadata": {},
          "execution_count": 95
        }
      ]
    },
    {
      "cell_type": "markdown",
      "source": [
        "Como la Población general de Barrios son aproximadamente 450, el análisis no puede considerar la toralidad de Barrios por lo tanto optamos por tomar un valor determinado de los mismos considerando de aquellos que tuvieron mayor cantidad de Incidentes. Se eliminaron datos considerados nulos que podían afectar el análisis."
      ],
      "metadata": {
        "id": "bWbJ87wuEL3o"
      }
    },
    {
      "cell_type": "code",
      "source": [
        "# Defino cuantos barrios voy a considerar de acuerdo a los que tienen mayor frecuencia de Incidentes\n",
        "top = 20\n",
        "# Armo un data frame con los Barrios ordena de mayor a menor por la cantidad de Incidentes \n",
        "select_barrios_df = dfinal.Barrio.value_counts().reset_index()\\\n",
        "    .rename(columns={'index': 'Barrios', 'Barrio': 'Frecuencia'})\n",
        "# Dejo en ese data frame solo los barrios que defino con la variable top\n",
        "select_barrios_df = select_barrios_df[:top]\n",
        "select_barrios_df"
      ],
      "metadata": {
        "colab": {
          "base_uri": "https://localhost:8080/",
          "height": 676
        },
        "id": "JToeRMIKEFrC",
        "outputId": "b8f1c901-0f74-4da1-f761-031bfdc03a7e"
      },
      "execution_count": 96,
      "outputs": [
        {
          "output_type": "execute_result",
          "data": {
            "text/plain": [
              "                          Barrios  Frecuencia\n",
              "0                         Sin Inf       21264\n",
              "1                          Caribe        3917\n",
              "2                   La Candelaria        3799\n",
              "3                Perpetuo Socorro        3759\n",
              "4                      Campo Amor        3608\n",
              "5   Cabecera San Antonio de Prado        3318\n",
              "6                       Santa FÃ©        3289\n",
              "7                        Castilla        3185\n",
              "8                   Barrio ColÃ³n        2830\n",
              "9              Los Conquistadores        2800\n",
              "10                    Villa Nueva        2643\n",
              "11                     San Benito        2565\n",
              "12                    Los Colores        2532\n",
              "13         Terminal de Transporte        2388\n",
              "14             Carlos E. Restrepo        2388\n",
              "15                          Prado        2325\n",
              "16                       Naranjal        2237\n",
              "17                         Boston        2230\n",
              "18                      Guayaquil        2206\n",
              "19                      San Diego        2018"
            ],
            "text/html": [
              "\n",
              "  <div id=\"df-3a8ca781-aa2e-447b-ba13-437bdd56c120\">\n",
              "    <div class=\"colab-df-container\">\n",
              "      <div>\n",
              "<style scoped>\n",
              "    .dataframe tbody tr th:only-of-type {\n",
              "        vertical-align: middle;\n",
              "    }\n",
              "\n",
              "    .dataframe tbody tr th {\n",
              "        vertical-align: top;\n",
              "    }\n",
              "\n",
              "    .dataframe thead th {\n",
              "        text-align: right;\n",
              "    }\n",
              "</style>\n",
              "<table border=\"1\" class=\"dataframe\">\n",
              "  <thead>\n",
              "    <tr style=\"text-align: right;\">\n",
              "      <th></th>\n",
              "      <th>Barrios</th>\n",
              "      <th>Frecuencia</th>\n",
              "    </tr>\n",
              "  </thead>\n",
              "  <tbody>\n",
              "    <tr>\n",
              "      <th>0</th>\n",
              "      <td>Sin Inf</td>\n",
              "      <td>21264</td>\n",
              "    </tr>\n",
              "    <tr>\n",
              "      <th>1</th>\n",
              "      <td>Caribe</td>\n",
              "      <td>3917</td>\n",
              "    </tr>\n",
              "    <tr>\n",
              "      <th>2</th>\n",
              "      <td>La Candelaria</td>\n",
              "      <td>3799</td>\n",
              "    </tr>\n",
              "    <tr>\n",
              "      <th>3</th>\n",
              "      <td>Perpetuo Socorro</td>\n",
              "      <td>3759</td>\n",
              "    </tr>\n",
              "    <tr>\n",
              "      <th>4</th>\n",
              "      <td>Campo Amor</td>\n",
              "      <td>3608</td>\n",
              "    </tr>\n",
              "    <tr>\n",
              "      <th>5</th>\n",
              "      <td>Cabecera San Antonio de Prado</td>\n",
              "      <td>3318</td>\n",
              "    </tr>\n",
              "    <tr>\n",
              "      <th>6</th>\n",
              "      <td>Santa FÃ©</td>\n",
              "      <td>3289</td>\n",
              "    </tr>\n",
              "    <tr>\n",
              "      <th>7</th>\n",
              "      <td>Castilla</td>\n",
              "      <td>3185</td>\n",
              "    </tr>\n",
              "    <tr>\n",
              "      <th>8</th>\n",
              "      <td>Barrio ColÃ³n</td>\n",
              "      <td>2830</td>\n",
              "    </tr>\n",
              "    <tr>\n",
              "      <th>9</th>\n",
              "      <td>Los Conquistadores</td>\n",
              "      <td>2800</td>\n",
              "    </tr>\n",
              "    <tr>\n",
              "      <th>10</th>\n",
              "      <td>Villa Nueva</td>\n",
              "      <td>2643</td>\n",
              "    </tr>\n",
              "    <tr>\n",
              "      <th>11</th>\n",
              "      <td>San Benito</td>\n",
              "      <td>2565</td>\n",
              "    </tr>\n",
              "    <tr>\n",
              "      <th>12</th>\n",
              "      <td>Los Colores</td>\n",
              "      <td>2532</td>\n",
              "    </tr>\n",
              "    <tr>\n",
              "      <th>13</th>\n",
              "      <td>Terminal de Transporte</td>\n",
              "      <td>2388</td>\n",
              "    </tr>\n",
              "    <tr>\n",
              "      <th>14</th>\n",
              "      <td>Carlos E. Restrepo</td>\n",
              "      <td>2388</td>\n",
              "    </tr>\n",
              "    <tr>\n",
              "      <th>15</th>\n",
              "      <td>Prado</td>\n",
              "      <td>2325</td>\n",
              "    </tr>\n",
              "    <tr>\n",
              "      <th>16</th>\n",
              "      <td>Naranjal</td>\n",
              "      <td>2237</td>\n",
              "    </tr>\n",
              "    <tr>\n",
              "      <th>17</th>\n",
              "      <td>Boston</td>\n",
              "      <td>2230</td>\n",
              "    </tr>\n",
              "    <tr>\n",
              "      <th>18</th>\n",
              "      <td>Guayaquil</td>\n",
              "      <td>2206</td>\n",
              "    </tr>\n",
              "    <tr>\n",
              "      <th>19</th>\n",
              "      <td>San Diego</td>\n",
              "      <td>2018</td>\n",
              "    </tr>\n",
              "  </tbody>\n",
              "</table>\n",
              "</div>\n",
              "      <button class=\"colab-df-convert\" onclick=\"convertToInteractive('df-3a8ca781-aa2e-447b-ba13-437bdd56c120')\"\n",
              "              title=\"Convert this dataframe to an interactive table.\"\n",
              "              style=\"display:none;\">\n",
              "        \n",
              "  <svg xmlns=\"http://www.w3.org/2000/svg\" height=\"24px\"viewBox=\"0 0 24 24\"\n",
              "       width=\"24px\">\n",
              "    <path d=\"M0 0h24v24H0V0z\" fill=\"none\"/>\n",
              "    <path d=\"M18.56 5.44l.94 2.06.94-2.06 2.06-.94-2.06-.94-.94-2.06-.94 2.06-2.06.94zm-11 1L8.5 8.5l.94-2.06 2.06-.94-2.06-.94L8.5 2.5l-.94 2.06-2.06.94zm10 10l.94 2.06.94-2.06 2.06-.94-2.06-.94-.94-2.06-.94 2.06-2.06.94z\"/><path d=\"M17.41 7.96l-1.37-1.37c-.4-.4-.92-.59-1.43-.59-.52 0-1.04.2-1.43.59L10.3 9.45l-7.72 7.72c-.78.78-.78 2.05 0 2.83L4 21.41c.39.39.9.59 1.41.59.51 0 1.02-.2 1.41-.59l7.78-7.78 2.81-2.81c.8-.78.8-2.07 0-2.86zM5.41 20L4 18.59l7.72-7.72 1.47 1.35L5.41 20z\"/>\n",
              "  </svg>\n",
              "      </button>\n",
              "      \n",
              "  <style>\n",
              "    .colab-df-container {\n",
              "      display:flex;\n",
              "      flex-wrap:wrap;\n",
              "      gap: 12px;\n",
              "    }\n",
              "\n",
              "    .colab-df-convert {\n",
              "      background-color: #E8F0FE;\n",
              "      border: none;\n",
              "      border-radius: 50%;\n",
              "      cursor: pointer;\n",
              "      display: none;\n",
              "      fill: #1967D2;\n",
              "      height: 32px;\n",
              "      padding: 0 0 0 0;\n",
              "      width: 32px;\n",
              "    }\n",
              "\n",
              "    .colab-df-convert:hover {\n",
              "      background-color: #E2EBFA;\n",
              "      box-shadow: 0px 1px 2px rgba(60, 64, 67, 0.3), 0px 1px 3px 1px rgba(60, 64, 67, 0.15);\n",
              "      fill: #174EA6;\n",
              "    }\n",
              "\n",
              "    [theme=dark] .colab-df-convert {\n",
              "      background-color: #3B4455;\n",
              "      fill: #D2E3FC;\n",
              "    }\n",
              "\n",
              "    [theme=dark] .colab-df-convert:hover {\n",
              "      background-color: #434B5C;\n",
              "      box-shadow: 0px 1px 3px 1px rgba(0, 0, 0, 0.15);\n",
              "      filter: drop-shadow(0px 1px 2px rgba(0, 0, 0, 0.3));\n",
              "      fill: #FFFFFF;\n",
              "    }\n",
              "  </style>\n",
              "\n",
              "      <script>\n",
              "        const buttonEl =\n",
              "          document.querySelector('#df-3a8ca781-aa2e-447b-ba13-437bdd56c120 button.colab-df-convert');\n",
              "        buttonEl.style.display =\n",
              "          google.colab.kernel.accessAllowed ? 'block' : 'none';\n",
              "\n",
              "        async function convertToInteractive(key) {\n",
              "          const element = document.querySelector('#df-3a8ca781-aa2e-447b-ba13-437bdd56c120');\n",
              "          const dataTable =\n",
              "            await google.colab.kernel.invokeFunction('convertToInteractive',\n",
              "                                                     [key], {});\n",
              "          if (!dataTable) return;\n",
              "\n",
              "          const docLinkHtml = 'Like what you see? Visit the ' +\n",
              "            '<a target=\"_blank\" href=https://colab.research.google.com/notebooks/data_table.ipynb>data table notebook</a>'\n",
              "            + ' to learn more about interactive tables.';\n",
              "          element.innerHTML = '';\n",
              "          dataTable['output_type'] = 'display_data';\n",
              "          await google.colab.output.renderOutput(dataTable, element);\n",
              "          const docLink = document.createElement('div');\n",
              "          docLink.innerHTML = docLinkHtml;\n",
              "          element.appendChild(docLink);\n",
              "        }\n",
              "      </script>\n",
              "    </div>\n",
              "  </div>\n",
              "  "
            ]
          },
          "metadata": {},
          "execution_count": 96
        }
      ]
    },
    {
      "cell_type": "code",
      "source": [
        "# Terminar de editar los formatos a int edad, fechas.\n",
        "# HACER MAPA DE CALOR PARA VER LA RELACION ENTE LA VARIABLES, CAMBIAR LOS NOMBRES DE LOS DATASET Y VER LOS VALORES\n",
        "# Que % de nan hay en cada columna y en general\n",
        "\n",
        "# Correlation_matrix=bos.corr().round(2)\n",
        "# sns.heatmap(data=correlation_matrix, annot=True)"
      ],
      "metadata": {
        "id": "5g_28B-8Cyq9"
      },
      "execution_count": null,
      "outputs": []
    },
    {
      "cell_type": "markdown",
      "source": [
        "El coeficiente de correlación oscila entre -1 y 1. Si el valor se acerca a 1, significa que existe una fuerte correlación positiva entre las dos variables. Cuando se acerca a -1, las variables tienen una fuerte correlación negativa."
      ],
      "metadata": {
        "id": "XvBXSrjzd5Uf"
      }
    },
    {
      "cell_type": "code",
      "source": [
        "# Analisamos si tenemos registros nulos o NAN y vemos que aparecen este tipo\n",
        "# de datos sobre todo en las columnas que corregimos y convertimos a numericas\n",
        "dfinal.isnull().sum()"
      ],
      "metadata": {
        "colab": {
          "base_uri": "https://localhost:8080/"
        },
        "id": "JZT82Ba7Clyh",
        "outputId": "43cf5052-c67b-492f-a5ca-54216d4b8b61"
      },
      "execution_count": null,
      "outputs": [
        {
          "output_type": "execute_result",
          "data": {
            "text/plain": [
              "Gravedad_victima           0\n",
              "Fecha_incidente            0\n",
              "Hora_incidente             0\n",
              "Clase_incidente            0\n",
              "Direccion_incidente       12\n",
              "Sexo                       0\n",
              "Edad                    2414\n",
              "Condicion                  0\n",
              "Mes                        0\n",
              "Dia                        0\n",
              "Num_dia                    1\n",
              "Hora                       7\n",
              "Grupo_edad                 0\n",
              "Año                        0\n",
              "Radicado                  49\n",
              "Latitud                20845\n",
              "Longitud               20845\n",
              "Comuna                     0\n",
              "Barrio                   618\n",
              "dtype: int64"
            ]
          },
          "metadata": {},
          "execution_count": 72
        }
      ]
    },
    {
      "cell_type": "markdown",
      "source": [
        "Guardo el dataFrame dfinal en un csv para seguir los análisis de los ciclos posteriores"
      ],
      "metadata": {
        "id": "fgwJu-PDEIGA"
      }
    },
    {
      "cell_type": "code",
      "source": [
        "dfinal.to_csv('/content/drive/MyDrive/IA_TP/TP_ACCIDENTES_VIALES_MEDELLIN/dfinal.csv', index=False)"
      ],
      "metadata": {
        "id": "E8t6M2XRCykQ"
      },
      "execution_count": 100,
      "outputs": []
    },
    {
      "cell_type": "code",
      "source": [
        "# LEER EL SET DE DATOS\n",
        "df1 = pd.read_csv('/content/drive/MyDrive/IA_TP/TP_ACCIDENTES_VIALES_MEDELLIN/dfinal.csv')\n",
        "df1"
      ],
      "metadata": {
        "colab": {
          "base_uri": "https://localhost:8080/",
          "height": 341
        },
        "id": "qBH7uE_XCynx",
        "outputId": "7cdaff00-c973-4eda-ce36-f61311047d0b"
      },
      "execution_count": 99,
      "outputs": [
        {
          "output_type": "error",
          "ename": "FileNotFoundError",
          "evalue": "ignored",
          "traceback": [
            "\u001b[0;31m---------------------------------------------------------------------------\u001b[0m",
            "\u001b[0;31mFileNotFoundError\u001b[0m                         Traceback (most recent call last)",
            "\u001b[0;32m<ipython-input-99-4696f592a12a>\u001b[0m in \u001b[0;36m<module>\u001b[0;34m()\u001b[0m\n\u001b[0;32m----> 1\u001b[0;31m \u001b[0mdf1\u001b[0m \u001b[0;34m=\u001b[0m \u001b[0mpd\u001b[0m\u001b[0;34m.\u001b[0m\u001b[0mread_csv\u001b[0m\u001b[0;34m(\u001b[0m\u001b[0;34m'/content/drive/MyDrive/IA_TP/TP_ACCIDENTES_VIALES_MEDELLIN/dfinal.csv'\u001b[0m\u001b[0;34m)\u001b[0m\u001b[0;34m\u001b[0m\u001b[0;34m\u001b[0m\u001b[0m\n\u001b[0m\u001b[1;32m      2\u001b[0m \u001b[0mdf1\u001b[0m\u001b[0;34m\u001b[0m\u001b[0;34m\u001b[0m\u001b[0m\n",
            "\u001b[0;32m/usr/local/lib/python3.7/dist-packages/pandas/util/_decorators.py\u001b[0m in \u001b[0;36mwrapper\u001b[0;34m(*args, **kwargs)\u001b[0m\n\u001b[1;32m    309\u001b[0m                     \u001b[0mstacklevel\u001b[0m\u001b[0;34m=\u001b[0m\u001b[0mstacklevel\u001b[0m\u001b[0;34m,\u001b[0m\u001b[0;34m\u001b[0m\u001b[0;34m\u001b[0m\u001b[0m\n\u001b[1;32m    310\u001b[0m                 )\n\u001b[0;32m--> 311\u001b[0;31m             \u001b[0;32mreturn\u001b[0m \u001b[0mfunc\u001b[0m\u001b[0;34m(\u001b[0m\u001b[0;34m*\u001b[0m\u001b[0margs\u001b[0m\u001b[0;34m,\u001b[0m \u001b[0;34m**\u001b[0m\u001b[0mkwargs\u001b[0m\u001b[0;34m)\u001b[0m\u001b[0;34m\u001b[0m\u001b[0;34m\u001b[0m\u001b[0m\n\u001b[0m\u001b[1;32m    312\u001b[0m \u001b[0;34m\u001b[0m\u001b[0m\n\u001b[1;32m    313\u001b[0m         \u001b[0;32mreturn\u001b[0m \u001b[0mwrapper\u001b[0m\u001b[0;34m\u001b[0m\u001b[0;34m\u001b[0m\u001b[0m\n",
            "\u001b[0;32m/usr/local/lib/python3.7/dist-packages/pandas/io/parsers/readers.py\u001b[0m in \u001b[0;36mread_csv\u001b[0;34m(filepath_or_buffer, sep, delimiter, header, names, index_col, usecols, squeeze, prefix, mangle_dupe_cols, dtype, engine, converters, true_values, false_values, skipinitialspace, skiprows, skipfooter, nrows, na_values, keep_default_na, na_filter, verbose, skip_blank_lines, parse_dates, infer_datetime_format, keep_date_col, date_parser, dayfirst, cache_dates, iterator, chunksize, compression, thousands, decimal, lineterminator, quotechar, quoting, doublequote, escapechar, comment, encoding, encoding_errors, dialect, error_bad_lines, warn_bad_lines, on_bad_lines, delim_whitespace, low_memory, memory_map, float_precision, storage_options)\u001b[0m\n\u001b[1;32m    584\u001b[0m     \u001b[0mkwds\u001b[0m\u001b[0;34m.\u001b[0m\u001b[0mupdate\u001b[0m\u001b[0;34m(\u001b[0m\u001b[0mkwds_defaults\u001b[0m\u001b[0;34m)\u001b[0m\u001b[0;34m\u001b[0m\u001b[0;34m\u001b[0m\u001b[0m\n\u001b[1;32m    585\u001b[0m \u001b[0;34m\u001b[0m\u001b[0m\n\u001b[0;32m--> 586\u001b[0;31m     \u001b[0;32mreturn\u001b[0m \u001b[0m_read\u001b[0m\u001b[0;34m(\u001b[0m\u001b[0mfilepath_or_buffer\u001b[0m\u001b[0;34m,\u001b[0m \u001b[0mkwds\u001b[0m\u001b[0;34m)\u001b[0m\u001b[0;34m\u001b[0m\u001b[0;34m\u001b[0m\u001b[0m\n\u001b[0m\u001b[1;32m    587\u001b[0m \u001b[0;34m\u001b[0m\u001b[0m\n\u001b[1;32m    588\u001b[0m \u001b[0;34m\u001b[0m\u001b[0m\n",
            "\u001b[0;32m/usr/local/lib/python3.7/dist-packages/pandas/io/parsers/readers.py\u001b[0m in \u001b[0;36m_read\u001b[0;34m(filepath_or_buffer, kwds)\u001b[0m\n\u001b[1;32m    480\u001b[0m \u001b[0;34m\u001b[0m\u001b[0m\n\u001b[1;32m    481\u001b[0m     \u001b[0;31m# Create the parser.\u001b[0m\u001b[0;34m\u001b[0m\u001b[0;34m\u001b[0m\u001b[0;34m\u001b[0m\u001b[0m\n\u001b[0;32m--> 482\u001b[0;31m     \u001b[0mparser\u001b[0m \u001b[0;34m=\u001b[0m \u001b[0mTextFileReader\u001b[0m\u001b[0;34m(\u001b[0m\u001b[0mfilepath_or_buffer\u001b[0m\u001b[0;34m,\u001b[0m \u001b[0;34m**\u001b[0m\u001b[0mkwds\u001b[0m\u001b[0;34m)\u001b[0m\u001b[0;34m\u001b[0m\u001b[0;34m\u001b[0m\u001b[0m\n\u001b[0m\u001b[1;32m    483\u001b[0m \u001b[0;34m\u001b[0m\u001b[0m\n\u001b[1;32m    484\u001b[0m     \u001b[0;32mif\u001b[0m \u001b[0mchunksize\u001b[0m \u001b[0;32mor\u001b[0m \u001b[0miterator\u001b[0m\u001b[0;34m:\u001b[0m\u001b[0;34m\u001b[0m\u001b[0;34m\u001b[0m\u001b[0m\n",
            "\u001b[0;32m/usr/local/lib/python3.7/dist-packages/pandas/io/parsers/readers.py\u001b[0m in \u001b[0;36m__init__\u001b[0;34m(self, f, engine, **kwds)\u001b[0m\n\u001b[1;32m    809\u001b[0m             \u001b[0mself\u001b[0m\u001b[0;34m.\u001b[0m\u001b[0moptions\u001b[0m\u001b[0;34m[\u001b[0m\u001b[0;34m\"has_index_names\"\u001b[0m\u001b[0;34m]\u001b[0m \u001b[0;34m=\u001b[0m \u001b[0mkwds\u001b[0m\u001b[0;34m[\u001b[0m\u001b[0;34m\"has_index_names\"\u001b[0m\u001b[0;34m]\u001b[0m\u001b[0;34m\u001b[0m\u001b[0;34m\u001b[0m\u001b[0m\n\u001b[1;32m    810\u001b[0m \u001b[0;34m\u001b[0m\u001b[0m\n\u001b[0;32m--> 811\u001b[0;31m         \u001b[0mself\u001b[0m\u001b[0;34m.\u001b[0m\u001b[0m_engine\u001b[0m \u001b[0;34m=\u001b[0m \u001b[0mself\u001b[0m\u001b[0;34m.\u001b[0m\u001b[0m_make_engine\u001b[0m\u001b[0;34m(\u001b[0m\u001b[0mself\u001b[0m\u001b[0;34m.\u001b[0m\u001b[0mengine\u001b[0m\u001b[0;34m)\u001b[0m\u001b[0;34m\u001b[0m\u001b[0;34m\u001b[0m\u001b[0m\n\u001b[0m\u001b[1;32m    812\u001b[0m \u001b[0;34m\u001b[0m\u001b[0m\n\u001b[1;32m    813\u001b[0m     \u001b[0;32mdef\u001b[0m \u001b[0mclose\u001b[0m\u001b[0;34m(\u001b[0m\u001b[0mself\u001b[0m\u001b[0;34m)\u001b[0m\u001b[0;34m:\u001b[0m\u001b[0;34m\u001b[0m\u001b[0;34m\u001b[0m\u001b[0m\n",
            "\u001b[0;32m/usr/local/lib/python3.7/dist-packages/pandas/io/parsers/readers.py\u001b[0m in \u001b[0;36m_make_engine\u001b[0;34m(self, engine)\u001b[0m\n\u001b[1;32m   1038\u001b[0m             )\n\u001b[1;32m   1039\u001b[0m         \u001b[0;31m# error: Too many arguments for \"ParserBase\"\u001b[0m\u001b[0;34m\u001b[0m\u001b[0;34m\u001b[0m\u001b[0;34m\u001b[0m\u001b[0m\n\u001b[0;32m-> 1040\u001b[0;31m         \u001b[0;32mreturn\u001b[0m \u001b[0mmapping\u001b[0m\u001b[0;34m[\u001b[0m\u001b[0mengine\u001b[0m\u001b[0;34m]\u001b[0m\u001b[0;34m(\u001b[0m\u001b[0mself\u001b[0m\u001b[0;34m.\u001b[0m\u001b[0mf\u001b[0m\u001b[0;34m,\u001b[0m \u001b[0;34m**\u001b[0m\u001b[0mself\u001b[0m\u001b[0;34m.\u001b[0m\u001b[0moptions\u001b[0m\u001b[0;34m)\u001b[0m  \u001b[0;31m# type: ignore[call-arg]\u001b[0m\u001b[0;34m\u001b[0m\u001b[0;34m\u001b[0m\u001b[0m\n\u001b[0m\u001b[1;32m   1041\u001b[0m \u001b[0;34m\u001b[0m\u001b[0m\n\u001b[1;32m   1042\u001b[0m     \u001b[0;32mdef\u001b[0m \u001b[0m_failover_to_python\u001b[0m\u001b[0;34m(\u001b[0m\u001b[0mself\u001b[0m\u001b[0;34m)\u001b[0m\u001b[0;34m:\u001b[0m\u001b[0;34m\u001b[0m\u001b[0;34m\u001b[0m\u001b[0m\n",
            "\u001b[0;32m/usr/local/lib/python3.7/dist-packages/pandas/io/parsers/c_parser_wrapper.py\u001b[0m in \u001b[0;36m__init__\u001b[0;34m(self, src, **kwds)\u001b[0m\n\u001b[1;32m     49\u001b[0m \u001b[0;34m\u001b[0m\u001b[0m\n\u001b[1;32m     50\u001b[0m         \u001b[0;31m# open handles\u001b[0m\u001b[0;34m\u001b[0m\u001b[0;34m\u001b[0m\u001b[0;34m\u001b[0m\u001b[0m\n\u001b[0;32m---> 51\u001b[0;31m         \u001b[0mself\u001b[0m\u001b[0;34m.\u001b[0m\u001b[0m_open_handles\u001b[0m\u001b[0;34m(\u001b[0m\u001b[0msrc\u001b[0m\u001b[0;34m,\u001b[0m \u001b[0mkwds\u001b[0m\u001b[0;34m)\u001b[0m\u001b[0;34m\u001b[0m\u001b[0;34m\u001b[0m\u001b[0m\n\u001b[0m\u001b[1;32m     52\u001b[0m         \u001b[0;32massert\u001b[0m \u001b[0mself\u001b[0m\u001b[0;34m.\u001b[0m\u001b[0mhandles\u001b[0m \u001b[0;32mis\u001b[0m \u001b[0;32mnot\u001b[0m \u001b[0;32mNone\u001b[0m\u001b[0;34m\u001b[0m\u001b[0;34m\u001b[0m\u001b[0m\n\u001b[1;32m     53\u001b[0m \u001b[0;34m\u001b[0m\u001b[0m\n",
            "\u001b[0;32m/usr/local/lib/python3.7/dist-packages/pandas/io/parsers/base_parser.py\u001b[0m in \u001b[0;36m_open_handles\u001b[0;34m(self, src, kwds)\u001b[0m\n\u001b[1;32m    227\u001b[0m             \u001b[0mmemory_map\u001b[0m\u001b[0;34m=\u001b[0m\u001b[0mkwds\u001b[0m\u001b[0;34m.\u001b[0m\u001b[0mget\u001b[0m\u001b[0;34m(\u001b[0m\u001b[0;34m\"memory_map\"\u001b[0m\u001b[0;34m,\u001b[0m \u001b[0;32mFalse\u001b[0m\u001b[0;34m)\u001b[0m\u001b[0;34m,\u001b[0m\u001b[0;34m\u001b[0m\u001b[0;34m\u001b[0m\u001b[0m\n\u001b[1;32m    228\u001b[0m             \u001b[0mstorage_options\u001b[0m\u001b[0;34m=\u001b[0m\u001b[0mkwds\u001b[0m\u001b[0;34m.\u001b[0m\u001b[0mget\u001b[0m\u001b[0;34m(\u001b[0m\u001b[0;34m\"storage_options\"\u001b[0m\u001b[0;34m,\u001b[0m \u001b[0;32mNone\u001b[0m\u001b[0;34m)\u001b[0m\u001b[0;34m,\u001b[0m\u001b[0;34m\u001b[0m\u001b[0;34m\u001b[0m\u001b[0m\n\u001b[0;32m--> 229\u001b[0;31m             \u001b[0merrors\u001b[0m\u001b[0;34m=\u001b[0m\u001b[0mkwds\u001b[0m\u001b[0;34m.\u001b[0m\u001b[0mget\u001b[0m\u001b[0;34m(\u001b[0m\u001b[0;34m\"encoding_errors\"\u001b[0m\u001b[0;34m,\u001b[0m \u001b[0;34m\"strict\"\u001b[0m\u001b[0;34m)\u001b[0m\u001b[0;34m,\u001b[0m\u001b[0;34m\u001b[0m\u001b[0;34m\u001b[0m\u001b[0m\n\u001b[0m\u001b[1;32m    230\u001b[0m         )\n\u001b[1;32m    231\u001b[0m \u001b[0;34m\u001b[0m\u001b[0m\n",
            "\u001b[0;32m/usr/local/lib/python3.7/dist-packages/pandas/io/common.py\u001b[0m in \u001b[0;36mget_handle\u001b[0;34m(path_or_buf, mode, encoding, compression, memory_map, is_text, errors, storage_options)\u001b[0m\n\u001b[1;32m    705\u001b[0m                 \u001b[0mencoding\u001b[0m\u001b[0;34m=\u001b[0m\u001b[0mioargs\u001b[0m\u001b[0;34m.\u001b[0m\u001b[0mencoding\u001b[0m\u001b[0;34m,\u001b[0m\u001b[0;34m\u001b[0m\u001b[0;34m\u001b[0m\u001b[0m\n\u001b[1;32m    706\u001b[0m                 \u001b[0merrors\u001b[0m\u001b[0;34m=\u001b[0m\u001b[0merrors\u001b[0m\u001b[0;34m,\u001b[0m\u001b[0;34m\u001b[0m\u001b[0;34m\u001b[0m\u001b[0m\n\u001b[0;32m--> 707\u001b[0;31m                 \u001b[0mnewline\u001b[0m\u001b[0;34m=\u001b[0m\u001b[0;34m\"\"\u001b[0m\u001b[0;34m,\u001b[0m\u001b[0;34m\u001b[0m\u001b[0;34m\u001b[0m\u001b[0m\n\u001b[0m\u001b[1;32m    708\u001b[0m             )\n\u001b[1;32m    709\u001b[0m         \u001b[0;32melse\u001b[0m\u001b[0;34m:\u001b[0m\u001b[0;34m\u001b[0m\u001b[0;34m\u001b[0m\u001b[0m\n",
            "\u001b[0;31mFileNotFoundError\u001b[0m: [Errno 2] No such file or directory: '/content/drive/MyDrive/IA_TP/TP_ACCIDENTES_VIALES_MEDELLIN/dfinal.csv'"
          ]
        }
      ]
    }
  ]
}